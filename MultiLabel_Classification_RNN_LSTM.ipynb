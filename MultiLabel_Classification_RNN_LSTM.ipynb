{
  "nbformat": 4,
  "nbformat_minor": 0,
  "metadata": {
    "colab": {
      "name": "NLP243_HW2.ipynb",
      "provenance": [],
      "collapsed_sections": [
        "qWU2ZDir2q0j"
      ]
    },
    "kernelspec": {
      "name": "python3",
      "display_name": "Python 3"
    },
    "accelerator": "GPU"
  },
  "cells": [
    {
      "cell_type": "markdown",
      "metadata": {
        "id": "48YGFqrAy6zf"
      },
      "source": [
        "# 1. Load Data and Import Libraries"
      ]
    },
    {
      "cell_type": "code",
      "metadata": {
        "id": "fM2S4yCsR7i6"
      },
      "source": [
        "#string matching\n",
        "import re \n",
        "\n",
        "#reading files\n",
        "import pandas as pd\n",
        "\n",
        "#array processing\n",
        "import numpy as np\n",
        "\n",
        "#visualization\n",
        "import matplotlib.pyplot as plt  \n",
        "\n",
        "#for metrics\n",
        "from sklearn import metrics\n",
        "\n",
        "#for seed\n",
        "import random\n",
        "\n",
        "# to one hot encode labels\n",
        "from sklearn.preprocessing import MultiLabelBinarizer\n",
        "\n",
        "#defining tensors\n",
        "import torch\n",
        "\n",
        "#layers\n",
        "from torch import nn\n",
        "\n",
        "#layers and wrappers\n",
        "from torch.nn import Sequential, Linear,  ReLU, Sigmoid, Dropout, BCELoss, Embedding, RNN, LSTM, LeakyReLU\n",
        "\n",
        "#handling text data\n",
        "from torchtext import data \n",
        "from torchtext.legacy import data"
      ],
      "execution_count": 1674,
      "outputs": []
    },
    {
      "cell_type": "code",
      "metadata": {
        "id": "JD8BvEEFR_40"
      },
      "source": [
        "# load the dataset\n",
        "questions_df = pd.read_csv('train_data_merged_labels.csv')\n"
      ],
      "execution_count": 1675,
      "outputs": []
    },
    {
      "cell_type": "code",
      "metadata": {
        "id": "xVXnubxesXM7"
      },
      "source": [
        "# load the test dataset\n",
        "test_df = pd.read_csv('test_data.csv')"
      ],
      "execution_count": 1676,
      "outputs": []
    },
    {
      "cell_type": "code",
      "metadata": {
        "id": "mE88kY9WR_-n",
        "colab": {
          "base_uri": "https://localhost:8080/",
          "height": 204
        },
        "outputId": "4c8abb69-05a4-4892-a1cb-712ea7f6d5c0"
      },
      "source": [
        "#Glance at the first 5 rows\n",
        "\n",
        "questions_df.head()"
      ],
      "execution_count": 1677,
      "outputs": [
        {
          "output_type": "execute_result",
          "data": {
            "text/html": [
              "<div>\n",
              "<style scoped>\n",
              "    .dataframe tbody tr th:only-of-type {\n",
              "        vertical-align: middle;\n",
              "    }\n",
              "\n",
              "    .dataframe tbody tr th {\n",
              "        vertical-align: top;\n",
              "    }\n",
              "\n",
              "    .dataframe thead th {\n",
              "        text-align: right;\n",
              "    }\n",
              "</style>\n",
              "<table border=\"1\" class=\"dataframe\">\n",
              "  <thead>\n",
              "    <tr style=\"text-align: right;\">\n",
              "      <th></th>\n",
              "      <th>utterances</th>\n",
              "      <th>Core Relations</th>\n",
              "    </tr>\n",
              "  </thead>\n",
              "  <tbody>\n",
              "    <tr>\n",
              "      <th>0</th>\n",
              "      <td>who plays luke on star wars new hope</td>\n",
              "      <td>movie.starring.actor_movie.starring.character</td>\n",
              "    </tr>\n",
              "    <tr>\n",
              "      <th>1</th>\n",
              "      <td>show credits for the godfather</td>\n",
              "      <td>movie.starring.actor</td>\n",
              "    </tr>\n",
              "    <tr>\n",
              "      <th>2</th>\n",
              "      <td>who was the main actor in the exorcist</td>\n",
              "      <td>movie.starring.actor</td>\n",
              "    </tr>\n",
              "    <tr>\n",
              "      <th>3</th>\n",
              "      <td>who played dory on finding nemo</td>\n",
              "      <td>movie.starring.actor_movie.starring.character</td>\n",
              "    </tr>\n",
              "    <tr>\n",
              "      <th>4</th>\n",
              "      <td>who was the female lead in resident evil</td>\n",
              "      <td>actor.gender_movie.starring.actor</td>\n",
              "    </tr>\n",
              "  </tbody>\n",
              "</table>\n",
              "</div>"
            ],
            "text/plain": [
              "                                 utterances                                 Core Relations\n",
              "0      who plays luke on star wars new hope  movie.starring.actor_movie.starring.character\n",
              "1            show credits for the godfather                           movie.starring.actor\n",
              "2    who was the main actor in the exorcist                           movie.starring.actor\n",
              "3           who played dory on finding nemo  movie.starring.actor_movie.starring.character\n",
              "4  who was the female lead in resident evil              actor.gender_movie.starring.actor"
            ]
          },
          "metadata": {},
          "execution_count": 1677
        }
      ]
    },
    {
      "cell_type": "code",
      "metadata": {
        "id": "qxvK_9YFG2M1",
        "colab": {
          "base_uri": "https://localhost:8080/"
        },
        "outputId": "e00d05e0-6d53-4c30-a974-3271aaa3ba04"
      },
      "source": [
        "#shape of the dataset\n",
        "questions_df.shape\n",
        "#print(type(questions_df['Core Relations']))"
      ],
      "execution_count": 1678,
      "outputs": [
        {
          "output_type": "execute_result",
          "data": {
            "text/plain": [
              "(2253, 2)"
            ]
          },
          "metadata": {},
          "execution_count": 1678
        }
      ]
    },
    {
      "cell_type": "code",
      "metadata": {
        "id": "o7wSglDJSGWf",
        "colab": {
          "base_uri": "https://localhost:8080/",
          "height": 204
        },
        "outputId": "f3376c88-d0da-450c-d95d-e6546bbeb9a2"
      },
      "source": [
        "#Take a glance at first 5 rows\n",
        "test_df.head()"
      ],
      "execution_count": 1679,
      "outputs": [
        {
          "output_type": "execute_result",
          "data": {
            "text/html": [
              "<div>\n",
              "<style scoped>\n",
              "    .dataframe tbody tr th:only-of-type {\n",
              "        vertical-align: middle;\n",
              "    }\n",
              "\n",
              "    .dataframe tbody tr th {\n",
              "        vertical-align: top;\n",
              "    }\n",
              "\n",
              "    .dataframe thead th {\n",
              "        text-align: right;\n",
              "    }\n",
              "</style>\n",
              "<table border=\"1\" class=\"dataframe\">\n",
              "  <thead>\n",
              "    <tr style=\"text-align: right;\">\n",
              "      <th></th>\n",
              "      <th>utterances</th>\n",
              "    </tr>\n",
              "  </thead>\n",
              "  <tbody>\n",
              "    <tr>\n",
              "      <th>0</th>\n",
              "      <td>star of thor</td>\n",
              "    </tr>\n",
              "    <tr>\n",
              "      <th>1</th>\n",
              "      <td>who is in the movie the campaign</td>\n",
              "    </tr>\n",
              "    <tr>\n",
              "      <th>2</th>\n",
              "      <td>list the cast of the movie the campaign</td>\n",
              "    </tr>\n",
              "    <tr>\n",
              "      <th>3</th>\n",
              "      <td>who was in twilight</td>\n",
              "    </tr>\n",
              "    <tr>\n",
              "      <th>4</th>\n",
              "      <td>who is in vulguria</td>\n",
              "    </tr>\n",
              "  </tbody>\n",
              "</table>\n",
              "</div>"
            ],
            "text/plain": [
              "                                utterances\n",
              "0                             star of thor\n",
              "1         who is in the movie the campaign\n",
              "2  list the cast of the movie the campaign\n",
              "3                      who was in twilight\n",
              "4                       who is in vulguria"
            ]
          },
          "metadata": {},
          "execution_count": 1679
        }
      ]
    },
    {
      "cell_type": "code",
      "metadata": {
        "id": "Xz1-htTsSGM8",
        "colab": {
          "base_uri": "https://localhost:8080/"
        },
        "outputId": "c46f0ee1-40f4-4b8e-f08c-046daa5e6434"
      },
      "source": [
        "# No. of unique tags\n",
        "len(questions_df['Core Relations'].unique())"
      ],
      "execution_count": 1680,
      "outputs": [
        {
          "output_type": "execute_result",
          "data": {
            "text/plain": [
              "47"
            ]
          },
          "metadata": {},
          "execution_count": 1680
        }
      ]
    },
    {
      "cell_type": "markdown",
      "metadata": {
        "id": "5nQjFYQtTNH6"
      },
      "source": [
        "# 2. Dataset Preparation"
      ]
    },
    {
      "cell_type": "markdown",
      "metadata": {
        "id": "Y1ZvB-t9TYKh"
      },
      "source": [
        "## 2.1 Filter Questions with respect to Top-20 Tags"
      ]
    },
    {
      "cell_type": "code",
      "metadata": {
        "id": "n9XRjQ_wSmvh"
      },
      "source": [
        "# check occurence of each tag\n",
        "freq={}\n",
        "for i in questions_df['Core Relations']:\n",
        "  #for j in i:\n",
        "  if i in freq.keys():\n",
        "    freq[i] = freq[i] + 1\n",
        "  else:\n",
        "    freq[i] = 1"
      ],
      "execution_count": 1681,
      "outputs": []
    },
    {
      "cell_type": "code",
      "metadata": {
        "id": "DSVPSJnCSvUt",
        "colab": {
          "base_uri": "https://localhost:8080/"
        },
        "outputId": "019dd596-9741-44f6-cf6a-8f2e9d9842af"
      },
      "source": [
        "# sort the dictionary in descending order\n",
        "freq = dict(sorted(freq.items(), key=lambda x:x[1],reverse=True))\n",
        "print(freq)"
      ],
      "execution_count": 1682,
      "outputs": [
        {
          "output_type": "stream",
          "name": "stdout",
          "text": [
            "{'movie.directed_by': 314, 'none': 312, 'movie.starring.actor': 294, 'movie.rating': 186, 'movie.produced_by': 170, 'movie.initial_release_date': 141, 'movie.language': 137, 'movie.country': 135, 'movie.genre': 100, 'movie.subjects': 90, 'movie.production_companies': 84, 'movie.country_movie.language': 72, 'movie.estimated_budget': 67, 'movie.gross_revenue': 25, 'movie.starring.actor_movie.starring.character': 19, 'movie.initial_release_date_movie.starring.actor': 12, 'movie.initial_release_date_movie.rating': 12, 'actor.gender_movie.starring.actor': 8, 'movie.directed_by_movie.initial_release_date': 7, 'movie.directed_by_movie.starring.actor': 6, 'movie.initial_release_date_movie.production_companies': 6, 'movie.country_movie.genre': 6, 'movie.country_movie.genre_movie.language': 5, 'gr.amount_movie.gross_revenue': 5, 'person.date_of_birth': 4, 'movie.genre_movie.rating': 4, 'movie.starring.character': 3, 'movie.music': 3, 'movie.directed_by_movie.genre': 3, 'movie.genre_movie.language': 3, 'movie.genre_movie.subjects': 3, 'movie.country_movie.rating': 2, 'movie.directed_by_movie.estimated_budget': 1, 'movie.locations': 1, 'movie.directed_by_movie.locations': 1, 'movie.directed_by_movie.produced_by': 1, 'movie.directed_by_movie.subjects': 1, 'movie.genre_movie.production_companies': 1, 'movie.genre_movie.gross_revenue': 1, 'movie.country_movie.genre_movie.language_movie.rating': 1, 'movie.country_movie.locations': 1, 'movie.directed_by_movie.rating': 1, 'movie.rating_movie.starring.actor': 1, 'movie.production_companies_movie.rating': 1, 'movie.initial_release_date_movie.produced_by': 1, 'movie.genre_movie.initial_release_date': 1, 'movie.produced_by_movie.production_companies': 1}\n"
          ]
        }
      ]
    },
    {
      "cell_type": "code",
      "metadata": {
        "id": "PxDCpuGFSvhH",
        "colab": {
          "base_uri": "https://localhost:8080/"
        },
        "outputId": "20c4aabf-1e08-4322-fb13-43bc333cd8ca"
      },
      "source": [
        "# Top 10 most frequent tags\n",
        "common_tags = list(freq.keys())[:20]\n",
        "print(common_tags)\n"
      ],
      "execution_count": 1683,
      "outputs": [
        {
          "output_type": "stream",
          "name": "stdout",
          "text": [
            "['movie.directed_by', 'none', 'movie.starring.actor', 'movie.rating', 'movie.produced_by', 'movie.initial_release_date', 'movie.language', 'movie.country', 'movie.genre', 'movie.subjects', 'movie.production_companies', 'movie.country_movie.language', 'movie.estimated_budget', 'movie.gross_revenue', 'movie.starring.actor_movie.starring.character', 'movie.initial_release_date_movie.starring.actor', 'movie.initial_release_date_movie.rating', 'actor.gender_movie.starring.actor', 'movie.directed_by_movie.initial_release_date', 'movie.directed_by_movie.starring.actor']\n"
          ]
        }
      ]
    },
    {
      "cell_type": "code",
      "metadata": {
        "id": "YNksVjF6SvqS"
      },
      "source": [
        "#finding utterances associated with common tags\n",
        "x=[]\n",
        "y=[]\n",
        "\n",
        "for i in range(len(questions_df['Core Relations'])):  \n",
        "  temp=[]\n",
        "  if questions_df['Core Relations'][i] in common_tags:\n",
        "    temp.append(questions_df['Core Relations'][i])\n",
        "    x.append(questions_df['utterances'][i])\n",
        "    y.append(temp)\n",
        "    "
      ],
      "execution_count": 1684,
      "outputs": []
    },
    {
      "cell_type": "code",
      "metadata": {
        "id": "Ck6w3DsfS82D",
        "colab": {
          "base_uri": "https://localhost:8080/"
        },
        "outputId": "39c8507a-2d35-404e-9f65-1a0375cd0e0a"
      },
      "source": [
        "# number of utterances left\n",
        "len(x)"
      ],
      "execution_count": 1685,
      "outputs": [
        {
          "output_type": "execute_result",
          "data": {
            "text/plain": [
              "2191"
            ]
          },
          "metadata": {},
          "execution_count": 1685
        }
      ]
    },
    {
      "cell_type": "code",
      "metadata": {
        "id": "2tLZqaHQ-4Bz",
        "colab": {
          "base_uri": "https://localhost:8080/"
        },
        "outputId": "96bff791-10c4-47bc-ac60-eddd92d4ba30"
      },
      "source": [
        "#first 5 tags\n",
        "y[:5]"
      ],
      "execution_count": 1686,
      "outputs": [
        {
          "output_type": "execute_result",
          "data": {
            "text/plain": [
              "[['movie.starring.actor_movie.starring.character'],\n",
              " ['movie.starring.actor'],\n",
              " ['movie.starring.actor'],\n",
              " ['movie.starring.actor_movie.starring.character'],\n",
              " ['actor.gender_movie.starring.actor']]"
            ]
          },
          "metadata": {},
          "execution_count": 1686
        }
      ]
    },
    {
      "cell_type": "code",
      "metadata": {
        "id": "AfTeISu8A3KT"
      },
      "source": [
        "#combining the labels by space\n",
        "y = [ \",\".join([str(j) for j in i ]) for i in y]"
      ],
      "execution_count": 1687,
      "outputs": []
    },
    {
      "cell_type": "code",
      "metadata": {
        "id": "LnceeB6B_Tbd",
        "colab": {
          "base_uri": "https://localhost:8080/"
        },
        "outputId": "5b0ebb28-ae6c-41dd-a443-99d163d46af0"
      },
      "source": [
        "#labels after converting to string\n",
        "y[:5]"
      ],
      "execution_count": 1688,
      "outputs": [
        {
          "output_type": "execute_result",
          "data": {
            "text/plain": [
              "['movie.starring.actor_movie.starring.character',\n",
              " 'movie.starring.actor',\n",
              " 'movie.starring.actor',\n",
              " 'movie.starring.actor_movie.starring.character',\n",
              " 'actor.gender_movie.starring.actor']"
            ]
          },
          "metadata": {},
          "execution_count": 1688
        }
      ]
    },
    {
      "cell_type": "code",
      "metadata": {
        "id": "ZYblHXWVgt_S"
      },
      "source": [
        "#save to dataframe\n",
        "dframe = pd.DataFrame({'utterances':x,'tags':y})"
      ],
      "execution_count": 1689,
      "outputs": []
    },
    {
      "cell_type": "code",
      "metadata": {
        "id": "fGUumAqqBpDa",
        "colab": {
          "base_uri": "https://localhost:8080/",
          "height": 204
        },
        "outputId": "f4eb2025-89be-4998-fb43-40a92110c9d5"
      },
      "source": [
        "#first 5 rows\n",
        "dframe.head()"
      ],
      "execution_count": 1690,
      "outputs": [
        {
          "output_type": "execute_result",
          "data": {
            "text/html": [
              "<div>\n",
              "<style scoped>\n",
              "    .dataframe tbody tr th:only-of-type {\n",
              "        vertical-align: middle;\n",
              "    }\n",
              "\n",
              "    .dataframe tbody tr th {\n",
              "        vertical-align: top;\n",
              "    }\n",
              "\n",
              "    .dataframe thead th {\n",
              "        text-align: right;\n",
              "    }\n",
              "</style>\n",
              "<table border=\"1\" class=\"dataframe\">\n",
              "  <thead>\n",
              "    <tr style=\"text-align: right;\">\n",
              "      <th></th>\n",
              "      <th>utterances</th>\n",
              "      <th>tags</th>\n",
              "    </tr>\n",
              "  </thead>\n",
              "  <tbody>\n",
              "    <tr>\n",
              "      <th>0</th>\n",
              "      <td>who plays luke on star wars new hope</td>\n",
              "      <td>movie.starring.actor_movie.starring.character</td>\n",
              "    </tr>\n",
              "    <tr>\n",
              "      <th>1</th>\n",
              "      <td>show credits for the godfather</td>\n",
              "      <td>movie.starring.actor</td>\n",
              "    </tr>\n",
              "    <tr>\n",
              "      <th>2</th>\n",
              "      <td>who was the main actor in the exorcist</td>\n",
              "      <td>movie.starring.actor</td>\n",
              "    </tr>\n",
              "    <tr>\n",
              "      <th>3</th>\n",
              "      <td>who played dory on finding nemo</td>\n",
              "      <td>movie.starring.actor_movie.starring.character</td>\n",
              "    </tr>\n",
              "    <tr>\n",
              "      <th>4</th>\n",
              "      <td>who was the female lead in resident evil</td>\n",
              "      <td>actor.gender_movie.starring.actor</td>\n",
              "    </tr>\n",
              "  </tbody>\n",
              "</table>\n",
              "</div>"
            ],
            "text/plain": [
              "                                 utterances                                           tags\n",
              "0      who plays luke on star wars new hope  movie.starring.actor_movie.starring.character\n",
              "1            show credits for the godfather                           movie.starring.actor\n",
              "2    who was the main actor in the exorcist                           movie.starring.actor\n",
              "3           who played dory on finding nemo  movie.starring.actor_movie.starring.character\n",
              "4  who was the female lead in resident evil              actor.gender_movie.starring.actor"
            ]
          },
          "metadata": {},
          "execution_count": 1690
        }
      ]
    },
    {
      "cell_type": "code",
      "metadata": {
        "id": "27-gnDPi60yg"
      },
      "source": [
        "#save to csv\n",
        "dframe.to_csv('stack.csv',index=False)"
      ],
      "execution_count": 1691,
      "outputs": []
    },
    {
      "cell_type": "markdown",
      "metadata": {
        "id": "F5E3gvtJ0_eC"
      },
      "source": [
        "# 3. Text Preprocessing"
      ]
    },
    {
      "cell_type": "markdown",
      "metadata": {
        "id": "IM2i7pJ-1RLm"
      },
      "source": [
        "## 3.1 Text Cleaning"
      ]
    },
    {
      "cell_type": "code",
      "metadata": {
        "id": "ruV5khtmAiDU",
        "colab": {
          "base_uri": "https://localhost:8080/"
        },
        "outputId": "4c623742-b75d-4375-bc43-14efdb14c8eb"
      },
      "source": [
        "from nltk.corpus import stopwords\n",
        "import nltk\n",
        "nltk.download('stopwords')\n",
        "stop_words = set(stopwords.words('english'))\n",
        "def cleaner(text):\n",
        "\n",
        "  text = BeautifulSoup(text).get_text()\n",
        "  \n",
        "  # fetch alphabetic characters\n",
        "  text = re.sub(\"[^a-zA-Z]\", \" \", text)\n",
        "\n",
        "  # convert text to lower case\n",
        "  text = text.lower()\n",
        "  \n",
        "  # split text into tokens to remove whitespaces\n",
        "  tokens = text.split()\n",
        "  tokens = [w for w in tokens if not w in stop_words]\n",
        "  #tokens = ' '.join(no_stopword_text)\n",
        "  \n",
        "  return tokens"
      ],
      "execution_count": 1692,
      "outputs": [
        {
          "output_type": "stream",
          "name": "stdout",
          "text": [
            "[nltk_data] Downloading package stopwords to /root/nltk_data...\n",
            "[nltk_data]   Package stopwords is already up-to-date!\n"
          ]
        }
      ]
    },
    {
      "cell_type": "code",
      "metadata": {
        "id": "SW0eN1UnrchO"
      },
      "source": [
        "#define field object for utterances\n",
        "max_len = 100\n",
        "TEXT = data.Field(tokenize=cleaner, batch_first=True, fix_length=max_len)"
      ],
      "execution_count": 1693,
      "outputs": []
    },
    {
      "cell_type": "code",
      "metadata": {
        "id": "Z9PfZ04R8NkK"
      },
      "source": [
        "#define field object for label\n",
        "LABEL = data.LabelField(batch_first=True)"
      ],
      "execution_count": 1694,
      "outputs": []
    },
    {
      "cell_type": "code",
      "metadata": {
        "id": "GFoE3QDb8NfI"
      },
      "source": [
        "#define a list of tuple with field objects\n",
        "fields = [('utterances',TEXT),('tags', LABEL)]"
      ],
      "execution_count": 1695,
      "outputs": []
    },
    {
      "cell_type": "code",
      "metadata": {
        "id": "ZpOti-uNS8z_"
      },
      "source": [
        "#reading the dataset\n",
        "training_data = data.TabularDataset(path = 'stack.csv', format = 'csv', fields = fields, skip_header = True)"
      ],
      "execution_count": 1696,
      "outputs": []
    },
    {
      "cell_type": "code",
      "metadata": {
        "id": "w_U5N4OsS_ZI",
        "colab": {
          "base_uri": "https://localhost:8080/"
        },
        "outputId": "65f0b8ae-120b-4281-caeb-ce42b86ec5db"
      },
      "source": [
        "print(training_data)"
      ],
      "execution_count": 1697,
      "outputs": [
        {
          "output_type": "stream",
          "name": "stdout",
          "text": [
            "<torchtext.legacy.data.dataset.TabularDataset object at 0x7feae8f7b810>\n"
          ]
        }
      ]
    },
    {
      "cell_type": "code",
      "metadata": {
        "id": "t_imud4VBcGP",
        "colab": {
          "base_uri": "https://localhost:8080/"
        },
        "outputId": "4e66ca57-6274-4571-c1cb-14b2ba6fca43"
      },
      "source": [
        "#print preprocessed text\n",
        "print(vars(training_data.examples[0]))"
      ],
      "execution_count": 1698,
      "outputs": [
        {
          "output_type": "stream",
          "name": "stdout",
          "text": [
            "{'utterances': ['plays', 'luke', 'star', 'wars', 'new', 'hope'], 'tags': 'movie.starring.actor_movie.starring.character'}\n"
          ]
        }
      ]
    },
    {
      "cell_type": "code",
      "metadata": {
        "id": "40EZTlPsBVVA"
      },
      "source": [
        "train_data, valid_data = training_data.split(split_ratio=0.8, random_state = random.seed(32))"
      ],
      "execution_count": 1699,
      "outputs": []
    },
    {
      "cell_type": "markdown",
      "metadata": {
        "id": "d0DyjPap1elw"
      },
      "source": [
        "## 3.2 Text Representation"
      ]
    },
    {
      "cell_type": "code",
      "metadata": {
        "id": "cB5kUf-g9fV8"
      },
      "source": [
        "#preparing the vocabulary for the text\n",
        "TEXT.build_vocab(train_data, min_freq=3)"
      ],
      "execution_count": 1700,
      "outputs": []
    },
    {
      "cell_type": "code",
      "metadata": {
        "id": "t9HPCTmUjvvd",
        "colab": {
          "base_uri": "https://localhost:8080/"
        },
        "outputId": "e078e3f5-2fd5-4591-e983-ef8d6c94b4f9"
      },
      "source": [
        "#No. of unique words\n",
        "len(TEXT.vocab)"
      ],
      "execution_count": 1701,
      "outputs": [
        {
          "output_type": "execute_result",
          "data": {
            "text/plain": [
              "343"
            ]
          },
          "metadata": {},
          "execution_count": 1701
        }
      ]
    },
    {
      "cell_type": "code",
      "metadata": {
        "id": "BivXzGMDEUMv"
      },
      "source": [
        "#word index\n",
        "#list(TEXT.vocab.stoi.items())"
      ],
      "execution_count": 1702,
      "outputs": []
    },
    {
      "cell_type": "code",
      "metadata": {
        "id": "KH4Hr9bsHAD-"
      },
      "source": [
        "def fetch_text(examples):\n",
        "\n",
        "  text=[]\n",
        "  for example in examples:\n",
        "    utterance = vars(example)['utterances']\n",
        "    text.append(utterance)\n",
        "    \n",
        "  return text"
      ],
      "execution_count": 1703,
      "outputs": []
    },
    {
      "cell_type": "code",
      "metadata": {
        "id": "fP6tbe1YXhcT",
        "colab": {
          "base_uri": "https://localhost:8080/"
        },
        "outputId": "3eb97094-871f-4119-d835-95425f54d6ee"
      },
      "source": [
        "train_text = fetch_text(train_data)\n",
        "valid_text = fetch_text(valid_data)\n",
        "print(train_text)"
      ],
      "execution_count": 1704,
      "outputs": [
        {
          "output_type": "stream",
          "name": "stdout",
          "text": [
            "[['release', 'date', 'vow'], ['find', 'romance', 'movies'], ['genre', 'movie'], ['find', 'movies', 'hugh', 'jackman'], ['want', 'see', 'infomation', 'movie', 'dirty', 'dancing'], ['goto', 'lionsgate'], ['played', 'esme', 'twilight'], ['dark', 'night', 'budget'], ['release', 'date', 'watch'], ['home', 'movie', 'english'], ['producer', 'amazing', 'spiderman'], ['search', 'warner', 'brothers', 'movies'], ['many', 'producers', 'movie', 'hitch'], ['find', 'rating', 'movie', 'step'], ['open', 'page', 'ferrell'], ['search', 'r', 'rated', 'movies'], ['played', 'dory', 'finding', 'nemo'], ['find', 'director', 'et'], ['audience', 'watch', 'black', 'swan'], ['see', 'cast', 'crew', 'movie', 'july'], ['producer', 'hitch'], ['want', 'watch', 'movies', 'germany'], ['show', 'movies', 'produced', 'stephen', 'spielberg'], ['canadian', 'movies'], ['please', 'search', 'movies', 'god'], ['please', 'tell', 'karate', 'kid', 'released'], ['finding', 'nemo'], ['made', 'field', 'dreams'], ['barfi'], ['age', 'black', 'swan', 'appropriate'], ['director', 'movie', 'titanic'], ['speak', 'movie', 'professional'], ['look', 'alfred', 'hitchcock', 'movies'], ['actors', 'life', 'beautiful'], ['find', 'pg', 'movies'], ['budget', 'avengers'], ['much', 'dark', 'night', 'cost', 'produce'], ['show', 'movies', 'directed', 'woody', 'allen'], ['show', 'england', 'movies'], ['tell', 'names', 'movies', 'director', 'martin', 'scorsese'], ['want', 'information', 'ferrell'], ['find', 'movies', 'produced', 'lucas', 'films'], ['tell', 'produced', 'movie', 'avatar'], ['show', 'westerns'], ['gilda', 'charles', 'vidor'], ['dirty', 'dancing', 'released'], ['cast', 'crew', 'go'], ['find', 'movies', 'produced', 'brian', 'glazer'], ['show', 'latest', 'movies', 'tamil'], ['show', 'list', 'disney', 'movies'], ['show', 'films', 'produced', 'warner', 'bros'], ['godfather', 'came'], ['life', 'beautiful'], ['want', 'information', 'movie', 'july'], ['movies', 'ron', 'howard', 'directed'], ['tell', 'movie', 'campaign', 'detail'], ['foreign', 'film'], ['show', 'information', 'steven', 'spielberg'], ['female', 'actors', 'starred', 'hitch'], ['display', 'information', 'film', 'finding', 'nemo'], ['would', 'like', 'look', 'movies', 'god'], ['names', 'films', 'produced', 'steven', 'spielberg'], ['want', 'know', 'step', 'released'], ['show', 'name', 'country', 'movie', 'thoda', 'pyaar', 'thoda', 'magic'], ['show', 'directed', 'cabin', 'woods'], ['want', 'see', 'paramount', 'movies'], ['much', 'movie', 'avatar', 'cost'], ['please', 'list', 'movies', 'war'], ['classification', 'movie'], ['movies', 'based', 'zombies'], ['many', 'movies', 'lionsgate', 'done'], ['movies', 'us'], ['name', 'lead', 'actor', 'titanic'], ['produced', 'cars'], ['played', 'robin', 'batman', 'forever'], ['like', 'know', 'producer', 'terminator'], ['list', 'movies', 'directed', 'james', 'cameron'], ['brad', 'pitt', 'movie'], ['producer', 'heroine'], ['show', 'information', 'tom', 'hanks'], ['show', 'movies', 'japan'], ['find', 'movies', 'starring', 'halle', 'berry'], ['search', 'mgm', 'studios'], ['list', 'movies', 'produced', 'searchlight', 'films'], ['movies', 'quentin', 'terrantino', 'direct'], ['find', 'movie', 'zombies'], ['would', 'like', 'list', 'movies', 'made', 'spanish'], ['r', 'rated', 'movies'], ['see', 'comedy'], ['producer', 'movie', 'ants'], ['directed', 'batman'], ['please', 'show', 'movies', 'starring', 'denzel', 'washington'], ['list', 'rated', 'r', 'movies'], ['search', 'name', 'director', 'return'], ['find', 'information', 'dirty', 'dancing'], ['female', 'lead', 'resident', 'evil'], ['produced', 'godfather'], ['stars', 'hitch'], ['directed', 'black', 'swan'], ['search', 'producer', 'mirror'], ['show', 'movie', 'ratings'], ['watch', 'tom', 'hanks'], ['give', 'detailed', 'information', 'movie', 'house', 'end', 'street'], ['movies', 'england', 'please'], ['find', 'actors'], ['rating', 'house', 'end', 'street'], ['year', 'moon', 'parador', 'come'], ['movies', 'john', 'singleton', 'directed'], ['find', 'movies', 'pg', 'ratings'], ['watch', 'last', 'james', 'cameron', 'movie'], ['give', 'list', 'r', 'rated', 'movies'], ['find', 'movies', 'directed', 'todd', 'solondz'], ['year', 'dirty', 'dancing', 'released'], ['produced', 'titanic'], ['like', 'know', 'spanish', 'movies'], ['director', 'pride', 'prejudice'], ['list', 'best', 'world', 'war', 'films'], ['information', 'vivian', 'lee'], ['rate', 'r', 'movies', 'adult', 'enterainment'], ['show', 'movies', 'spanish'], ['movie', 'avatar', 'get', 'released'], ['actress', 'hum', 'tum'], ['movies', 'andrew', 'stanton', 'directed'], ['stars', 'vulgaria'], ['show', 'rating', 'movie', 'lord', 'rings'], ['funny', 'scary', 'movies'], ['camp'], ['production', 'company', 'hulk'], ['movies', 'bill', 'paxton', 'starred'], ['avatar', 'directed'], ['show', 'information', 'movie', 'title', 'july', 'moritz', 'bleibtreu'], ['name', 'movies', 'john', 'singleton', 'directed'], ['show', 'movies', 'english'], ['language', 'hamlet'], ['list', 'hindi', 'movies'], ['get', 'list', 'current', 'r', 'rated', 'movies'], ['many', 'movies', 'steven', 'spielberg', 'directed'], ['current', 'movie', 'suggestions'], ['show', 'cast', 'hitch'], ['played', 'life', 'beautiful'], ['find', 'information', 'albert', 'ruddy'], ['list', 'japanese', 'movies'], ['show', 'cast', 'finding', 'nemo'], ['origin', 'spanglish'], ['country', 'weekend'], ['ferrell', 'movies'], ['budget', 'titanic', 'movie'], ['show', 'brad', 'pitt', 'movies'], ['movies', 'hitchcock', 'direct'], ['many', 'movies', 'hitchcock', 'direct'], ['find', 'japanese', 'movies'], ['director', 'men', 'black'], ['produced', 'hitch'], ['synopsis', 'finding', 'nemo'], ['list', 'movies', 'rated', 'pg'], ['please', 'show', 'info', 'movie', 'life', 'beautiful'], ['produced', 'godfather'], ['show', 'movies', 'alan', 'rickman'], ['find', 'name', 'main', 'actor', 'movie', 'help'], ['catergory', 'ted'], ['movie', 'steven', 'spielberg'], ['hum', 'tum', 'relesed'], ['directed', 'film', 'avatar'], ['give', 'names', 'japanese', 'movies'], ['movies', 'sally', 'field'], ['list', 'actors', 'forager'], ['find', 'budget', 'cujo'], ['avatar', 'realease', 'date'], ['steven', 'spielberg', 'profile', 'page'], ['list', 'cast', 'crew', 'july'], ['production', 'company', 'spiderman'], ['movie', 'captain', 'america'], ['directed', 'finding', 'nemo'], ['company', 'produced', 'iron', 'man'], ['language', 'professional'], ['andrew', 'stanton', 'directed'], ['show', 'movies', 'german'], ['look', 'films', 'halle', 'berry'], ['want', 'see', 'film', 'japanese'], ['want', 'see', 'videos', 'ferrell'], ['avatar', 'release'], ['look', 'french', 'movies'], ['cast', 'crew', 'life', 'beautiful'], ['search', 'movies', 'starring', 'singer', 'mario'], ['search', 'lionsgate', 'movies'], ['find', 'producer', 'great', 'debaters'], ['life', 'beautiful'], ['chewbakka'], ['movies', 'rated', 'g'], ['find', 'movies', 'miramax'], ['find', 'info', 'crew', 'apollo', 'thirteen'], ['look', 'information', 'lionsgate'], ['ferrell'], ['finding', 'nemo', 'released'], ['budget', 'top', 'gun'], ['finding', 'buget', 'heroine'], ['show', 'apollo', 'thirteen'], ['want', 'watch', 'movies', 'brad', 'pitt'], ['would', 'like', 'information', 'lionsgate'], ['see', 'bill', 'paxton'], ['find', 'director', 'big'], ['find', 'movie'], ['get', 'films', 'united', 'kingdom'], ['dirty', 'dancing', 'movie', 'short', 'cuts'], ['actors', 'played', 'movies', 'hitch'], ['producer', 'ms', 'congeniality'], ['movie', 'produced', 'albert', 'rudy'], ['age', 'marley', 'appropriate'], ['show', 'list', 'recent', 'movies', 'rated', 'pg'], ['country', 'made', 'separation'], ['movies', 'time', 'travel'], ['director', 'return'], ['find', 'movies', 'produced', 'spike', 'lee'], ['please', 'find', 'release', 'date', 'heroine'], ['want', 'see', 'movies', 'rated', 'pg'], ['amazing', 'spiderman', 'released', 'movie', 'theatres'], ['genre', 'hangover'], ['much', 'cost', 'make', 'jurassic', 'park'], ['find', 'warner', 'bros', 'movies'], ['show', 'funny', 'movies'], ['list', 'sci', 'fi', 'movies'], ['directed', 'cast', 'away'], ['find', 'movies', 'tom', 'cruise'], ['find', 'movies', 'yash', 'chopra'], ['male', 'star', 'titanic'], ['want', 'know', 'original', 'language', 'ju'], ['show', 'videos', 'time', 'travel'], ['look', 'movies', 'rated', 'g'], ['movies', 'basketball'], ['want', 'look', 'alfred', 'hitchcock', 'movies'], ['would', 'like', 'look', 'director', 'freedom', 'writers'], ['gross', 'receipts', 'avengers'], ['release', 'day', 'movie'], ['show', 'movies', 'tom', 'cruise'], ['movies', 'spielberg', 'producer'], ['directed', 'gone', 'wind'], ['please', 'show', 'info', 'movie', 'dirty', 'dancing'], ['would', 'like', 'know', 'genre', 'grease'], ['columbia', 'production', 'company', 'movies'], ['ferrell'], ['country', 'flowers', 'war', 'come'], ['need', 'know', 'detail', 'cast', 'crew', 'movie', 'apollo', 'thirteen'], ['stuff', 'movie', 'go'], ['show', 'movies', 'harrison', 'ford'], ['watch', 'terry', 'george', 'film', 'tonight'], ['show', 'childrens', 'movies'], ['show', 'time', 'travel', 'movies'], ['country', 'movie', 'made'], ['directed', 'jurassic', 'park'], ['tell', 'producer', 'ray', 'stark'], ['pretty', 'girl', 'movie', 'genre'], ['genre', 'network'], ['find', 'historical', 'movies'], ['lionsgate', 'films'], ['search', 'director', 'gilda'], ['produced', 'movie', 'gone', 'wind'], ['show', 'biography', 'director', 'steven', 'spielberg'], ['show', 'name', 'producer', 'movie', 'avatar'], ['decade', 'movie', 'come'], ['want', 'know', 'released'], ['profits', 'made', 'titanic'], ['search', 'films', 'produced', 'russia'], ['directed', 'avatar'], ['like', 'list', 'spanish', 'movies'], ['find', 'director', 'finding', 'nemo'], ['budget', 'courageous'], ['want', 'see', 'list', 'movies', 'made', 'france'], ['cast', 'crew', 'campaign'], ['july', 'movie', 'page'], ['list', 'ice', 'skating', 'movies', 'please'], ['movies', 'france'], ['kristen', 'stewart', 'top', 'movies'], ['et', 'gross'], ['show', 'movies', 'zombies'], ['revenue', 'titanic'], ['kind', 'movie', 'black', 'swan'], ['country', 'made', 'elizabeth'], ['like', 'know', 'genre', 'film', 'grease'], ['search', 'movies'], ['find', 'producer', 'moby', 'dick'], ['want', 'look', 'movies', 'god'], ['footloose'], ['display', 'details', 'original', 'finding', 'nemo', 'movie'], ['dirty', 'dancing', 'movie'], ['information', 'ferrell'], ['tell', 'rating', 'film', 'grease'], ['movies', 'young', 'children', 'watch'], ['need', 'list', 'movies', 'produced', 'ray', 'stark'], ['show', 'angelina', 'jolie', 'movies'], ['show', 'korean', 'language', 'movie'], ['looking', 'horror', 'movie'], ['old', 'man', 'director'], ['pg', 'movies', 'list', 'please'], ['show', 'movies', 'german'], ['movies', 'rated', 'pg'], ['july'], ['movies', 'christian', 'bale', 'appeared'], ['tell', 'released'], ['find', 'new', 'releases', 'rated', 'g'], ['movies', 'ferrell'], ['videos', 'ferrell'], ['find', 'movies', 'nc'], ['budget', 'old', 'school'], ['tell', 'rating', 'movie', 'grease'], ['produced', 'godfather'], ['show', 'list', 'movies', 'english'], ['search', 'movies', 'noah', 'baumbach'], ['search', 'release', 'date', 'vulgaria'], ['find', 'movies', 'produced', 'russia'], ['movies', 'kristen', 'stewart', 'done'], ['find', 'movies', 'r', 'ratings'], ['budget', 'avatar'], ['movies', 'tom', 'hanks'], ['find', 'movie', 'hum', 'tum'], ['actors', 'dirty', 'dancing'], ['show', 'films', 'produced', 'jon', 'landau'], ['find', 'details', 'original', 'finding', 'nemo', 'movie'], ['list', 'steven', 'spielberg', 'produced', 'movies'], ['show', 'movies', 'directed', 'ron', 'howard'], ['actor', 'played', 'amazing', 'spider', 'man'], ['campaign', 'movie', 'page'], ['give', 'list', 'movies', 'pg', 'rating'], ['gross', 'earnings', 'avengers', 'movie'], ['person', 'produced', 'blind', 'side'], ['name', 'person', 'made', 'et'], ['rating', 'dark', 'knight'], ['avatar'], ['find', 'french', 'films'], ['movie', 'list', 'hitchcock'], ['movies', 'tom', 'cruise'], ['movies', 'whose', 'topic', 'involves', 'time', 'travel'], ['genre', 'transformers'], ['show', 'movies', 'spanish'], ['finding', 'nemo'], ['cast', 'members', 'hobbist'], ['look', 'cher', 'movies'], ['many', 'films', 'ed', 'harris', 'starred'], ['production', 'company', 'responsible', 'film', 'devil', 'wears', 'prada'], ['clint', 'eastwood', 'movies'], ['show', 'movies', 'pg', 'rating'], ['movies', 'directed', 'tony', 'scott'], ['universal', 'pictures', 'films'], ['movie'], ['much', 'hunger', 'games', 'made'], ['want', 'take', 'kids', 'g', 'movie'], ['show', 'french', 'foreign', 'films'], ['actors', 'captain', 'america'], ['ferell', 'videos'], ['want', 'see', 'movies', 'spain'], ['want', 'information', 'richard', 'lester'], ['run', 'search', 'finding', 'nemo', 'please'], ['want', 'see', 'list', 'lionsgate', 'movies'], ['resident', 'evil', 'come'], ['summary', 'july'], ['god', 'father'], ['want', 'r', 'rated', 'movie'], ['rob', 'reiner', 'direct', 'movies'], ['would', 'like', 'know', 'rating', 'cabin', 'woods'], ['please', 'show', 'information', 'ferrell'], ['want', 'see', 'info', 'movie', 'campaign'], ['movies', 'jerry', 'bruckheimer', 'produced'], ['movies', 'directed', 'woody', 'allen'], ['movie', 'title', 'little', 'women', 'released'], ['canadian', 'movies'], ['list', 'star', 'wars', 'movie', 'new', 'hope'], ['show', 'zombie', 'movies'], ['movies', 'karan', 'johar'], ['see', 'ed', 'harris', 'last', 'movie'], ['please', 'list', 'movies', 'brad', 'pitt'], ['year', 'movie', 'grease', 'open'], ['show', 'detailed', 'information', 'movie', 'house', 'end', 'street'], ['show', 'g', 'rated', 'movies'], ['bring', 'diving', 'related', 'movies'], ['tell', 'rating', 'cabin', 'woods'], ['jurassic', 'park', 'get', 'released'], ['finding', 'nemo', 'released'], ['would', 'like', 'search', 'country', 'cell'], ['find', 'italian', 'movies'], ['movies', 'time', 'travel'], ['find', 'movies', 'g'], ['find', 'movies', 'rated', 'pg'], ['want', 'see', 'movies', 'made', 'america'], ['step', 'released'], ['produced', 'movie', 'twilight'], ['type', 'movie', 'parenthood'], ['please', 'provide', 'movies', 'directed', 'oliver', 'stone'], ['please', 'tell', 'movie', 'gone', 'wind', 'released'], ['want', 'movies'], ['find', 'movies', 'directed', 'stephen', 'spielberg'], ['available', 'movies', 'rated', 'g'], ['want', 'search', 'pg', 'rated', 'movies'], ['cast', 'crew', 'apollo', 'thirteen'], ['many', 'movies', 'victor', 'fleming', 'direct'], ['movies', 'angelina', 'jolie'], ['need', 'information', 'cast', 'reviews', 'story', 'etc', 'detail', 'movie', 'house', 'end', 'street'], ['company', 'produced', 'jurassic', 'park'], ['want', 'look', 'movies', 'r', 'rating'], ['search', 'director', 'step'], ['movie', 'ratings'], ['many', 'films', 'alfred', 'hitchcock', 'direct'], ['find', 'movies', 'dogs'], ['find', 'movies', 'spanish'], ['rating', 'dirty', 'dancing'], ['see', 'top', 'gun'], ['films', 'ferrell', 'starred'], ['life', 'beautiful'], ['country', 'movie'], ['please', 'select', 'option', 'search', 'g', 'rated', 'movies'], ['locate', 'romantic', 'movies'], ['finding', 'nemo', 'details', 'please'], ['need', 'know', 'budget', 'movie', 'avatar'], ['plots', 'hotel', 'rwanda'], ['get', 'italian', 'language', 'movies'], ['see', 'film', 'rating'], ['budget', 'hulk'], ['directed', 'movie', 'opening', 'night'], ['country', 'produced', 'movie', 'mirror'], ['find', 'indian', 'movies'], ['produced', 'black', 'swan'], ['current', 'movies', 'rated', 'g'], ['list', 'scifi'], ['movies', 'spoken', 'another', 'language'], ['movies', 'tom', 'hanks'], ['hard', 'find', 'movie', 'rated', 'g', 'anymore'], ['vulgaria', 'come'], ['genre', 'movie', 'looper'], ['movies', 'pg', 'rating'], ['would', 'like', 'find', 'movies', 'produced', 'morgan', 'freeman'], ['iron', 'man', 'coming'], ['give', 'list', 'ferrell', 'films'], ['directed', 'gilda'], ['directed', 'kill', 'mockingbird'], ['look', 'r', 'rated', 'movies'], ['lead', 'actors', 'life', 'beautiful'], ['director', 'movie', 'avatar'], ['movies', 'made', 'italy'], ['rating', 'g', 'list'], ['language', 'ju'], ['produced', 'movie'], ['films', 'selena', 'gomez'], ['need', 'movies', 'pg', 'rating'], ['show', 'korean', 'movie'], ['much', 'hollywood', 'pay', 'black', 'swan'], ['terry', 'georges', 'background'], ['get', 'list', 'animated', 'films'], ['black', 'swan', 'theatre'], ['much', 'studio', 'spend', 'make', 'avatar'], ['show', 'cast', 'list', 'avergers'], ['name', 'company', 'produced', 'movie', 'ants'], ['movies', 'meg', 'ryan'], ['italy', 'make', 'movies'], ['exhibit', 'details', 'july', 'movie'], ['produced', 'avatar'], ['look', 'movies', 'god'], ['spanish', 'movies'], ['films', 'japaneese'], ['show', 'details', 'directors', 'gone', 'wind'], ['cast', 'crew', 'forager'], ['movies', 'made', 'dreamworks'], ['look', 'john', 'cusack', 'movies'], ['acted', 'black', 'swan'], ['show', 'movies', 'starring', 'denzel', 'washington'], ['show', 'list', 'movies', 'made', 'united', 'states'], ['movies', 'involve', 'time', 'travel'], ['bring', 'spanish', 'movies'], ['find', 'new', 'ferrell', 'movie'], ['actors', 'starred', 'hitch'], ['year', 'campaign', 'released'], ['movies', 'played', 'chrisian', 'bale'], ['movies', 'immigration'], ['language', 'godzilla', 'movie'], ['find', 'release', 'date', 'karate', 'kid'], ['find', 'zombie', 'movies'], ['plot', 'vulgaria'], ['language', 'movie', 'aankhen'], ['search', 'movies', 'language'], ['black', 'swan', 'produced'], ['show', 'house', 'end', 'street'], ['want', 'know', 'life', 'beautiful'], ['movies', 'discuss', 'time', 'travel'], ['movies', 'kareena'], ['want', 'look', 'director', 'freedom', 'writers'], ['want', 'see', 'movies', 'directed', 'ridley', 'scott'], ['grease', 'rated'], ['budget', 'wrong', 'turn'], ['tell', 'genre', 'movie', 'avatar', 'falls'], ['give', 'good', 'pg', 'moives'], ['show', 'lionsgate', 'director', 'movies'], ['directed', 'dirty', 'dancing'], ['would', 'love', 'see', 'movies', 'produced', 'wb'], ['cast', 'crew', 'house', 'end', 'street'], ['movies', 'made', 'japan'], ['released'], ['list', 'budget', 'avatar'], ['show', 'movies', 'canada'], ['house', 'end', 'street', 'released'], ['directed', 'movie', 'dark', 'knight'], ['show', 'movies', 'tom', 'hanks', 'directed'], ['lead', 'actor', 'hitch'], ['kind', 'movie', 'grease'], ['starred', 'parent', 'trap'], ['bruce', 'willis'], ['would', 'like', 'see', 'ferrell', 'movies'], ['budget', 'blind', 'side'], ['starred', 'campaign'], ['actor', 'modern', 'family'], ['please', 'find', 'pg', 'rated', 'movies'], ['show', 'movies', 'swedish'], ['please', 'show', 'info', 'movie', 'campaign'], ['date', 'avatar', 'released'], ['tell', 'movie', 'dirty', 'dancing', 'detail'], ['recent', 'movies', 'steven', 'spielberg'], ['cast', 'resident', 'evil', 'retribution'], ['director', 'movie', 'mechanic'], ['budget', 'jurassic', 'park'], ['movies', 'made', 'twentieth', 'century', 'fox', 'television'], ['dirty', 'dancing', 'come'], ['please', 'tell', 'movies', 'united', 'states'], ['first', 'hunger', 'games', 'shown'], ['made', 'movie', 'avatar'], ['sort', 'japanese', 'movies'], ['find', 'oliver', 'stone', 'directed', 'movies'], ['send', 'movies', 'chinese'], ['movies', 'harrison', 'ford'], ['herione', 'released'], ['want', 'see', 'movies', 'produced', 'warner', 'bros'], ['roberto', 'benigni', 'costars', 'life', 'beautiful'], ['show', 'details', 'movie', 'july'], ['look', 'movies', 'chinese'], ['genre', 'finding', 'nemo'], ['show', 'list', 'movies', 'directed', 'robert', 'wise'], ['show', 'latest', 'movies', 'kannada'], ['search', 'movies', 'french'], ['genre', 'pretty', 'girl'], ['would', 'like', 'know', 'names', 'movies', 'directed', 'james', 'cameron'], ['find', 'release', 'date', 'heroine'], ['lawless', 'released'], ['movie', 'zombie', 'apocolypse'], ['please', 'show', 'films', 'involve', 'kevin', 'bacon'], ['find', 'films', 'showing', 'french'], ['tom', 'cruise', 'movies'], ['campaign'], ['movies', 'time', 'travel'], ['give', 'revenue', 'movie', 'titanic'], ['show', 'movies', 'twentieth', 'century', 'fox'], ['korean', 'movie'], ['see', 'produced', 'possesion'], ['movies', 'scotland'], ['language', 'film'], ['show', 'list', 'warner', 'bros', 'films'], ['show', 'tom', 'hanks', 'movies'], ['find', 'french', 'movies'], ['would', 'like', 'know', 'names', 'movies', 'george', 'clooney'], ['shows', 'actors', 'shoot', 'kill'], ['name', 'male', 'lead', 'movie', 'titanic'], ['july', 'released'], ['paranormal', 'activity', 'released'], ['find', 'movie', 'mel', 'gibson'], ['show', 'war', 'themed', 'movies'], ['stars', 'dirty', 'dancing'], ['movies', 'russia'], ['show', 'producer', 'godfather'], ['show', 'director', 'film', 'dark', 'knight'], ['show', 'movies', 'directed', 'steven', 'spielberg'], ['want', 'know', 'clint', 'eastwood'], ['language', 'sound', 'music'], ['dispaly', 'info', 'movie', 'house', 'end', 'street'], ['find', 'movies', 'directed', 'steven', 'spielberg'], ['want', 'look', 'information', 'paramount', 'studios'], ['kevin', 'james', 'hitch'], ['budget', 'heroine'], ['actor', 'movie', 'hum', 'tum'], ['show', 'movie', 'gilda', 'charles', 'vidor'], ['directed', 'hope', 'floats'], ['browse', 'lionsgate', 'information'], ['show', 'movies', 'produced', 'reliance'], ['rocky', 'four', 'filmed'], ['show', 'budget', 'movie'], ['find', 'suspenseful', 'movies'], ['find', 'producer', 'gone', 'wind'], ['show', 'rating', 'movie', 'romeo', 'must', 'die'], ['movies', 'upcoming', 'movies', 'christian', 'bale', 'star'], ['show', 'information', 'movie', 'campaign'], ['played', 'life', 'beautiful'], ['please', 'find', 'movies', 'produced', 'clint', 'eastwood'], ['movies', 'produced', 'europe'], ['show', 'pixar', 'films'], ['find', 'action', 'movies'], ['house', 'end', 'street', 'movie', 'info'], ['andrew', 'stanton'], ['directed', 'gilda'], ['names', 'female', 'actors', 'played', 'lost'], ['would', 'like', 'info', 'movie', 'life', 'beautiful'], ['show', 'mystery', 'movies'], ['movies', 'nature'], ['watch', 'century', 'fox', 'movies'], ['search', 'movies', 'pg', 'rating'], ['want', 'spanish', 'movies'], ['list', 'movies', 'directed', 'steven', 'spielberg'], ['interested', 'genre', 'words'], ['want', 'find', 'movies', 'directed', 'stephen', 'speilberg'], ['info', 'german', 'movie'], ['would', 'like', 'see', 'something', 'produced', 'robert', 'redford'], ['produced', 'hotel', 'rwanda'], ['search', 'director', 'exorcist'], ['get', 'pg', 'movie', 'list'], ['rating', 'avengers'], ['movies', 'zombies'], ['producer', 'avatar'], ['mandarin', 'movie', 'please'], ['rocky', 'actor'], ['movies', 'angelina', 'jolie'], ['please', 'see', 'details', 'director', 'finding', 'nemo'], ['show', 'short', 'films'], ['sound', 'music', 'robert', 'wise'], ['see', 'list', 'movies', 'produced', 'great', 'britain'], ['search', 'movies', 'ice', 'skating'], ['would', 'like', 'get', 'detailed', 'information', 'movie', 'july'], ['lionsgate', 'movies'], ['would', 'like', 'see', 'main', 'page', 'july'], ['movies', 'ray', 'stark', 'produced'], ['show', 'movies', 'england'], ['find', 'producer', 'godfather'], ['show', 'cost', 'produce', 'deer', 'hunter'], ['japanese', 'movie', 'titles'], ['search', 'genre', 'step'], ['genre', 'patriot'], ['please', 'find', 'movie', 'mandarin'], ['find', 'finding', 'nemo'], ['show', 'movies', 'made', 'america'], ['cast', 'life', 'beautiful'], ['ed', 'harris', 'films'], ['tin', 'man', 'wizard', 'oz'], ['producer', 'terminator'], ['find', 'movies', 'rated', 'g'], ['want', 'see', 'robert', 'redford', 'produced', 'movie'], ['list', 'movies', 'r', 'rating'], ['mirror', 'producer'], ['movies', 'alfred', 'hitchcock', 'directed'], ['find', 'movies', 'directed', 'james', 'cameron'], ['find', 'japanese', 'movies'], ['show', 'english', 'movies'], ['movies', 'kevin', 'costner', 'direct'], ['release', 'date', 'finding', 'nemo'], ['wonder', 'many', 'movies', 'alfred', 'hitchcock', 'directed'], ['list', 'producers'], ['show', 'list', 'movies', 'produced', 'william', 'packer'], ['want', 'know', 'directed', 'finding', 'nemo'], ['list', 'recent', 'films', 'actor', 'bruce', 'willis'], ['directed', 'sound', 'music'], ['name', 'director', 'movie', 'avengers'], ['japanese', 'movies'], ['find', 'movies', 'mosfilm'], ['theaters', 'show', 'resident', 'evil'], ['actor', 'played', 'esme', 'twilight'], ['tell', 'director', 'film', 'dark', 'knight'], ['show', 'movies', 'spanish'], ['show', 'movies', 'rated', 'r'], ['find', 'male', 'actor', 'dirty', 'harry'], ['hope', 'movie', 'english'], ['ferrell'], ['movies', 'zombies'], ['movie', 'heroine', 'released'], ['tell', 'genre', 'words'], ['find', 'movies', 'produced', 'george', 'lucas'], ['show', 'genre', 'movie', 'avatar'], ['directed', 'sound', 'music'], ['information', 'finding', 'nemo'], ['top', 'gun', 'released'], ['looking', 'action', 'movie'], ['director', 'anne', 'green', 'gables'], ['tom', 'cruise', 'acted', 'lately'], ['look', 'release', 'date', 'resident', 'evil'], ['movies', 'charles', 'vidor', 'directed'], ['movies', 'currently', 'playing', 'rated', 'g'], ['next', 'amazing', 'spiderman', 'come'], ['finding', 'nemo', 'info'], ['send', 'movies', 'italian'], ['movies', 'clint', 'eastwood', 'direct'], ['produced', 'movie', 'cars'], ['release', 'date', 'movie', 'avatar'], ['producer', 'slumdog', 'millionaire'], ['show', 'thrillers'], ['date', 'vulgaria', 'open'], ['find', 'prison', 'break', 'movies'], ['actors', 'house', 'end', 'street'], ['rating', 'dark', 'knight'], ['looking', 'jason', 'cortlund', 'movie'], ['experience', 'darla', 'anderson', 'producer'], ['find', 'kind', 'movie', 'grease'], ['movies', 'alfred', 'hitchcock'], ['warner', 'brothers', 'bio'], ['would', 'like', 'view', 'info', 'life', 'beautiful'], ['find', 'movies', 'karan', 'johar'], ['movie', 'genre'], ['directed', 'sound', 'music'], ['find', 'movies', 'hindi'], ['genre', 'gone', 'wind'], ['find', 'sandra', 'bullock', 'movies'], ['find', 'movies', 'korean', 'language'], ['looking', 'movies', 'spanish'], ['origin', 'casa', 'blanca'], ['find', 'movies', 'ron', 'howard'], ['find', 'info', 'tom', 'hanks'], ['footnote', 'made'], ['want', 'find', 'list', 'movies', 'made', 'japan'], ['list', 'movies', 'walt', 'disney', 'produced'], ['search', 'movies', 'pg', 'rating'], ['movies', 'george', 'lucas'], ['display', 'movies', 'zombies'], ['movies', 'chinese'], ['want', 'see', 'ferrell', 'details'], ['much', 'cost', 'make', 'avatar'], ['movie', 'directors'], ['show', 'tom', 'hanks'], ['production', 'company', 'black', 'swan'], ['cast', 'crew', 'movie', 'house', 'end', 'street'], ['movie', 'made', 'mandarin'], ['kristen', 'stewart'], ['search', 'movies', 'produced', 'albert', 'ruddy'], ['need', 'general', 'information', 'finding', 'nemo'], ['want', 'watch', 'movies', 'directed', 'jackie', 'chan'], ['show', 'paramount', 'movies'], ['need', 'movie', 'information', 'life', 'beautiful'], ['films', 'produced', 'laurie', 'macdonald'], ['search', 'campaign', 'movie'], ['mood', 'horror', 'film'], ['showing', 'movies', 'spanish'], ['show', 'movies', 'brazil'], ['find', 'rated', 'pg', 'movies'], ['find', 'danish', 'movies'], ['mel', 'gibson', 'movies'], ['find', 'name', 'director', 'movie', 'platoon'], ['may', 'date', 'release', 'movie'], ['ferrell', 'history'], ['current', 'movie', 'options', 'today', 'patrick', 'swayze'], ['movies', 'christian', 'bale', 'played'], ['many', 'woody', 'allen', 'movies', 'starred', 'diane', 'keaton'], ['show', 'finding', 'nemo'], ['films', 'deal', 'immigrants', 'america'], ['movies', 'rated', 'r'], ['spanish', 'language', 'movies'], ['show', 'nc', 'seventeen', 'movies'], ['show', 'r', 'movies'], ['information', 'movie'], ['much', 'revenue', 'movie', 'avatar', 'generate'], ['list', 'movies', 'rated', 'pg'], ['find', 'director', 'social', 'network'], ['want', 'find', 'zombie', 'movies'], ['send', 'movies', 'spanish'], ['names', 'movies', 'made', 'united', 'states'], ['directed', 'finding', 'nemo'], ['buget', 'movie', 'heroine'], ['display', 'overview', 'movie', 'house', 'end', 'street'], ['produced', 'possesion'], ['find', 'movies', 'produced', 'albert', 'ruddy'], ['cast', 'dirty', 'dancing'], ['show', 'hitchcock', 'movies'], ['find', 'korean', 'movies'], ['language', 'separation'], ['show', 'spanish', 'movies'], ['show', 'tom', 'hanks', 'movies'], ['lionsgate', 'list'], ['find', 'movie', 'info', 'kristenn', 'stewart'], ['director', 'ghost', 'busters'], ['company', 'produced', 'movie', 'field', 'dreams'], ['movie', 'romance'], ['show', 'list', 'movies', 'new', 'rated', 'pg'], ['find', 'movies', 'italian'], ['filmed', 'dark', 'knight'], ['movies', 'rated', 'pg', 'thirteen'], ['frankenstein', 'release', 'date'], ['please', 'show', 'movies', 'ice', 'skating'], ['lead', 'actors', 'movie'], ['country', 'mirror', 'come'], ['year', 'ed', 'harris', 'apollo', 'thirteen'], ['show', 'cast', 'list', 'dirty', 'dancing'], ['dark', 'knight', 'revenue'], ['steven', 'spielberg'], ['movies', 'angelina', 'jolie', 'starred'], ['find', 'rated', 'r', 'movies'], ['history', 'behind', 'paramount'], ['show', 'movies', 'french'], ['kevin', 'bacon', 'apollo', 'thirteen'], ['please', 'show', 'info', 'movie', 'dirty', 'dancing'], ['rocky', 'director', 'name'], ['search', 'movies', 'spanish'], ['dutch', 'movie', 'listing'], ['display', 'information', 'movie', 'july'], ['list', 'director', 'movies'], ['find', 'movies', 'steven', 'spielberg'], ['cast', 'crew', 'movie', 'campaign'], ['person', 'directed', 'film', 'dark', 'knight'], ['please', 'tell', 'produce', 'avatar'], ['lead', 'black', 'swan'], ['producer'], ['list', 'movie', 'info', 'kristen', 'stewart'], ['parenthood', 'comedy'], ['would', 'like', 'look', 'genre', 'step'], ['show', 'comedy', 'movies'], ['directed', 'finding', 'nemo'], ['produced', 'top', 'gun'], ['black', 'swan', 'released'], ['show', 'movies', 'zombies'], ['list', 'movies', 'chess'], ['need', 'see', 'pg', 'movies'], ['star', 'wars'], ['need', 'know', 'name', 'country', 'movie', 'kati', 'patang', 'belongs'], ['find', 'movies', 'france'], ['tell', 'language', 'movie', 'hero'], ['find', 'movies', 'produced', 'paramount', 'pictures'], ['much', 'take', 'make', 'avengers'], ['find', 'movies', 'produced', 'clint', 'eastwood'], ['find', 'movies', 'producer'], ['show', 'information', 'related', 'film', 'campaign'], ['get', 'canadian', 'movies'], ['apollo', 'thirteen', 'cast', 'members'], ['would', 'like', 'search', 'movies', 'directed', 'stephen', 'spielberg'], ['tell', 'budget', 'movie', 'batman'], ['want', 'look', 'budget', 'freedom', 'writers'], ['producer', 'grease'], ['give', 'details', 'movie', 'july'], ['find', 'movies', 'ice', 'skating'], ['directed', 'movie', 'men', 'black'], ['look', 'information', 'paramount', 'studios'], ['show', 'actors', 'captain', 'america'], ['show', 'produced', 'black', 'swan'], ['bette', 'midler', 'movies', 'please'], ['find', 'movies', 'french'], ['actress', 'gone', 'wind'], ['rating', 'resident', 'evil'], ['would', 'like', 'watch', 'movies', 'spoken', 'spanish'], ['want', 'see', 'movies', 'german'], ['please', 'search', 'movies', 'steven', 'spielberg'], ['looking', 'actor', 'played', 'pretty', 'women'], ['revenue', 'toy', 'story'], ['campaign', 'released'], ['movies', 'smith', 'stars'], ['find', 'movies', 'produced', 'castle', 'rock', 'entertainment'], ['movies', 'clint', 'eastwood', 'starred', 'also', 'direct'], ['starred', 'taxi'], ['genre', 'jaws', 'movies'], ['language', 'movie', 'elling'], ['taye', 'diggs', 'films'], ['movies', 'filmed', 'france'], ['calendar', 'date', 'release', 'looper'], ['many', 'movies', 'darla', 'anderson', 'produced'], ['michelle', 'phifer', 'movie', 'list'], ['list', 'movies', 'directed', 'clint', 'eastwood'], ['black', 'beauty', 'released'], ['producer', 'movie', 'hitch'], ['list', 'spanish', 'movies'], ['show', 'movies', 'directed', 'sergio', 'leone'], ['movies', 'die', 'charles', 'vidor', 'direct'], ['rating', 'avenger', 'movie'], ['budget', 'avatar'], ['release', 'date', 'movie', 'barfi'], ['kindly', 'show', 'rating', 'cabin', 'woods'], ['show', 'alfred', 'hitchcock', 'movies'], ['search', 'movie', 'life', 'beautiful'], ['star', 'wars', 'four'], ['name', 'director', 'house', 'end', 'street'], ['movies', 'pg', 'rating'], ['movies', 'spain'], ['get', 'details', 'original', 'finding', 'nemo', 'movie'], ['show', 'movies', 'diving'], ['spanish', 'movie', 'listing'], ['rating', 'freedom', 'writers'], ['movie', 'rating', 'die', 'hard'], ['list', 'dax', 'shepard', 'movies'], ['director', 'movie', 'jaws'], ['much', 'titanic', 'cost', 'make'], ['find', 'pg', 'movie'], ['movies', 'chess'], ['movies', 'come', 'france'], ['show', 'pg', 'rated', 'movies'], ['movies', 'england'], ['language', 'used', 'movie'], ['show', 'movies', 'rated', 'pg', 'thirteen'], ['movies', 'matt', 'damon', 'appear'], ['rating', 'dirty', 'dancing'], ['check', 'movie', 'july', 'information'], ['many', 'movies', 'tom', 'cruise', 'starred'], ['show', 'british', 'films'], ['movie', 'two', 'play', 'game'], ['list', 'movies', 'french'], ['movies', 'came', 'japan'], ['show', 'movies', 'directed', 'martin', 'scorcese'], ['release', 'date', 'little', 'women'], ['give', 'list', 'movies', 'produced', 'george', 'lucas'], ['whats', 'details', 'movie', 'finding', 'nemo'], ['made', 'batman', 'dark', 'knight'], ['language', 'characters', 'speak', 'black', 'swan'], ['please', 'show', 'produces', 'madagascar'], ['budget', 'passion', 'christ'], ['find', 'movies'], ['director', 'twilight'], ['finding', 'nemo', 'released'], ['synopsis', 'july'], ['bring', 'black', 'swan', 'production'], ['find', 'musical', 'movies'], ['restrictions', 'campaign', 'film', 'viewers'], ['find', 'name', 'actor', 'played', 'jack', 'movie', 'titanic'], ['name', 'company', 'produced', 'sparkle'], ['month', 'varsham', 'movie', 'released'], ['age', 'appropriate', 'watch', 'marley'], ['pixar', 'film', 'studio'], ['find', 'information', 'robert', 'wise'], ['show', 'details', 'original', 'finding', 'nemo', 'movie'], ['find', 'movies', 'horses'], ['find', 'male', 'actor', 'movie', 'born', 'free'], ['want', 'list', 'movies', 'rated', 'g'], ['names', 'movies', 'zombies'], ['list', 'gilda', 'director'], ['dredd', 'come'], ['production', 'costs', 'black', 'swan'], ['display', 'movies', 'made', 'germany'], ['see', 'olsen', 'twins'], ['show', 'actor', 'ranam'], ['search', 'information', 'tom', 'cruise'], ['look', 'rating', 'movie', 'dredd'], ['want', 'know', 'movie', 'life', 'beautiful'], ['finding', 'nemo'], ['see', 'movies', 'spain'], ['total', 'titanic', 'revenues'], ['show', 'movies', 'spanish'], ['movies', 'family', 'friendly'], ['show', 'director', 'forest', 'gump'], ['language', 'movie'], ['want', 'see', 'chinese', 'movies'], ['movies', 'directed', 'tyler', 'perry'], ['possessed', 'realese', 'date'], ['find', 'movies', 'directed', 'steven', 'spielberg'], ['list', 'actors', 'top', 'gun'], ['movie', 'ants', 'produced', 'person'], ['looking', 'movies', 'made', 'france'], ['movie'], ['give', 'swedish', 'films'], ['director', 'halloween'], ['show', 'brad', 'pitt', 'movies'], ['show', 'details', 'movie', 'house', 'end', 'street'], ['trouble', 'curve', 'based'], ['look', 'budget', 'freedom', 'writers'], ['character', 'smith', 'play', 'hitch'], ['give', 'detailed', 'information', 'movie', 'star', 'wars', 'episode', 'four', 'new', 'hope'], ['cast', 'hitch'], ['movie', 'made'], ['want', 'see', 'movies', 'france'], ['list', 'movie', 'production', 'companies'], ['show', 'pg', 'movies'], ['find', 'movies', 'tom', 'cruise'], ['need', 'movie', 'producer', 'list'], ['language', 'anna', 'karinia'], ['look', 'director', 'hum', 'tum'], ['movie', 'based', 'time', 'travel'], ['find', 'th', 'century', 'fox', 'films'], ['show', 'details', 'movie', 'campaign'], ['find', 'movies', 'spanish'], ['would', 'like', 'get', 'list', 'movie', 'names', 'hindi', 'language'], ['movie', 'life', 'beautiful', 'ok', 'six', 'year', 'old', 'watch'], ['give', 'list', 'woody', 'allen', 'films'], ['find', 'movies', 'produced', 'morgan', 'freeman'], ['list', 'g', 'movies'], ['give', 'list', 'indian', 'movies'], ['show', 'back', 'future', 'movies'], ['want', 'view', 'page', 'july'], ['see', 'info', 'movie', 'life', 'beautiful'], ['show', 'movies', 'produced', 'julian', 'fellows'], ['find', 'movies', 'produced', 'disney', 'pixar'], ['search', 'cast', 'crew', 'dirty', 'dancing'], ['see', 'zombie', 'movies'], ['movies', 'michael', 'bay', 'direct'], ['want', 'know', 'language', 'ju', 'filmed'], ['karate', 'kid', 'release', 'date'], ['list', 'movies', 'war'], ['genre', 'step'], ['r', 'rated'], ['role', 'sarah', 'polley', 'play', 'go'], ['angelina', 'jolie', 'movies'], ['show', 'actor', 'movie', 'varsham'], ['plays', 'nemo', 'finding', 'nemo'], ['movies', 'made', 'outside', 'us'], ['want', 'view', 'movies', 'rated', 'r'], ['directed', 'gilda'], ['synopsis', 'finding', 'nemo'], ['appropriate', 'take', 'year', 'old', 'see', 'land', 'lost'], ['show', 'list', 'movies', 'christian', 'bale', 'starred', 'career'], ['robert', 'wise', 'director', 'sound', 'music'], ['great', 'gatsby', 'released'], ['year', 'godfather', 'released'], ['character', 'tom', 'hanks', 'play', 'apollo', 'thirteen'], ['open', 'page', 'finding', 'nemo'], ['movies', 'christian', 'bale', 'acted'], ['please', 'find', 'movies', 'directed', 'stephen', 'spielberg'], ['italian', 'movies'], ['starred', 'dark', 'knight', 'rising'], ['show', 'movie', 'forager'], ['need', 'know', 'directed', 'black', 'swan'], ['search', 'gilda', 'director'], ['show', 'black', 'swan'], ['parental', 'rating', 'movie'], ['genre', 'ted', 'considered'], ['find', 'romantic', 'movies'], ['movie', 'ants', 'producer'], ['list', 'movies', 'searchlight', 'films'], ['produced', 'devil', 'wears', 'prada'], ['main', 'actor', 'exorcist'], ['show', 'movies', 'time', 'travel'], ['hitchcock'], ['finding', 'nemo', 'movie', 'page'], ['language', 'movie'], ['looking', 'movies', 'rated', 'pg', 'family', 'movie', 'night'], ['movies', 'kristen', 'stewart'], ['name', 'company', 'produced', 'movie', 'avatar'], ['looper', 'directors'], ['tell', 'compliance', 'came'], ['show', 'movies', 'zombies'], ['movies', 'producer'], ['find', 'movies', 'gambling'], ['need', 'list', 'movies', 'produced', 'clint', 'eastwood'], ['want', 'information', 'life', 'beautiful'], ['director', 'movie', 'varsham'], ['detail', 'finding', 'nemo'], ['list', 'movies', 'john', 'travolta', 'done'], ['english', 'movie', 'list'], ['ferrell'], ['display', 'details', 'july', 'movie'], ['show', 'movies', 'rating', 'pg'], ['movies', 'stephen', 'spielberg'], ['company', 'produced', 'days', 'thunder'], ['directed', 'finding', 'nemo'], ['search', 'russian', 'movies'], ['g', 'movies'], ['show', 'movies', 'made', 'england'], ['movies', 'come', 'turkey'], ['zombies'], ['produces', 'steel', 'magnolias'], ['movie', 'actors'], ['list', 'movies', 'spanish'], ['produced', 'godfather', 'movies'], ['show', 'recent', 'films', 'starring', 'bruce', 'willis'], ['find', 'movies', 'directed', 'niel', 'abramson'], ['show', 'information', 'producer', 'ray', 'stark'], ['find', 'movies', 'dancing'], ['search', 'birds', 'released'], ['guys', 'comedy'], ['would', 'describe', 'movie'], ['find', 'movies', 'new', 'zealand'], ['movie', 'victor', 'fleming', 'direct'], ['want', 'japanese', 'movies'], ['find', 'list', 'movies', 'directed', 'james', 'cameron'], ['richard', 'lester', 'produced', 'movies'], ['give', 'information', 'elizabeth', 'mcgovern'], ['silence', 'lambs', 'director'], ['bio', 'ferrell'], ['would', 'like', 'see', 'polish', 'language', 'film'], ['new', 'movies', 'eddie', 'murphy'], ['get', 'german', 'language', 'films'], ['avengers', 'released'], ['movies', 'r', 'rating'], ['get', 'think', 'like', 'man', 'movie', 'producer'], ['show', 'information', 'ferrell', 'please'], ['find', 'movies', 'g', 'rating'], ['show', 'movies', 'time', 'travel'], ['sort', 'diving', 'movies'], ['want', 'info', 'produced', 'hitch'], ['show', 'budget', 'movie', 'avatar'], ['movies', 'bruce', 'willis'], ['movie', 'rated'], ['show', 'name', 'producer', 'cabin', 'woods'], ['genre', 'movie', 'lawless'], ['get', 'hungarian', 'films'], ['show', 'movies', 'directed', 'oliver', 'stone'], ['show', 'pg', 'thirteen', 'movies'], ['search', 'movies', 'french'], ['complete', 'cast', 'crew', 'apollo', 'thirteen'], ['watch', 'movies', 'german', 'language'], ['goodfellas', 'director'], ['would', 'like', 'know', 'release', 'date', 'movie', 'barfi'], ['movies', 'smith', 'directed'], ['directors', 'gone', 'wind'], ['want', 'see', 'movies', 'ferrell'], ['need', 'get', 'every', 'possible', 'information', 'related', 'movie', 'dirty', 'dancing'], ['genre', 'avengers'], ['directed', 'movie', 'called', 'avatar'], ['titanic', 'release', 'date'], ['made', 'steel', 'magnolias'], ['find', 'movies', 'japan'], ['lee', 'unkrich', 'direct'], ['avatar', 'released'], ['steven', 'spielberg', 'pictures'], ['want', 'see', 'polish', 'movie'], ['give', 'movies', 'directed', 'tyler', 'perry'], ['would', 'like', 'view', 'movies', 'made', 'france'], ['type', 'movie', 'gilda'], ['martin', 'lawrence', 'directed', 'movie'], ['language', 'spoken', 'indochine'], ['movies', 'albert', 'ruddy', 'produced'], ['get', 'list', 'movies', 'ron', 'howard', 'produce'], ['show', 'back', 'future', 'movies'], ['great', 'gatsby'], ['movie', 'albert', 'brooks', 'done', 'lately'], ['look', 'movies', 'brad', 'pitt'], ['films', 'produced', 'twentieth', 'century', 'fox'], ['show', 'actors', 'movies'], ['movie', 'made', 'dreamworks'], ['stars', 'july'], ['woody', 'movies'], ['show', 'japanese', 'movies'], ['company', 'produced', 'cabin', 'woods'], ['movies', 'jake', 'gyllenhaal', 'star'], ['movies', 'comedy'], ['videos', 'steven', 'spielberg'], ['mpaa', 'rating', 'movie'], ['show', 'diving', 'movies'], ['give', 'list', 'movies', 'spain'], ['display', 'biography', 'actor', 'ferrell'], ['much', 'revenue', 'titanic', 'make'], ['show', 'bio', 'director', 'steven', 'spielberg'], ['show', 'movies', 'scary', 'zombies'], ['show', 'steven', 'spielberg', 'movies'], ['tell', 'language', 'movie', 'hero'], ['language', 'film', 'revanche'], ['movies', 'brad', 'pitt', 'produced'], ['list', 'movies', 'directed', 'james', 'cameron'], ['show', 'bio', 'ferrell'], ['produced', 'et'], ['want', 'find', 'pg', 'rated', 'movies'], ['show', 'chinese', 'movies'], ['movie', 'made'], ['get', 'name', 'directed', 'master'], ['find', 'producer', 'heroine'], ['find', 'time', 'travel', 'movies'], ['search', 'dirty', 'dancing'], ['run', 'search', 'star', 'wars', 'four'], ['show', 'list', 'scary', 'movies'], ['show', 'sarah', 'polley', 'movies'], ['display', 'director', 'movie', 'avengers'], ['view', 'dirty', 'dancing'], ['life', 'beautiful', 'released'], ['directed', 'avatar'], ['find', 'director', 'movies'], ['movies', 'spike', 'lee', 'direct'], ['find', 'stats', 'steven', 'spielberg'], ['locate', 'movies', 'produced', 'clint', 'eastwood'], ['sleeping', 'released'], ['give', 'information', 'charles'], ['find', 'movies', 'pg'], ['company', 'produced', 'twilight'], ['lead', 'man', 'taxi', 'driver'], ['genre', 'hunger', 'games'], ['display', 'information', 'movie', 'life', 'beautiful'], ['take', 'year', 'old', 'see', 'american', 'pie'], ['need', 'know', 'release', 'date', 'movie', 'barfi'], ['several', 'g', 'movies'], ['tell', 'movie'], ['actor', 'ferrell'], ['need', 'know', 'movie', 'avatar', 'released'], ['show', 'name', 'country', 'movie', 'kati', 'patang', 'comes'], ['plays', 'movie', 'campaign'], ['name', 'movies', 'clive', 'owen'], ['find', 'movies', 'india'], ['show', 'official', 'site', 'finding', 'nemo'], ['lead', 'woman', 'savages'], ['tell', 'revenue', 'generated', 'movie', 'avatar'], ['movies', 'albert', 'ruddy', 'produced'], ['type', 'audience', 'watch', 'cars'], ['twilight', 'directed'], ['search', 'movies', 'dancing'], ['list', 'dutch', 'movies'], ['movie', 'step', 'released'], ['want', 'know', 'director', 'finding', 'nemo'], ['movies', 'harry', 'weinstein', 'produce'], ['show', 'bette', 'midler', 'movies'], ['overboard', 'released'], ['movies', 'ferrell', 'played'], ['director', 'avengers'], ['studio', 'made', 'dark', 'knight'], ['movies', 'bengali'], ['different', 'languages', 'movie', 'come'], ['find', 'films', 'produced', 'drew', 'barrymore'], ['show', 'german', 'movies'], ['search', 'directors'], ['find', 'directors'], ['list', 'bruce', 'lee', 'produced', 'movies'], ['find', 'twentieth', 'century', 'fox', 'movies'], ['show', 'spanish', 'movies'], ['movie', 'top', 'gun', 'released'], ['find', 'synopsis', 'life', 'beautiful'], ['name', 'director', 'men', 'black'], ['need', 'know', 'trainspotting', 'comes'], ['many', 'movies', 'made', 'united', 'states'], ['want', 'see', 'movies', 'katie', 'holmes'], ['movies', 'bank', 'robberies'], ['movies', 'england'], ['find', 'films'], ['get', 'list', 'zombie', 'movies'], ['search', 'cast', 'crew', 'movie', 'dirty', 'dancing'], ['show', 'movies', 'greek'], ['display', 'actors', 'movies'], ['please', 'make', 'list', 'movies', 'made', 'spanish'], ['type', 'movie'], ['find', 'movies', 'spanish'], ['show', 'information', 'cast', 'crew', 'pitchperfect'], ['would', 'like', 'get', 'information', 'movie', 'dirty', 'dancing'], ['much', 'cost', 'produce', 'deer', 'hunter'], ['find', 'information', 'kristen', 'stewart'], ['gilda', 'director'], ['locate', 'movies', 'produced', 'george', 'lucas'], ['company', 'produced', 'hangover'], ['list', 'paramount', 'produced', 'films'], ['movies', 'gabrielle', 'union', 'come'], ['find', 'directed', 'movie', 'batman'], ['need', 'know', 'names', 'movies', 'produced', 'william', 'packer'], ['videos', 'country', 'norway'], ['movies', 'made', 'united', 'states'], ['show', 'cast', 'crew', 'finding', 'nemo'], ['movie', 'dreamworks'], ['show', 'details', 'movie', 'star', 'wars', 'episode', 'four', 'new', 'hope'], ['show', 'cher', 'movies'], ['show', 'comedy', 'pitch', 'perfect'], ['movies', 'richard', 'lester', 'directed'], ['would', 'like', 'see', 'movies', 'english'], ['show', 'pg', 'movies'], ['find', 'movies', 'vietnam'], ['tell', 'country', 'movie', 'kati', 'patang', 'comes'], ['produced', 'movie'], ['take', 'star', 'wars', 'four', 'page'], ['show', 'movies', 'poland'], ['movies', 'regarding', 'hobby', 'chess'], ['show', 'rating', 'cabin', 'woods'], ['give', 'anything', 'directed', 'robert', 'wise'], ['hope', 'movie', 'would', 'english'], ['movies', 'karan', 'johar'], ['budget', 'titanic'], ['find', 'scifi', 'films'], ['get', 'information', 'spielberg'], ['show', 'movies', 'concerning', 'war'], ['directed', 'avatar'], ['films', 'warner', 'bros', 'produced'], ['need', 'know', 'genre', 'movie', 'avatar'], ['please', 'show', 'info', 'movie', 'campaign'], ['movie', 'avatar', 'cost', 'make'], ['show', 'g', 'movies'], ['genre', 'calendar', 'girls'], ['list', 'brad', 'pitt', 'movies'], ['looking', 'drama', 'movie'], ['show', 'movies', 'james', 'cameron', 'produced'], ['actors', 'appeared', 'movie', 'hitch'], ['star', 'twilight'], ['find', 'film', 'july'], ['movies', 'clive', 'owen'], ['help', 'released'], ['want', 'see', 'g', 'rated', 'films'], ['movies', 'directed', 'clint', 'eastwood'], ['need', 'know', 'rating', 'movie', 'avatar'], ['show', 'steven', 'spielberg', 'movies'], ['show', 'movies', 'produced', 'bruce', 'lee'], ['movies', 'skating', 'ice'], ['find', 'genre', 'movie', 'annamayya'], ['show', 'page', 'house', 'end', 'street'], ['director', 'batman'], ['find', 'russian', 'movies'], ['release', 'date', 'heroine'], ['give', 'list', 'zombie', 'movies'], ['top', 'gun', 'come'], ['tell', 'genre', 'tommyknockers'], ['release', 'date', 'movie', 'resident', 'evil'], ['show', 'rating', 'movie', 'avengers'], ['dirty', 'dancing', 'released'], ['foreign', 'language', 'spoken', 'movie'], ['give', 'list', 'movies', 'produced', 'bruce', 'lee'], ['brad', 'pitt', 'movies'], ['played', 'nick', 'fury', 'avengers'], ['movies', 'made', 'japan'], ['lead', 'actress', 'hunger', 'games'], ['directed', 'sandlot'], ['show', 'canadian', 'movies'], ['movies', 'germany'], ['search', 'ferrell'], ['show', 'credits', 'godfather'], ['cast', 'black', 'swan'], ['show', 'movies', 'charlie', 'sheen'], ['give', 'movies', 'spanish'], ['show', 'movies', 'produced', 'ray', 'stark'], ['find', 'english', 'movies'], ['show', 'movies', 'kristen', 'stewart'], ['year', 'spielberg', 'start', 'directing', 'movies'], ['show', 'french', 'movies'], ['show', 'movies', 'done', 'arts'], ['stars', 'house', 'end', 'street'], ['director', 'movie', 'hum', 'tum'], ['give', 'name', 'country', 'movie', 'thoda', 'pyaar', 'thoda', 'magic'], ['find', 'pg', 'thirteen', 'movies'], ['show', 'zombie', 'movies'], ['rating', 'superman'], ['get', 'brad', 'pitt', 'produced', 'movies'], ['find', 'budget', 'big', 'fat', 'greek', 'wedding'], ['scooby', 'movie', 'released'], ['producers', 'movie', 'ants'], ['country', 'les', 'miserable', 'come'], ['movies', 'italy'], ['gross', 'earnings', 'avengers', 'movie'], ['tell', 'language', 'movie', 'aankhen'], ['directed', 'perfect', 'storm'], ['director', 'steven', 'spielberg'], ['resident', 'evil', 'first', 'theatres'], ['country', 'cell'], ['find', 'john', 'cusack', 'movies'], ['details', 'life', 'beautiful', 'please'], ['give', 'list', 'directors'], ['want', 'learn', 'charlie', 'sheen'], ['show', 'relevant', 'information', 'director', 'steven', 'spielberg'], ['would', 'like', 'know', 'names', 'indian', 'movies'], ['director', 'gone', 'wind'], ['show', 'detailed', 'information', 'movie', 'july'], ['please', 'show', 'info', 'movie', 'dirty', 'dancing'], ['bring', 'diving', 'movies'], ['name', 'producer', 'ghost', 'busters'], ['budget', 'hobbit'], ['much', 'revenue', 'avengers', 'take'], ['robert', 'wise', 'life'], ['movies', 'italian'], ['look', 'information', 'charles', 'vidor'], ['find', 'info', 'house', 'end', 'street'], ['directed', 'soul', 'surfer'], ['childs', 'vidor'], ['spielberg', 'movies'], ['want', 'see', 'zombie', 'movies'], ['show', 'movies', 'time', 'travel'], ['show', 'cast', 'movie', 'request'], ['wonder', 'produced', 'terminator'], ['much', 'budget', 'hunger', 'games'], ['look', 'movie', 'campaign'], ['show', 'rating', 'movie', 'avatar'], ['movies', 'starring', 'tom', 'cruise'], ['show', 'movies', 'korean'], ['many', 'movies', 'angelina', 'jolie'], ['provide', 'cost', 'producing', 'deer', 'hunter'], ['search', 'chick', 'flicks'], ['would', 'like', 'list', 'paramount', 'movies'], ['movies', 'originally', 'foreign', 'language'], ['produced', 'cars'], ['show', 'movies', 'japan'], ['movies', 'produced', 'brad', 'pitt'], ['made', 'et'], ['look', 'movies', 'directed', 'tyler', 'perry'], ['looking', 'cost', 'movies'], ['show', 'horror', 'movies'], ['many', 'films', 'robert', 'wise', 'direct'], ['movies', 'ice', 'skating'], ['list', 'barry', 'sonnenfeld', 'films'], ['give', 'list', 'movies', 'producer', 'walt', 'disney'], ['ticket', 'sales', 'movie', 'avengers'], ['director', 'titanic'], ['know', 'released'], ['get', 'list', 'movies', 'kristen', 'stewart'], ['movies', 'lionsgate', 'done'], ['find', 'cast', 'crew', 'dirty', 'dancing'], ['list', 'th', 'century', 'fox', 'films'], ['show', 'rating', 'movie', 'mechanic'], ['many', 'movies', 'tom', 'hanks', 'starred'], ['language', 'moscow', 'believe', 'tears'], ['want', 'see', 'movies', 'r', 'rating'], ['find', 'information', 'cast', 'appolo', 'thirteen'], ['budget', 'big', 'fat', 'greek', 'wedding'], ['look', 'information', 'tom', 'cruise'], ['rating', 'movie'], ['find', 'french', 'movies'], ['produced', 'great', 'debaters'], ['give', 'best', 'baseball', 'movies'], ['show', 'information', 'movie'], ['movies', 'alfred', 'hitchcock'], ['need', 'page', 'life', 'beautiful'], ['producers', 'movie', 'hitch'], ['information', 'clark', 'gable'], ['julian', 'fellows', 'productions'], ['much', 'money', 'avatar', 'make'], ['tim', 'burton', 'movies'], ['movies', 'tom', 'cruise', 'starred'], ['movies', 'ferrell'], ['show', 'movies', 'rated', 'pg'], ['films', 'spoken', 'english'], ['movies', 'robert', 'deniro', 'produced'], ['stephen', 'spielberg', 'biography'], ['rating', 'g'], ['want', 'look', 'information', 'movie', 'hotel', 'transylvania'], ['would', 'like', 'know', 'names', 'japanese', 'movies'], ['movies', 'tom', 'hanks', 'star'], ['complete', 'list', 'movies', 'made', 'searchlight', 'films'], ['show', 'profile', 'spielberg'], ['give', 'facts', 'cast', 'crew', 'movie', 'apollo', 'thirteen'], ['show', 'list', 'movies', 'directed', 'mel', 'gibson'], ['please', 'tell', 'movie', 'gone', 'wind', 'released'], ['cast', 'crew', 'hitch'], ['many', 'movies', 'charles', 'vidor', 'directed'], ['movie', 'info', 'kristen', 'stewart'], ['toy', 'story', 'kids'], ['goto', 'ferrell', 'biography'], ['anything', 'george', 'cukor'], ['show', 'movies', 'listed', 'directors'], ['list', 'movies', 'french'], ['current', 'movies', 'rated', 'pg'], ['full', 'name', 'star', 'wars', 'iv'], ['please', 'find', 'info', 'finding', 'nemo'], ['show', 'information', 'movie', 'house', 'end', 'street'], ['display', 'movies', 'german'], ['rating', 'dark', 'knight', 'rises', 'receive'], ['company', 'produced', 'secretariat'], ['genre', 'rambo'], ['produced', 'cabin', 'woods'], ['list', 'french', 'movies'], ['show', 'information', 'movie', 'dirty', 'dancing', 'like', 'story', 'reviews', 'cast', 'etc'], ['release', 'date', 'avatar'], ['pg', 'movies'], ['find', 'movies', 'rated', 'pg'], ['many', 'movies', 'richard', 'lester', 'direct'], ['movies', 'english'], ['want', 'view', 'movies', 'tom', 'hanks'], ['jurassic', 'park', 'rated'], ['budget', 'avatar'], ['finding', 'nemo'], ['play', 'movies', 'turkey'], ['meryl', 'streep', 'movies'], ['get', 'information', 'finding', 'nemo'], ['show', 'movies', 'war'], ['show', 'lionsgate'], ['director', 'shot', 'st', 'lord', 'rings', 'film'], ['release', 'date', 'house', 'end', 'street'], ['avatar', 'released'], ['find', 'love', 'stories'], ['producer', 'elizabeth'], ['movies', 'made', 'spain'], ['movie', 'july'], ['hitchcock', 'movies'], ['info', 'hitch', 'producer'], ['movies', 'jj', 'abrams', 'procuced'], ['movies', 'patrick', 'swayze', 'played'], ['movies', 'alfred', 'hitchcock'], ['smith', 'bio'], ['produced', 'movie', 'hotel', 'rwanda'], ['want', 'see', 'charles', 'vidor'], ['get', 'info', 'movie', 'house', 'end', 'street'], ['search', 'spanish', 'movies'], ['search', 'director', 'step'], ['find', 'dreamworks', 'films'], ['country', 'outside', 'law'], ['cast', 'crew', 'hitch'], ['directed', 'return'], ['movie', 'brad', 'pitt'], ['movies', 'produced', 'chris', 'nolan'], ['want', 'find', 'movies', 'director', 'james', 'cameron'], ['director', 'sleepless', 'seattle'], ['want', 'look', 'movies', 'produced', 'morgan', 'freeman'], ['know', 'movie', 'available'], ['list', 'movies', 'directed', 'robert', 'wise'], ['director', 'forest', 'gump'], ['look', 'movies', 'produced', 'morgan', 'freeman'], ['find', 'list', 'movies', 'directed', 'spielberg'], ['cannot', 'remember', 'name', 'actor', 'pretty', 'women'], ['house', 'end', 'street', 'showing'], ['need', 'list', 'actors'], ['show', 'cameron', 'diaz', 'movies'], ['show', 'information', 'shelly', 'long'], ['show', 'horror', 'movies'], ['ferrell'], ['show', 'movies', 'made', 'paramount'], ['find', 'info', 'emma', 'watson'], ['show', 'movies', 'produced', 'clint', 'eastwood'], ['show', 'movies', 'time', 'travel', 'themes'], ['tell', 'director', 'batman'], ['release', 'date', 'snow', 'white', 'huntsman'], ['black', 'swan'], ['look', 'french', 'movies'], ['please', 'open', 'page', 'july', 'movie'], ['show', 'movies', 'angelina', 'jolie'], ['show', 'elvis', 'movies'], ['show', 'movies', 'directed', 'steven', 'spielberg'], ['budget', 'citizen', 'kane'], ['month', 'movie', 'released'], ['look', 'language', 'chaser'], ['expendables', 'released'], ['show', 'information', 'darla', 'anderson'], ['show', 'information', 'movie', 'dirty', 'dancing'], ['directed', 'jurassic', 'park'], ['directed', 'finding', 'nemo'], ['information', 'sally', 'field'], ['first', 'movie', 'steven', 'spielberg', 'directed'], ['robert', 'wise', 'direct', 'sound', 'music'], ['ratings', 'house', 'end', 'street', 'hold'], ['show', 'life', 'beautiful', 'information'], ['stared', 'love', 'lucy'], ['directed', 'movie', 'titanic'], ['date', 'spider', 'released'], ['show', 'list', 'movies', 'directed', 'tom', 'hanks', 'starting', 'newest', 'oldest'], ['steven', 'spielberg', 'bio'], ['show', 'list', 'movies', 'made', 'canada'], ['twentieth', 'century', 'fox', 'movies', 'since'], ['show', 'star', 'wars', 'four'], ['release', 'date', 'batman'], ['run', 'search', 'life', 'beautiful'], ['list', 'brad', 'pitt', 'movies'], ['budget', 'avengers'], ['movie'], ['producer', 'tom', 'hanks', 'movies'], ['finding', 'nemo'], ['company', 'produced', 'sparkle'], ['tell', 'cast', 'crew', 'movie', 'apollo', 'thirteen'], ['produced', 'hitch'], ['see', 'great', 'gatsby'], ['show', 'list', 'recent', 'releases', 'rated', 'pg'], ['reccommended', 'audience', 'movie'], ['movies', 'vampires'], ['find', 'spanish', 'movies'], ['spielberg', 'direct'], ['life', 'beautiful', 'movie', 'page'], ['find', 'movies', 'russian'], ['rocky', 'director'], ['generate', 'list', 'movies', 'ice', 'skating'], ['three', 'latest', 'films', 'ferrell'], ['steven', 'spielberg'], ['want', 'information', 'angelina', 'jolie'], ['would', 'like', 'get', 'information', 'campaign'], ['show', 'rating', 'movie', 'expendables'], ['want', 'list', 'pg', 'rated', 'movies'], ['bring', 'ferrell', 'informaion'], ['show', 'data', 'movie', 'july'], ['find', 'director', 'step'], ['day', 'avatar', 'released'], ['german', 'movie', 'info'], ['directed', 'hard', 'days', 'night'], ['want', 'find', 'information', 'cast', 'apollo', 'thirteen'], ['rating', 'movie', 'ants'], ['need', 'provide', 'info', 'movie', 'content'], ['trainspotting', 'made'], ['much', 'total', 'budget', 'titanic'], ['movie', 'brad', 'pitt'], ['pg', 'movies', 'currently', 'showing'], ['zombie', 'movie', 'favorites'], ['produced', 'spaceballs'], ['find', 'movies', 'directed', 'oliver', 'stone'], ['show', 'mexican', 'films'], ['stephen', 'spielberg', 'movies'], ['korean', 'language', 'movie'], ['movies', 'steven', 'spielberg', 'done'], ['many', 'movies', 'woody', 'allen', 'directed'], ['produced', 'lion', 'king'], ['bings', 'movie', 'page', 'finding', 'nemo'], ['find', 'zombie', 'movies'], ['please', 'find', 'language', 'chaser'], ['get', 'films', 'made', 'canada'], ['find', 'movies', 'produced', 'mel', 'gibson'], ['show', 'movies', 'japanese'], ['starred', 'movie', 'hitch'], ['give', 'release', 'date', 'little', 'mermaid'], ['pg', 'thirteen', 'rated', 'movies'], ['country', 'godzilla'], ['language', 'watch', 'movie', 'professional'], ['tom', 'hanks', 'produces'], ['movies', 'produced', 'yash', 'chopra'], ['language', 'aguirre', 'wrath', 'god'], ['find', 'movies', 'jj', 'abrams'], ['producer', 'gone', 'wind'], ['interested', 'directed', 'cabin', 'woods'], ['budget', 'request', 'big', 'fat', 'greek', 'wedding'], ['need', 'details', 'steven', 'spielberg'], ['recent', 'released', 'pg', 'movies'], ['see', 'credits', 'dirty', 'dancing'], ['show', 'movies', 'french'], ['looking', 'musical', 'movie'], ['movies', 'made', 'searchlight', 'films'], ['get', 'info', 'star', 'wars', 'episode', 'four'], ['show', 'info', 'movie', 'dirty', 'dancing', 'please'], ['show', 'spielberg', 'movies'], ['produced', 'hitch'], ['type', 'movie'], ['portugese', 'movies'], ['list', 'movies', 'starring', 'angelina', 'jolie'], ['made', 'hitch'], ['starred', 'hitch'], ['finding', 'nemo', 'movie', 'shortcut'], ['show', 'rating', 'film', 'avengers'], ['list', 'movies', 'french'], ['want', 'see', 'movie', 'directed', 'scorsese'], ['director', 'name', 'lord', 'rings'], ['show', 'release', 'date', 'movie', 'barfi'], ['producer', 'passion', 'christ'], ['produced', 'casino', 'royale'], ['show', 'information', 'smith'], ['search', 'movie', 'july'], ['information', 'finding', 'nemo'], ['list', 'hitchcock', 'movies'], ['show', 'list', 'movies', 'produced', 'mgm'], ['name', 'director', 'sleepless', 'seattle'], ['avatar', 'movie', 'budget', 'spending'], ['search', 'budget', 'step'], ['show', 'list', 'scary', 'movies'], ['would', 'like', 'see', 'house', 'end', 'street', 'information'], ['starred', 'dirty', 'dancing'], ['need', 'movies', 'directed', 'oliver', 'stone'], ['want', 'movies', 'sidney', 'lumit'], ['show', 'movies', 'pg', 'ratings'], ['show', 'movies', 'spielberg', 'made'], ['movies', 'directed'], ['look', 'movies', 'starring', 'singer', 'mario'], ['need', 'know', 'producer', 'ray', 'stark'], ['goto', 'warner', 'brothers'], ['movie', 'category'], ['release', 'date', 'toy', 'story'], ['show', 'movie', 'starred', 'patrick', 'swayze'], ['list', 'g', 'movies'], ['find', 'spike', 'lee', 'directed', 'movies'], ['listed', 'producer', 'grease'], ['language', 'black', 'swan'], ['list', 'cast', 'hitch'], ['show', 'comedies'], ['want', 'see', 'info', 'star', 'wars', 'four'], ['films', 'robert', 'redford', 'directed'], ['tell', 'trainspotting'], ['find', 'chinese', 'language', 'movies'], ['movies', 'spanish'], ['year', 'movie', 'released'], ['lion', 'king', 'release', 'yr'], ['give', 'list', 'time', 'travel', 'movies'], ['need', 'see', 'movies', 'warner', 'brothers'], ['look', 'information', 'canadian', 'movies'], ['name', 'actor', 'parent', 'trap'], ['show', 'list', 'musicals'], ['show', 'films', 'steven', 'spielberg'], ['produced', 'godfather'], ['gross', 'earnings', 'movies'], ['watch', 'james', 'cameron', 'movies'], ['directed', 'gone', 'wind'], ['list', 'tom', 'hanks', 'movies'], ['find', 'nc', 'movies'], ['budget', 'black', 'swan'], ['movies', 'cecil', 'b', 'demille'], ['find', 'movie', 'finding', 'nemo'], ['stars', 'july'], ['main', 'character', 'men', 'black'], ['frank', 'capra', 'movies'], ['find', 'canadian', 'films'], ['life', 'beautiful', 'released'], ['find', 'pg', 'movies'], ['show', 'played', 'role', 'go'], ['show', 'thrillers'], ['pg', 'movies'], ['movies', 'rated', 'pg'], ['movie', 'frankenstein', 'released'], ['many', 'movies', 'ray', 'stark', 'produced'], ['tell', 'michelle', 'pfiefer'], ['type', 'movie', 'ted', 'considered'], ['produced', 'avatar'], ['search', 'director', 'movie', 'platoon'], ['give', 'details', 'producer', 'ray', 'stark'], ['find', 'tamil', 'movies'], ['overview', 'house', 'end', 'street'], ['list', 'ferrell', 'films'], ['genre', 'superman'], ['find', 'movies', 'pg'], ['find', 'films', 'german'], ['would', 'like', 'see', 'movie', 'albert', 'brooks'], ['biography', 'ferrell'], ['list', 'uk', 'movies'], ['twilight', 'revenue'], ['ferrell', 'done'], ['looking', 'movies', 'directed', 'tom', 'hanks'], ['movie', 'gone', 'wind', 'released'], ['director', 'film', 'finding', 'nemo'], ['pull', 'spielberg'], ['genre', 'movie', 'pretty', 'girl'], ['produced', 'movie'], ['budget', 'movie', 'avatar'], ['movie', 'stuff', 'steven', 'spielberg'], ['search', 'spanish', 'movies'], ['bring', 'bio', 'ferrell'], ['want', 'watch', 'movie', 'sergio', 'leone'], ['tell', 'revenue', 'generated', 'movie', 'avatar'], ['show', 'movies', 'directed', 'ron', 'howard'], ['search', 'twentieth', 'century', 'fox'], ['search', 'movies', 'produced', 'morgan', 'freeman'], ['show', 'details', 'star', 'wars', 'new', 'hope', 'movie'], ['show', 'movies', 'produced', 'french'], ['hindi'], ['movies', 'george', 'clooney'], ['show', 'list', 'movies', 'r', 'rating'], ['country', 'black', 'beauty', 'come'], ['want', 'watch', 'german', 'movie'], ['played', 'guido', 'life', 'beautiful'], [], ['search', 'producer', 'step'], ['time', 'travel', 'movies'], ['appropriate', 'kids'], ['date', 'welcome', 'dollhouse', 'released'], ['search', 'dirty', 'dancing'], ['cast', 'hitch'], ['please', 'look', 'movies', 'produced', 'albert', 'ruddy'], ['get', 'john', 'cusack', 'movies'], ['made', 'movie', 'field', 'dreams', 'possible'], ['watch', 'pg', 'g', 'movies'], ['find', 'french', 'language', 'movies'], ['show', 'r', 'rated', 'movies'], ['dirty', 'dancing', 'facts'], ['tell', 'language', 'ju'], ['much', 'big', 'fat', 'greek', 'wedding', 'cost'], ['show', 'movies', 'jennifer', 'aniston'], ['country', 'kinky', 'boots', 'made'], ['campaign'], ['show', 'canadian', 'films'], ['show', 'details', 'original', 'finding', 'nemo'], ['many', 'movies', 'kristen', 'stewart', 'made'], ['find', 'details', 'star', 'wars', 'new', 'hope', 'movie'], ['directed', 'movie', 'thing', 'called', 'love'], ['stars', 'finding', 'nemo'], ['give', 'names', 'movies', 'pg', 'thirteen', 'rating'], ['find', 'director', 'andrew', 'stanton'], ['happiness', 'get', 'released'], ['films', 'mel', 'gibson'], ['display', 'results', 'dirty', 'dancing'], ['avatar', 'released'], ['language', 'la', 'havre'], ['show', 'rated', 'r', 'movies'], ['show', 'rating', 'movie'], ['search', 'movies', 'directed', 'tyler', 'perry'], ['year', 'hobbit', 'relased'], ['r', 'rated', 'movies'], ['director', 'directed', 'avatar'], ['movies', 'directed', 'steven', 'spielberg'], ['search', 'movies', 'produced', 'spike', 'lee'], ['need', 'know', 'names', 'movies', 'rating', 'pg'], ['iron', 'man', 'movie', 'theatres'], ['select', 'option', 'search', 'movies', 'produced', 'stephen', 'spielberg'], ['movies', 'made', 'united', 'states'], ['produced', 'godfather'], ['budget', 'facing', 'giants'], ['look', 'finding', 'nemo'], ['stars', 'forager'], ['find', 'director', 'pretty', 'woman'], ['movies', 'jack', 'black'], ['list', 'french', 'speaking', 'films'], ['please', 'list', 'movies', 'stephen', 'spielberg', 'produced'], ['need', 'see', 'list', 'pg', 'movies'], ['find', 'info', 'star', 'wars', 'episode', 'four'], ['find', 'information', 'kristen', 'stewart'], ['foreign', 'language', 'movie', 'belle', 'available', 'view'], ['show', 'movies', 'produced', 'warner', 'bros'], ['show', 'movies', 'star', 'ed', 'harris'], ['movie', 'vulgaria', 'released'], ['please', 'show', 'movies', 'made', 'france'], ['hitchcock', 'movie', 'list'], ['find', 'movies', 'russian'], ['search', 'foreign', 'movies'], ['quentin', 'tarrantino', 'movies']]\n"
          ]
        }
      ]
    },
    {
      "cell_type": "code",
      "metadata": {
        "id": "JCmD_tscB8Tc"
      },
      "source": [
        "def convert2seq(text):\n",
        "  \n",
        "  #padding\n",
        "  text = TEXT.pad(text)\n",
        "  \n",
        "  #converting to numbers\n",
        "  text = TEXT.numericalize(text)\n",
        "  \n",
        "  return text"
      ],
      "execution_count": 1705,
      "outputs": []
    },
    {
      "cell_type": "code",
      "metadata": {
        "id": "gy0jLpHk-gEy"
      },
      "source": [
        "X_train = convert2seq(train_text)\n",
        "X_valid = convert2seq(valid_text)"
      ],
      "execution_count": 1706,
      "outputs": []
    },
    {
      "cell_type": "code",
      "metadata": {
        "id": "D9-AU-oUj9Uq",
        "colab": {
          "base_uri": "https://localhost:8080/"
        },
        "outputId": "95dfdf10-4976-4935-91a6-3955b2222d08"
      },
      "source": [
        "X_train[0]"
      ],
      "execution_count": 1707,
      "outputs": [
        {
          "output_type": "execute_result",
          "data": {
            "text/plain": [
              "tensor([44, 35,  0,  1,  1,  1,  1,  1,  1,  1,  1,  1,  1,  1,  1,  1,  1,  1,\n",
              "         1,  1,  1,  1,  1,  1,  1,  1,  1,  1,  1,  1,  1,  1,  1,  1,  1,  1,\n",
              "         1,  1,  1,  1,  1,  1,  1,  1,  1,  1,  1,  1,  1,  1,  1,  1,  1,  1,\n",
              "         1,  1,  1,  1,  1,  1,  1,  1,  1,  1,  1,  1,  1,  1,  1,  1,  1,  1,\n",
              "         1,  1,  1,  1,  1,  1,  1,  1,  1,  1,  1,  1,  1,  1,  1,  1,  1,  1,\n",
              "         1,  1,  1,  1,  1,  1,  1,  1,  1,  1])"
            ]
          },
          "metadata": {},
          "execution_count": 1707
        }
      ]
    },
    {
      "cell_type": "code",
      "metadata": {
        "id": "5_kAvrkbP6KU",
        "colab": {
          "base_uri": "https://localhost:8080/"
        },
        "outputId": "c11e0011-c6ac-45b3-dee6-3cdeca381b6d"
      },
      "source": [
        "X_train.shape, X_valid.shape"
      ],
      "execution_count": 1708,
      "outputs": [
        {
          "output_type": "execute_result",
          "data": {
            "text/plain": [
              "(torch.Size([1753, 100]), torch.Size([438, 100]))"
            ]
          },
          "metadata": {},
          "execution_count": 1708
        }
      ]
    },
    {
      "cell_type": "code",
      "metadata": {
        "id": "Vl_S6Ql2fwjh"
      },
      "source": [
        "def fetch_tags(data):\n",
        "  tags=[]\n",
        "  for example in data.examples:\n",
        "    tags.append(vars(example)['tags'])\n",
        "  return tags"
      ],
      "execution_count": 1709,
      "outputs": []
    },
    {
      "cell_type": "code",
      "metadata": {
        "id": "2L4V-Zdwf1FT"
      },
      "source": [
        "train_tags = fetch_tags(train_data)\n",
        "valid_tags = fetch_tags(valid_data)"
      ],
      "execution_count": 1710,
      "outputs": []
    },
    {
      "cell_type": "code",
      "metadata": {
        "id": "RwcyVXZE_1MW",
        "colab": {
          "base_uri": "https://localhost:8080/"
        },
        "outputId": "59ddb3ef-b402-4572-ac2e-fdcb5e757d34"
      },
      "source": [
        "train_tags[:5]"
      ],
      "execution_count": 1711,
      "outputs": [
        {
          "output_type": "execute_result",
          "data": {
            "text/plain": [
              "['movie.initial_release_date',\n",
              " 'movie.genre',\n",
              " 'movie.genre',\n",
              " 'movie.starring.actor',\n",
              " 'none']"
            ]
          },
          "metadata": {},
          "execution_count": 1711
        }
      ]
    },
    {
      "cell_type": "code",
      "metadata": {
        "id": "WmT2dgfvOaGw"
      },
      "source": [
        "#preparing the output labels \n",
        "train_tags_list=[i.split(\",\") for i in train_tags]\n",
        "valid_tags_list=[i.split(\",\") for i in valid_tags]"
      ],
      "execution_count": 1712,
      "outputs": []
    },
    {
      "cell_type": "code",
      "metadata": {
        "id": "DWwlKMXc_R4S",
        "colab": {
          "base_uri": "https://localhost:8080/"
        },
        "outputId": "fb4219e5-1f56-4857-dc55-b9da9be032cb"
      },
      "source": [
        "mlb= MultiLabelBinarizer()\n",
        "mlb.fit(train_tags_list)"
      ],
      "execution_count": 1713,
      "outputs": [
        {
          "output_type": "execute_result",
          "data": {
            "text/plain": [
              "MultiLabelBinarizer(classes=None, sparse_output=False)"
            ]
          },
          "metadata": {},
          "execution_count": 1713
        }
      ]
    },
    {
      "cell_type": "code",
      "metadata": {
        "id": "yc4QfBrX_Ryl",
        "colab": {
          "base_uri": "https://localhost:8080/"
        },
        "outputId": "bed58972-f7ac-4927-8aa6-a2e69964148e"
      },
      "source": [
        "mlb.classes_"
      ],
      "execution_count": 1714,
      "outputs": [
        {
          "output_type": "execute_result",
          "data": {
            "text/plain": [
              "array(['actor.gender_movie.starring.actor', 'movie.country',\n",
              "       'movie.country_movie.language', 'movie.directed_by',\n",
              "       'movie.directed_by_movie.initial_release_date',\n",
              "       'movie.directed_by_movie.starring.actor', 'movie.estimated_budget',\n",
              "       'movie.genre', 'movie.gross_revenue', 'movie.initial_release_date',\n",
              "       'movie.initial_release_date_movie.rating',\n",
              "       'movie.initial_release_date_movie.starring.actor',\n",
              "       'movie.language', 'movie.produced_by',\n",
              "       'movie.production_companies', 'movie.rating',\n",
              "       'movie.starring.actor',\n",
              "       'movie.starring.actor_movie.starring.character', 'movie.subjects',\n",
              "       'none'], dtype=object)"
            ]
          },
          "metadata": {},
          "execution_count": 1714
        }
      ]
    },
    {
      "cell_type": "code",
      "metadata": {
        "id": "t6bHhjjsO0oA"
      },
      "source": [
        "y_train  = mlb.transform(train_tags_list)\n",
        "y_valid  = mlb.transform(valid_tags_list)"
      ],
      "execution_count": 1715,
      "outputs": []
    },
    {
      "cell_type": "code",
      "metadata": {
        "id": "RbhTziq7O0iT",
        "colab": {
          "base_uri": "https://localhost:8080/"
        },
        "outputId": "bd03d029-5082-4ab2-d68f-8ccfca9d0220"
      },
      "source": [
        "y_train.shape, y_valid.shape"
      ],
      "execution_count": 1716,
      "outputs": [
        {
          "output_type": "execute_result",
          "data": {
            "text/plain": [
              "((1753, 20), (438, 20))"
            ]
          },
          "metadata": {},
          "execution_count": 1716
        }
      ]
    },
    {
      "cell_type": "code",
      "metadata": {
        "id": "R1QdDTe1pKcY",
        "colab": {
          "base_uri": "https://localhost:8080/"
        },
        "outputId": "084f042e-4684-461f-bb39-882c91c70f0a"
      },
      "source": [
        "type(y_train)"
      ],
      "execution_count": 1717,
      "outputs": [
        {
          "output_type": "execute_result",
          "data": {
            "text/plain": [
              "numpy.ndarray"
            ]
          },
          "metadata": {},
          "execution_count": 1717
        }
      ]
    },
    {
      "cell_type": "code",
      "metadata": {
        "id": "JS0y7u8MQNxf"
      },
      "source": [
        "y_train = torch.FloatTensor(y_train)\n",
        "y_valid = torch.FloatTensor(y_valid)"
      ],
      "execution_count": 1718,
      "outputs": []
    },
    {
      "cell_type": "code",
      "metadata": {
        "id": "PnpswpTgQXuK",
        "colab": {
          "base_uri": "https://localhost:8080/"
        },
        "outputId": "77a4bad6-f40e-43d6-e93c-675a886014fc"
      },
      "source": [
        "type(y_train)"
      ],
      "execution_count": 1719,
      "outputs": [
        {
          "output_type": "execute_result",
          "data": {
            "text/plain": [
              "torch.Tensor"
            ]
          },
          "metadata": {},
          "execution_count": 1719
        }
      ]
    },
    {
      "cell_type": "markdown",
      "metadata": {
        "id": "f1QO2V5C1q0c"
      },
      "source": [
        "# 4. Model Building"
      ]
    },
    {
      "cell_type": "markdown",
      "metadata": {
        "id": "wwPA0UEV1sdy"
      },
      "source": [
        " ## 4.1 Model Architecture"
      ]
    },
    {
      "cell_type": "code",
      "metadata": {
        "id": "I-Hu3YNxhx5Z"
      },
      "source": [
        "# define embedding layer\n",
        "emb = Embedding(num_embeddings=len(TEXT.vocab), embedding_dim=50)"
      ],
      "execution_count": 1720,
      "outputs": []
    },
    {
      "cell_type": "code",
      "metadata": {
        "id": "jHL606DglJxs",
        "colab": {
          "base_uri": "https://localhost:8080/"
        },
        "outputId": "9833c30e-926d-4aa4-f8c6-7436ad24958a"
      },
      "source": [
        "X_train[:1].shape"
      ],
      "execution_count": 1721,
      "outputs": [
        {
          "output_type": "execute_result",
          "data": {
            "text/plain": [
              "torch.Size([1, 100])"
            ]
          },
          "metadata": {},
          "execution_count": 1721
        }
      ]
    },
    {
      "cell_type": "code",
      "metadata": {
        "id": "9qU_qVYah4sZ"
      },
      "source": [
        "# check sample input\n",
        "sample_embedding = emb(X_train[:1])"
      ],
      "execution_count": 1722,
      "outputs": []
    },
    {
      "cell_type": "code",
      "metadata": {
        "id": "qRqMsYe_jJzW",
        "colab": {
          "base_uri": "https://localhost:8080/"
        },
        "outputId": "5b2ec439-30cc-46c8-9ded-020d9d418da9"
      },
      "source": [
        "sample_embedding.shape"
      ],
      "execution_count": 1723,
      "outputs": [
        {
          "output_type": "execute_result",
          "data": {
            "text/plain": [
              "torch.Size([1, 100, 50])"
            ]
          },
          "metadata": {},
          "execution_count": 1723
        }
      ]
    },
    {
      "cell_type": "code",
      "metadata": {
        "id": "7GNiEeVSzNqg"
      },
      "source": [
        "#define a rnn\n",
        "rnn = RNN(input_size=50, hidden_size=256, batch_first=True, nonlinearity='relu')"
      ],
      "execution_count": 1724,
      "outputs": []
    },
    {
      "cell_type": "code",
      "metadata": {
        "id": "BWWNM7emrESx"
      },
      "source": [
        "#pass the input to rnn\n",
        "hidden_states,last_hidden_state = rnn(sample_embedding)"
      ],
      "execution_count": 1725,
      "outputs": []
    },
    {
      "cell_type": "code",
      "metadata": {
        "id": "b2UOiZpIrEOV",
        "colab": {
          "base_uri": "https://localhost:8080/"
        },
        "outputId": "8d8043d6-9ae4-4eae-bd89-384a8849858a"
      },
      "source": [
        "#Hidden state of every timestep (Batch, seq_len, no. of hidden neurons)\n",
        "hidden_states.shape"
      ],
      "execution_count": 1726,
      "outputs": [
        {
          "output_type": "execute_result",
          "data": {
            "text/plain": [
              "torch.Size([1, 100, 256])"
            ]
          },
          "metadata": {},
          "execution_count": 1726
        }
      ]
    },
    {
      "cell_type": "code",
      "metadata": {
        "id": "5X-Sh0Hfsndv",
        "colab": {
          "base_uri": "https://localhost:8080/"
        },
        "outputId": "70c66cb1-ed04-4159-d81c-64c5240bc2ed"
      },
      "source": [
        "#output shape of last hidden timestep\n",
        "last_hidden_state.shape"
      ],
      "execution_count": 1727,
      "outputs": [
        {
          "output_type": "execute_result",
          "data": {
            "text/plain": [
              "torch.Size([1, 1, 256])"
            ]
          },
          "metadata": {},
          "execution_count": 1727
        }
      ]
    },
    {
      "cell_type": "code",
      "metadata": {
        "id": "_CR_ZH74oMKU",
        "colab": {
          "base_uri": "https://localhost:8080/"
        },
        "outputId": "c8e34275-80cf-44d0-b6ed-23d194b02551"
      },
      "source": [
        "#reshaping the hidden states\n",
        "reshaped = hidden_states.reshape(hidden_states.size(0),-1)\n",
        "reshaped.shape"
      ],
      "execution_count": 1728,
      "outputs": [
        {
          "output_type": "execute_result",
          "data": {
            "text/plain": [
              "torch.Size([1, 25600])"
            ]
          },
          "metadata": {},
          "execution_count": 1728
        }
      ]
    },
    {
      "cell_type": "code",
      "metadata": {
        "id": "ak9rPTehSv0F"
      },
      "source": [
        "# Define Model Architecture\n",
        "\n",
        "# Input\n",
        "# Embedding(embedding_dim=50)\n",
        "# RNN(128)\n",
        "# Linear(128, 'relu')\n",
        "# Linear(10, 'sigmoid')\n",
        "\n",
        "class Net(nn.Module):\n",
        "    \n",
        "    #define all the layers used in model\n",
        "    def __init__(self):\n",
        "        \n",
        "        #Constructor\n",
        "        super(Net, self).__init__()   \n",
        "        \n",
        "        self.rnn_layer = nn.Sequential(\n",
        "            \n",
        "            #embedding layer [batch_size,vocab_size]\n",
        "            Embedding(num_embeddings=len(TEXT.vocab), embedding_dim=50),\n",
        "        \n",
        "            #rnn layer [batch_size,100,128]\n",
        "            RNN(input_size=50, hidden_size=256, nonlinearity='relu',batch_first=True)\n",
        "          \n",
        "            )\n",
        "\n",
        "        self.dense_layer = nn.Sequential(\n",
        "            \n",
        "            #[batch_size,100*128]\n",
        "            Linear(25600, 256),\n",
        "            LeakyReLU(),\n",
        "            #ReLU(),\n",
        "\n",
        "            #[batch_size,128]\n",
        "            Linear(256,20),\n",
        "            \n",
        "            #[batch_size,10]\n",
        "            Sigmoid()\n",
        "\n",
        "        )\n",
        "\n",
        "    def forward(self, x):\n",
        "        \n",
        "        #rnn layer\n",
        "        hidden_states, last_hidden_state = self.rnn_layer(x)\n",
        "\n",
        "        #reshaping\n",
        "        hidden_states = hidden_states.reshape(hidden_states.size(0),-1)\n",
        "\n",
        "        #dense layer\n",
        "        outputs=self.dense_layer(hidden_states)\n",
        "        \n",
        "        return outputs"
      ],
      "execution_count": 1729,
      "outputs": []
    },
    {
      "cell_type": "code",
      "metadata": {
        "id": "0YJHLpi4Sv5j"
      },
      "source": [
        "#define the model\n",
        "model = Net()"
      ],
      "execution_count": 1730,
      "outputs": []
    },
    {
      "cell_type": "code",
      "metadata": {
        "id": "L4U_4YfbSv_A",
        "colab": {
          "base_uri": "https://localhost:8080/"
        },
        "outputId": "98aab534-c4cc-46f1-e30a-54e882e63d90"
      },
      "source": [
        "#model layers\n",
        "model"
      ],
      "execution_count": 1731,
      "outputs": [
        {
          "output_type": "execute_result",
          "data": {
            "text/plain": [
              "Net(\n",
              "  (rnn_layer): Sequential(\n",
              "    (0): Embedding(343, 50)\n",
              "    (1): RNN(50, 256, batch_first=True)\n",
              "  )\n",
              "  (dense_layer): Sequential(\n",
              "    (0): Linear(in_features=25600, out_features=256, bias=True)\n",
              "    (1): LeakyReLU(negative_slope=0.01)\n",
              "    (2): Linear(in_features=256, out_features=20, bias=True)\n",
              "    (3): Sigmoid()\n",
              "  )\n",
              ")"
            ]
          },
          "metadata": {},
          "execution_count": 1731
        }
      ]
    },
    {
      "cell_type": "code",
      "metadata": {
        "id": "D06A21xv6JaN",
        "colab": {
          "base_uri": "https://localhost:8080/"
        },
        "outputId": "808eaaeb-69ad-4606-8ac4-4a43541dec8b"
      },
      "source": [
        "#pass an text to the model to understand the output\n",
        "#deactivates autograd\n",
        "with torch.no_grad():\n",
        "  pred = model(X_train[:1])\n",
        "  print(pred)"
      ],
      "execution_count": 1732,
      "outputs": [
        {
          "output_type": "stream",
          "name": "stdout",
          "text": [
            "tensor([[0.5272, 0.4884, 0.5029, 0.4714, 0.5037, 0.4978, 0.5087, 0.4964, 0.4896,\n",
            "         0.5119, 0.4920, 0.4986, 0.4958, 0.4955, 0.4716, 0.4545, 0.5071, 0.4891,\n",
            "         0.5105, 0.4738]])\n"
          ]
        }
      ]
    },
    {
      "cell_type": "code",
      "metadata": {
        "id": "liHnnKIFjmRj"
      },
      "source": [
        "#define optimizer and loss\n",
        "optimizer = torch.optim.Adam(model.parameters())\n",
        "criterion = BCELoss()\n",
        "\n",
        "# checking if GPU is available\n",
        "if torch.cuda.is_available():\n",
        "    model = model.cuda()\n",
        "    criterion = criterion.cuda()"
      ],
      "execution_count": 1733,
      "outputs": []
    },
    {
      "cell_type": "markdown",
      "metadata": {
        "id": "LleGoa8918PF"
      },
      "source": [
        "## 4.2 Model Training"
      ]
    },
    {
      "cell_type": "code",
      "metadata": {
        "id": "p_v08HY6Sv84"
      },
      "source": [
        "# define training function\n",
        "def train(X,y,batch_size):\n",
        "\n",
        "  #activate training phase\n",
        "  model.train()\n",
        "  \n",
        "  #initialization\n",
        "  epoch_loss= 0\n",
        "  no_of_batches = 0\n",
        "\n",
        "  #randomly create indices\n",
        "  indices= torch.randperm(len(X))\n",
        "  \n",
        "  #loading in batches\n",
        "  for i in range(0,len(indices),batch_size):\n",
        "    \n",
        "    #indices for a batch\n",
        "    ind = indices[i:i+batch_size]\n",
        "  \n",
        "    #batch  \n",
        "    batch_x=X[ind]\n",
        "    batch_y=y[ind]\n",
        "    \n",
        "    #push to cuda\n",
        "    if torch.cuda.is_available():\n",
        "        batch_x, batch_y = batch_x.cuda(), batch_y.cuda()\n",
        "\n",
        "    #clear gradients\n",
        "    optimizer.zero_grad()\n",
        "          \n",
        "    #forward pass\n",
        "    outputs = model(batch_x)\n",
        "\n",
        "    #converting to a 1 dimensional tensor\n",
        "    outputs = outputs.squeeze()\n",
        "\n",
        "    #calculate loss and accuracy\n",
        "    loss = criterion(outputs, batch_y)\n",
        "    \n",
        "    #Backward pass\n",
        "    loss.backward()\n",
        "    \n",
        "    #Update weights\n",
        "    optimizer.step()\n",
        "\n",
        "    #Keep track of the loss and accuracy of a epoch\n",
        "    epoch_loss = epoch_loss + loss.item()\n",
        "\n",
        "    #No. of batches\n",
        "    no_of_batches = no_of_batches+1\n",
        "\n",
        "  return epoch_loss/no_of_batches"
      ],
      "execution_count": 1734,
      "outputs": []
    },
    {
      "cell_type": "code",
      "metadata": {
        "id": "FeCtfkgoSvx8"
      },
      "source": [
        "# define evaluation function\n",
        "def evaluate(X,y,batch_size):\n",
        "\n",
        "  #deactivate training phase\n",
        "  model.eval()\n",
        "\n",
        "  #initialization\n",
        "  epoch_loss = 0\n",
        "  no_of_batches = 0\n",
        "\n",
        "  #randomly create indices\n",
        "  indices= torch.randperm(len(X))\n",
        "\n",
        "  #deactivates autograd\n",
        "  with torch.no_grad():\n",
        "    \n",
        "    #loading in batches\n",
        "    for i in range(0,len(indices),batch_size):\n",
        "      \n",
        "      #indices for a batch\n",
        "      ind = indices[i:i+batch_size]\n",
        "  \n",
        "      #batch  \n",
        "      batch_x= X[ind]\n",
        "      batch_y= y[ind]\n",
        "\n",
        "      #push to cuda\n",
        "      if torch.cuda.is_available():\n",
        "          batch_x, batch_y = batch_x.cuda(), batch_y.cuda()\n",
        "        \n",
        "      #Forward pass\n",
        "      outputs = model(batch_x)\n",
        "\n",
        "      #converting the output to 1 Dimensional tensor\n",
        "      outputs = outputs.squeeze()\n",
        "\n",
        "      # Calculate loss and accuracy\n",
        "      loss = criterion(outputs, batch_y)\n",
        "      \n",
        "      #keep track of loss and accuracy of an epoch\n",
        "      epoch_loss = epoch_loss + loss.item()\n",
        "\n",
        "      #no. of batches\n",
        "      no_of_batches = no_of_batches + 1\n",
        "\n",
        "    return epoch_loss/no_of_batches"
      ],
      "execution_count": 1735,
      "outputs": []
    },
    {
      "cell_type": "code",
      "metadata": {
        "id": "73CuJpFUYvDM"
      },
      "source": [
        "# define prediction function\n",
        "def predict(X,batch_size):\n",
        "  \n",
        "  #deactivate training phase\n",
        "  model.eval()\n",
        "\n",
        "  # initialization \n",
        "  predictions = []\n",
        "\n",
        "  # create indices\n",
        "  indices = torch.arange(len(X))\n",
        "\n",
        "  #deactivates autograd\n",
        "  with torch.no_grad():\n",
        "      \n",
        "      for i in range(0, len(X), batch_size):\n",
        "        \n",
        "        #indices for a batch\n",
        "        ind = indices[i:i+batch_size]\n",
        "\n",
        "        # batch\n",
        "        batch_x = X[ind]\n",
        "\n",
        "        #push to cuda\n",
        "        if torch.cuda.is_available():\n",
        "            batch_x = batch_x.cuda()\n",
        "\n",
        "        #Forward pass\n",
        "        outputs = model(batch_x)\n",
        "\n",
        "        #converting the output to 1 Dimensional tensor\n",
        "        outputs = outputs.squeeze()\n",
        "\n",
        "        # convert to numpy array\n",
        "        prediction = outputs.data.cpu().numpy()\n",
        "        predictions.append(prediction)\n",
        "    \n",
        "  # convert to single numpy array\n",
        "  predictions = np.concatenate(predictions, axis=0)\n",
        "    \n",
        "  return predictions"
      ],
      "execution_count": 1736,
      "outputs": []
    },
    {
      "cell_type": "code",
      "metadata": {
        "id": "Z5bch29mSve6",
        "colab": {
          "base_uri": "https://localhost:8080/"
        },
        "outputId": "5533390b-6b31-48cc-9201-8ddee5300803"
      },
      "source": [
        "N_EPOCHS = 300\n",
        "batch_size = 32\n",
        "\n",
        "# intialization\n",
        "best_valid_loss = float('inf')\n",
        "\n",
        "for epoch in range(N_EPOCHS):\n",
        "     \n",
        "    #train the model\n",
        "    train_loss   = train(X_train, y_train, batch_size)\n",
        "    \n",
        "    #evaluate the model\n",
        "    valid_loss   = evaluate(X_valid, y_valid, batch_size)\n",
        "\n",
        "    print('\\nEpoch :',epoch,\n",
        "          'Training loss:',round(train_loss,4),\n",
        "          '\\tValidation loss:',round(valid_loss,4))\n",
        "\n",
        "    #save the best model\n",
        "    if best_valid_loss >= valid_loss:\n",
        "        best_valid_loss = valid_loss\n",
        "        torch.save(model.state_dict(), 'saved_weights.pt') \n",
        "        print(\"\\n----------------------------------------------------Saved best model------------------------------------------------------------------\")   "
      ],
      "execution_count": 1737,
      "outputs": [
        {
          "output_type": "stream",
          "name": "stdout",
          "text": [
            "\n",
            "Epoch : 0 Training loss: 0.19 \tValidation loss: 0.1483\n",
            "\n",
            "----------------------------------------------------Saved best model------------------------------------------------------------------\n",
            "\n",
            "Epoch : 1 Training loss: 0.1356 \tValidation loss: 0.1165\n",
            "\n",
            "----------------------------------------------------Saved best model------------------------------------------------------------------\n",
            "\n",
            "Epoch : 2 Training loss: 0.0926 \tValidation loss: 0.0977\n",
            "\n",
            "----------------------------------------------------Saved best model------------------------------------------------------------------\n",
            "\n",
            "Epoch : 3 Training loss: 0.0736 \tValidation loss: 0.0838\n",
            "\n",
            "----------------------------------------------------Saved best model------------------------------------------------------------------\n",
            "\n",
            "Epoch : 4 Training loss: 0.0877 \tValidation loss: 0.0808\n",
            "\n",
            "----------------------------------------------------Saved best model------------------------------------------------------------------\n",
            "\n",
            "Epoch : 5 Training loss: 0.0476 \tValidation loss: 0.0762\n",
            "\n",
            "----------------------------------------------------Saved best model------------------------------------------------------------------\n",
            "\n",
            "Epoch : 6 Training loss: 0.0398 \tValidation loss: 0.0692\n",
            "\n",
            "----------------------------------------------------Saved best model------------------------------------------------------------------\n",
            "\n",
            "Epoch : 7 Training loss: 0.0333 \tValidation loss: 0.0762\n",
            "\n",
            "Epoch : 8 Training loss: 0.0245 \tValidation loss: 0.0767\n",
            "\n",
            "Epoch : 9 Training loss: 0.0211 \tValidation loss: 0.0792\n",
            "\n",
            "Epoch : 10 Training loss: 0.0186 \tValidation loss: 0.0736\n",
            "\n",
            "Epoch : 11 Training loss: 0.0158 \tValidation loss: 0.0762\n",
            "\n",
            "Epoch : 12 Training loss: 0.0135 \tValidation loss: 0.082\n",
            "\n",
            "Epoch : 13 Training loss: 0.0129 \tValidation loss: 0.0958\n",
            "\n",
            "Epoch : 14 Training loss: 0.0119 \tValidation loss: 0.0912\n",
            "\n",
            "Epoch : 15 Training loss: 0.0281 \tValidation loss: 0.0884\n",
            "\n",
            "Epoch : 16 Training loss: 0.0096 \tValidation loss: 0.0991\n",
            "\n",
            "Epoch : 17 Training loss: 0.035 \tValidation loss: 0.0876\n",
            "\n",
            "Epoch : 18 Training loss: 0.0076 \tValidation loss: 0.0962\n",
            "\n",
            "Epoch : 19 Training loss: 0.0076 \tValidation loss: 0.1005\n",
            "\n",
            "Epoch : 20 Training loss: 0.0078 \tValidation loss: 0.0888\n",
            "\n",
            "Epoch : 21 Training loss: 0.0083 \tValidation loss: 0.0882\n",
            "\n",
            "Epoch : 22 Training loss: 0.0086 \tValidation loss: 0.0852\n",
            "\n",
            "Epoch : 23 Training loss: 0.0077 \tValidation loss: 0.0976\n",
            "\n",
            "Epoch : 24 Training loss: 0.0067 \tValidation loss: 0.1032\n",
            "\n",
            "Epoch : 25 Training loss: 0.006 \tValidation loss: 0.105\n",
            "\n",
            "Epoch : 26 Training loss: 0.0067 \tValidation loss: 0.1075\n",
            "\n",
            "Epoch : 27 Training loss: 0.0098 \tValidation loss: 0.1055\n",
            "\n",
            "Epoch : 28 Training loss: 0.0071 \tValidation loss: 0.1169\n",
            "\n",
            "Epoch : 29 Training loss: 0.0061 \tValidation loss: 0.0904\n",
            "\n",
            "Epoch : 30 Training loss: 0.0056 \tValidation loss: 0.0975\n",
            "\n",
            "Epoch : 31 Training loss: 0.0063 \tValidation loss: 0.0958\n",
            "\n",
            "Epoch : 32 Training loss: 0.0055 \tValidation loss: 0.1008\n",
            "\n",
            "Epoch : 33 Training loss: 0.0052 \tValidation loss: 0.106\n",
            "\n",
            "Epoch : 34 Training loss: 0.0053 \tValidation loss: 0.1071\n",
            "\n",
            "Epoch : 35 Training loss: 0.0053 \tValidation loss: 0.1123\n",
            "\n",
            "Epoch : 36 Training loss: 0.005 \tValidation loss: 0.1111\n",
            "\n",
            "Epoch : 37 Training loss: 0.0049 \tValidation loss: 0.122\n",
            "\n",
            "Epoch : 38 Training loss: 0.0049 \tValidation loss: 0.1246\n",
            "\n",
            "Epoch : 39 Training loss: 0.0047 \tValidation loss: 0.1145\n",
            "\n",
            "Epoch : 40 Training loss: 0.005 \tValidation loss: 0.124\n",
            "\n",
            "Epoch : 41 Training loss: 0.0046 \tValidation loss: 0.137\n",
            "\n",
            "Epoch : 42 Training loss: 0.0047 \tValidation loss: 0.1318\n",
            "\n",
            "Epoch : 43 Training loss: 0.0057 \tValidation loss: 0.1111\n",
            "\n",
            "Epoch : 44 Training loss: 0.0063 \tValidation loss: 0.1046\n",
            "\n",
            "Epoch : 45 Training loss: 0.0072 \tValidation loss: 0.1124\n",
            "\n",
            "Epoch : 46 Training loss: 0.0075 \tValidation loss: 0.1002\n",
            "\n",
            "Epoch : 47 Training loss: 0.0098 \tValidation loss: 0.1033\n",
            "\n",
            "Epoch : 48 Training loss: 0.0059 \tValidation loss: 0.0956\n",
            "\n",
            "Epoch : 49 Training loss: 0.0054 \tValidation loss: 0.1236\n",
            "\n",
            "Epoch : 50 Training loss: 0.0046 \tValidation loss: 0.1186\n",
            "\n",
            "Epoch : 51 Training loss: 0.0049 \tValidation loss: 0.1302\n",
            "\n",
            "Epoch : 52 Training loss: 0.0044 \tValidation loss: 0.1268\n",
            "\n",
            "Epoch : 53 Training loss: 0.0045 \tValidation loss: 0.131\n",
            "\n",
            "Epoch : 54 Training loss: 0.0044 \tValidation loss: 0.123\n",
            "\n",
            "Epoch : 55 Training loss: 0.0045 \tValidation loss: 0.133\n",
            "\n",
            "Epoch : 56 Training loss: 0.0047 \tValidation loss: 0.1311\n",
            "\n",
            "Epoch : 57 Training loss: 0.0043 \tValidation loss: 0.1422\n",
            "\n",
            "Epoch : 58 Training loss: 0.0045 \tValidation loss: 0.1438\n",
            "\n",
            "Epoch : 59 Training loss: 0.0044 \tValidation loss: 0.143\n",
            "\n",
            "Epoch : 60 Training loss: 0.0043 \tValidation loss: 0.1482\n",
            "\n",
            "Epoch : 61 Training loss: 0.0044 \tValidation loss: 0.1543\n",
            "\n",
            "Epoch : 62 Training loss: 0.0043 \tValidation loss: 0.1471\n",
            "\n",
            "Epoch : 63 Training loss: 0.0043 \tValidation loss: 0.157\n",
            "\n",
            "Epoch : 64 Training loss: 0.0045 \tValidation loss: 0.1356\n",
            "\n",
            "Epoch : 65 Training loss: 0.0069 \tValidation loss: 0.1315\n",
            "\n",
            "Epoch : 66 Training loss: 0.0114 \tValidation loss: 0.1075\n",
            "\n",
            "Epoch : 67 Training loss: 0.0063 \tValidation loss: 0.122\n",
            "\n",
            "Epoch : 68 Training loss: 0.0059 \tValidation loss: 0.1158\n",
            "\n",
            "Epoch : 69 Training loss: 0.0055 \tValidation loss: 0.1248\n",
            "\n",
            "Epoch : 70 Training loss: 0.0054 \tValidation loss: 0.1104\n",
            "\n",
            "Epoch : 71 Training loss: 0.0055 \tValidation loss: 0.1041\n",
            "\n",
            "Epoch : 72 Training loss: 0.0044 \tValidation loss: 0.1207\n",
            "\n",
            "Epoch : 73 Training loss: 0.0046 \tValidation loss: 0.1331\n",
            "\n",
            "Epoch : 74 Training loss: 0.0043 \tValidation loss: 0.1363\n",
            "\n",
            "Epoch : 75 Training loss: 0.0041 \tValidation loss: 0.1368\n",
            "\n",
            "Epoch : 76 Training loss: 0.0042 \tValidation loss: 0.1289\n",
            "\n",
            "Epoch : 77 Training loss: 0.0041 \tValidation loss: 0.1356\n",
            "\n",
            "Epoch : 78 Training loss: 0.0041 \tValidation loss: 0.1398\n",
            "\n",
            "Epoch : 79 Training loss: 0.0041 \tValidation loss: 0.1434\n",
            "\n",
            "Epoch : 80 Training loss: 0.0042 \tValidation loss: 0.1387\n",
            "\n",
            "Epoch : 81 Training loss: 0.004 \tValidation loss: 0.157\n",
            "\n",
            "Epoch : 82 Training loss: 0.004 \tValidation loss: 0.1572\n",
            "\n",
            "Epoch : 83 Training loss: 0.0041 \tValidation loss: 0.1523\n",
            "\n",
            "Epoch : 84 Training loss: 0.0042 \tValidation loss: 0.1648\n",
            "\n",
            "Epoch : 85 Training loss: 0.0042 \tValidation loss: 0.1568\n",
            "\n",
            "Epoch : 86 Training loss: 0.0039 \tValidation loss: 0.1598\n",
            "\n",
            "Epoch : 87 Training loss: 0.004 \tValidation loss: 0.1675\n",
            "\n",
            "Epoch : 88 Training loss: 0.004 \tValidation loss: 0.166\n",
            "\n",
            "Epoch : 89 Training loss: 0.004 \tValidation loss: 0.1681\n",
            "\n",
            "Epoch : 90 Training loss: 0.0039 \tValidation loss: 0.1727\n",
            "\n",
            "Epoch : 91 Training loss: 0.0038 \tValidation loss: 0.1658\n",
            "\n",
            "Epoch : 92 Training loss: 0.0066 \tValidation loss: 0.1146\n",
            "\n",
            "Epoch : 93 Training loss: 0.0082 \tValidation loss: 0.1171\n",
            "\n",
            "Epoch : 94 Training loss: 0.0053 \tValidation loss: 0.1175\n",
            "\n",
            "Epoch : 95 Training loss: 0.0054 \tValidation loss: 0.138\n",
            "\n",
            "Epoch : 96 Training loss: 0.0044 \tValidation loss: 0.1501\n",
            "\n",
            "Epoch : 97 Training loss: 0.0047 \tValidation loss: 0.1472\n",
            "\n",
            "Epoch : 98 Training loss: 0.0047 \tValidation loss: 0.1484\n",
            "\n",
            "Epoch : 99 Training loss: 0.0041 \tValidation loss: 0.1611\n",
            "\n",
            "Epoch : 100 Training loss: 0.0044 \tValidation loss: 0.1485\n",
            "\n",
            "Epoch : 101 Training loss: 0.0041 \tValidation loss: 0.1485\n",
            "\n",
            "Epoch : 102 Training loss: 0.0039 \tValidation loss: 0.1457\n",
            "\n",
            "Epoch : 103 Training loss: 0.004 \tValidation loss: 0.1506\n",
            "\n",
            "Epoch : 104 Training loss: 0.004 \tValidation loss: 0.1682\n",
            "\n",
            "Epoch : 105 Training loss: 0.0041 \tValidation loss: 0.1557\n",
            "\n",
            "Epoch : 106 Training loss: 0.0039 \tValidation loss: 0.154\n",
            "\n",
            "Epoch : 107 Training loss: 0.0039 \tValidation loss: 0.1693\n",
            "\n",
            "Epoch : 108 Training loss: 0.0039 \tValidation loss: 0.1616\n",
            "\n",
            "Epoch : 109 Training loss: 0.0039 \tValidation loss: 0.1606\n",
            "\n",
            "Epoch : 110 Training loss: 0.0039 \tValidation loss: 0.1757\n",
            "\n",
            "Epoch : 111 Training loss: 0.0037 \tValidation loss: 0.1678\n",
            "\n",
            "Epoch : 112 Training loss: 0.0037 \tValidation loss: 0.1724\n",
            "\n",
            "Epoch : 113 Training loss: 0.0038 \tValidation loss: 0.1717\n",
            "\n",
            "Epoch : 114 Training loss: 0.0038 \tValidation loss: 0.162\n",
            "\n",
            "Epoch : 115 Training loss: 0.0037 \tValidation loss: 0.1794\n",
            "\n",
            "Epoch : 116 Training loss: 0.0038 \tValidation loss: 0.1806\n",
            "\n",
            "Epoch : 117 Training loss: 0.0037 \tValidation loss: 0.1881\n",
            "\n",
            "Epoch : 118 Training loss: 0.0037 \tValidation loss: 0.1829\n",
            "\n",
            "Epoch : 119 Training loss: 0.0039 \tValidation loss: 0.1656\n",
            "\n",
            "Epoch : 120 Training loss: 0.0039 \tValidation loss: 0.1827\n",
            "\n",
            "Epoch : 121 Training loss: 0.0038 \tValidation loss: 0.1823\n",
            "\n",
            "Epoch : 122 Training loss: 0.0038 \tValidation loss: 0.1781\n",
            "\n",
            "Epoch : 123 Training loss: 0.0037 \tValidation loss: 0.1894\n",
            "\n",
            "Epoch : 124 Training loss: 0.0037 \tValidation loss: 0.189\n",
            "\n",
            "Epoch : 125 Training loss: 0.0038 \tValidation loss: 0.1823\n",
            "\n",
            "Epoch : 126 Training loss: 0.0038 \tValidation loss: 0.2118\n",
            "\n",
            "Epoch : 127 Training loss: 0.0038 \tValidation loss: 0.1883\n",
            "\n",
            "Epoch : 128 Training loss: 0.0037 \tValidation loss: 0.2067\n",
            "\n",
            "Epoch : 129 Training loss: 0.0037 \tValidation loss: 0.1969\n",
            "\n",
            "Epoch : 130 Training loss: 0.0038 \tValidation loss: 0.2087\n",
            "\n",
            "Epoch : 131 Training loss: 0.0037 \tValidation loss: 0.2118\n",
            "\n",
            "Epoch : 132 Training loss: 0.0037 \tValidation loss: 0.1985\n",
            "\n",
            "Epoch : 133 Training loss: 0.0036 \tValidation loss: 0.2106\n",
            "\n",
            "Epoch : 134 Training loss: 0.0036 \tValidation loss: 0.2159\n",
            "\n",
            "Epoch : 135 Training loss: 0.0037 \tValidation loss: 0.223\n",
            "\n",
            "Epoch : 136 Training loss: 0.0038 \tValidation loss: 0.2172\n",
            "\n",
            "Epoch : 137 Training loss: 0.0037 \tValidation loss: 0.2194\n",
            "\n",
            "Epoch : 138 Training loss: 0.0036 \tValidation loss: 0.2341\n",
            "\n",
            "Epoch : 139 Training loss: 0.0038 \tValidation loss: 0.2268\n",
            "\n",
            "Epoch : 140 Training loss: 0.004 \tValidation loss: 0.2132\n",
            "\n",
            "Epoch : 141 Training loss: 0.0039 \tValidation loss: 0.22\n",
            "\n",
            "Epoch : 142 Training loss: 0.0039 \tValidation loss: 0.2205\n",
            "\n",
            "Epoch : 143 Training loss: 0.0038 \tValidation loss: 0.2522\n",
            "\n",
            "Epoch : 144 Training loss: 0.0038 \tValidation loss: 0.2442\n",
            "\n",
            "Epoch : 145 Training loss: 0.0038 \tValidation loss: 0.2617\n",
            "\n",
            "Epoch : 146 Training loss: 0.0294 \tValidation loss: 0.135\n",
            "\n",
            "Epoch : 147 Training loss: 0.0165 \tValidation loss: 0.1085\n",
            "\n",
            "Epoch : 148 Training loss: 0.0071 \tValidation loss: 0.1173\n",
            "\n",
            "Epoch : 149 Training loss: 0.0046 \tValidation loss: 0.1221\n",
            "\n",
            "Epoch : 150 Training loss: 0.004 \tValidation loss: 0.1264\n",
            "\n",
            "Epoch : 151 Training loss: 0.0038 \tValidation loss: 0.1205\n",
            "\n",
            "Epoch : 152 Training loss: 0.0039 \tValidation loss: 0.1302\n",
            "\n",
            "Epoch : 153 Training loss: 0.0038 \tValidation loss: 0.1308\n",
            "\n",
            "Epoch : 154 Training loss: 0.0037 \tValidation loss: 0.136\n",
            "\n",
            "Epoch : 155 Training loss: 0.0037 \tValidation loss: 0.1368\n",
            "\n",
            "Epoch : 156 Training loss: 0.0037 \tValidation loss: 0.1385\n",
            "\n",
            "Epoch : 157 Training loss: 0.0037 \tValidation loss: 0.1381\n",
            "\n",
            "Epoch : 158 Training loss: 0.0036 \tValidation loss: 0.1382\n",
            "\n",
            "Epoch : 159 Training loss: 0.0037 \tValidation loss: 0.1448\n",
            "\n",
            "Epoch : 160 Training loss: 0.0037 \tValidation loss: 0.1444\n",
            "\n",
            "Epoch : 161 Training loss: 0.0037 \tValidation loss: 0.1477\n",
            "\n",
            "Epoch : 162 Training loss: 0.0036 \tValidation loss: 0.1471\n",
            "\n",
            "Epoch : 163 Training loss: 0.0036 \tValidation loss: 0.1493\n",
            "\n",
            "Epoch : 164 Training loss: 0.0036 \tValidation loss: 0.1443\n",
            "\n",
            "Epoch : 165 Training loss: 0.0036 \tValidation loss: 0.1482\n",
            "\n",
            "Epoch : 166 Training loss: 0.0036 \tValidation loss: 0.1498\n",
            "\n",
            "Epoch : 167 Training loss: 0.0036 \tValidation loss: 0.1517\n",
            "\n",
            "Epoch : 168 Training loss: 0.0036 \tValidation loss: 0.1586\n",
            "\n",
            "Epoch : 169 Training loss: 0.0035 \tValidation loss: 0.1536\n",
            "\n",
            "Epoch : 170 Training loss: 0.0036 \tValidation loss: 0.1616\n",
            "\n",
            "Epoch : 171 Training loss: 0.0035 \tValidation loss: 0.1544\n",
            "\n",
            "Epoch : 172 Training loss: 0.0036 \tValidation loss: 0.1577\n",
            "\n",
            "Epoch : 173 Training loss: 0.0036 \tValidation loss: 0.1628\n",
            "\n",
            "Epoch : 174 Training loss: 0.0038 \tValidation loss: 0.1556\n",
            "\n",
            "Epoch : 175 Training loss: 0.0037 \tValidation loss: 0.1576\n",
            "\n",
            "Epoch : 176 Training loss: 0.0036 \tValidation loss: 0.1674\n",
            "\n",
            "Epoch : 177 Training loss: 0.0043 \tValidation loss: 0.1944\n",
            "\n",
            "Epoch : 178 Training loss: 0.0041 \tValidation loss: 0.2004\n",
            "\n",
            "Epoch : 179 Training loss: 0.0037 \tValidation loss: 0.1975\n",
            "\n",
            "Epoch : 180 Training loss: 0.0036 \tValidation loss: 0.1979\n",
            "\n",
            "Epoch : 181 Training loss: 0.0037 \tValidation loss: 0.1883\n",
            "\n",
            "Epoch : 182 Training loss: 0.0036 \tValidation loss: 0.206\n",
            "\n",
            "Epoch : 183 Training loss: 0.0036 \tValidation loss: 0.1918\n",
            "\n",
            "Epoch : 184 Training loss: 0.0035 \tValidation loss: 0.2036\n",
            "\n",
            "Epoch : 185 Training loss: 0.0035 \tValidation loss: 0.2074\n",
            "\n",
            "Epoch : 186 Training loss: 0.0035 \tValidation loss: 0.2093\n",
            "\n",
            "Epoch : 187 Training loss: 0.0036 \tValidation loss: 0.2136\n",
            "\n",
            "Epoch : 188 Training loss: 0.0035 \tValidation loss: 0.1945\n",
            "\n",
            "Epoch : 189 Training loss: 0.0035 \tValidation loss: 0.2076\n",
            "\n",
            "Epoch : 190 Training loss: 0.0036 \tValidation loss: 0.199\n",
            "\n",
            "Epoch : 191 Training loss: 0.0035 \tValidation loss: 0.2012\n",
            "\n",
            "Epoch : 192 Training loss: 0.0035 \tValidation loss: 0.2034\n",
            "\n",
            "Epoch : 193 Training loss: 0.0035 \tValidation loss: 0.2134\n",
            "\n",
            "Epoch : 194 Training loss: 0.0036 \tValidation loss: 0.204\n",
            "\n",
            "Epoch : 195 Training loss: 0.0035 \tValidation loss: 0.2061\n",
            "\n",
            "Epoch : 196 Training loss: 0.0035 \tValidation loss: 0.2047\n",
            "\n",
            "Epoch : 197 Training loss: 0.0035 \tValidation loss: 0.2073\n",
            "\n",
            "Epoch : 198 Training loss: 0.0036 \tValidation loss: 0.2108\n",
            "\n",
            "Epoch : 199 Training loss: 0.0036 \tValidation loss: 0.2085\n",
            "\n",
            "Epoch : 200 Training loss: 0.0035 \tValidation loss: 0.2101\n",
            "\n",
            "Epoch : 201 Training loss: 0.0034 \tValidation loss: 0.2104\n",
            "\n",
            "Epoch : 202 Training loss: 0.0035 \tValidation loss: 0.2103\n",
            "\n",
            "Epoch : 203 Training loss: 0.0035 \tValidation loss: 0.2126\n",
            "\n",
            "Epoch : 204 Training loss: 0.0034 \tValidation loss: 0.2172\n",
            "\n",
            "Epoch : 205 Training loss: 0.0035 \tValidation loss: 0.2148\n",
            "\n",
            "Epoch : 206 Training loss: 0.0035 \tValidation loss: 0.2125\n",
            "\n",
            "Epoch : 207 Training loss: 0.0035 \tValidation loss: 0.2194\n",
            "\n",
            "Epoch : 208 Training loss: 0.0035 \tValidation loss: 0.2215\n",
            "\n",
            "Epoch : 209 Training loss: 0.0035 \tValidation loss: 0.2287\n",
            "\n",
            "Epoch : 210 Training loss: 0.0035 \tValidation loss: 0.2165\n",
            "\n",
            "Epoch : 211 Training loss: 0.0035 \tValidation loss: 0.2214\n",
            "\n",
            "Epoch : 212 Training loss: 0.0035 \tValidation loss: 0.2292\n",
            "\n",
            "Epoch : 213 Training loss: 0.0035 \tValidation loss: 0.2153\n",
            "\n",
            "Epoch : 214 Training loss: 0.0035 \tValidation loss: 0.2366\n",
            "\n",
            "Epoch : 215 Training loss: 0.0035 \tValidation loss: 0.2323\n",
            "\n",
            "Epoch : 216 Training loss: 0.0035 \tValidation loss: 0.2371\n",
            "\n",
            "Epoch : 217 Training loss: 0.0035 \tValidation loss: 0.2329\n",
            "\n",
            "Epoch : 218 Training loss: 0.0035 \tValidation loss: 0.2294\n",
            "\n",
            "Epoch : 219 Training loss: 0.0034 \tValidation loss: 0.2382\n",
            "\n",
            "Epoch : 220 Training loss: 0.0035 \tValidation loss: 0.2397\n",
            "\n",
            "Epoch : 221 Training loss: 0.0035 \tValidation loss: 0.2289\n",
            "\n",
            "Epoch : 222 Training loss: 0.0036 \tValidation loss: 0.2443\n",
            "\n",
            "Epoch : 223 Training loss: 0.0038 \tValidation loss: 0.2307\n",
            "\n",
            "Epoch : 224 Training loss: 0.0072 \tValidation loss: 0.2604\n",
            "\n",
            "Epoch : 225 Training loss: 0.0188 \tValidation loss: 0.1477\n",
            "\n",
            "Epoch : 226 Training loss: 0.011 \tValidation loss: 0.1789\n",
            "\n",
            "Epoch : 227 Training loss: 0.0059 \tValidation loss: 0.1742\n",
            "\n",
            "Epoch : 228 Training loss: 0.0043 \tValidation loss: 0.1616\n",
            "\n",
            "Epoch : 229 Training loss: 0.0037 \tValidation loss: 0.1632\n",
            "\n",
            "Epoch : 230 Training loss: 0.0037 \tValidation loss: 0.1683\n",
            "\n",
            "Epoch : 231 Training loss: 0.0035 \tValidation loss: 0.1855\n",
            "\n",
            "Epoch : 232 Training loss: 0.0035 \tValidation loss: 0.1769\n",
            "\n",
            "Epoch : 233 Training loss: 0.0035 \tValidation loss: 0.1818\n",
            "\n",
            "Epoch : 234 Training loss: 0.0035 \tValidation loss: 0.1844\n",
            "\n",
            "Epoch : 235 Training loss: 0.0035 \tValidation loss: 0.1868\n",
            "\n",
            "Epoch : 236 Training loss: 0.0035 \tValidation loss: 0.195\n",
            "\n",
            "Epoch : 237 Training loss: 0.0034 \tValidation loss: 0.1859\n",
            "\n",
            "Epoch : 238 Training loss: 0.0035 \tValidation loss: 0.194\n",
            "\n",
            "Epoch : 239 Training loss: 0.0035 \tValidation loss: 0.1979\n",
            "\n",
            "Epoch : 240 Training loss: 0.0035 \tValidation loss: 0.1985\n",
            "\n",
            "Epoch : 241 Training loss: 0.0034 \tValidation loss: 0.1956\n",
            "\n",
            "Epoch : 242 Training loss: 0.0034 \tValidation loss: 0.2002\n",
            "\n",
            "Epoch : 243 Training loss: 0.0034 \tValidation loss: 0.1993\n",
            "\n",
            "Epoch : 244 Training loss: 0.0034 \tValidation loss: 0.2096\n",
            "\n",
            "Epoch : 245 Training loss: 0.0034 \tValidation loss: 0.2016\n",
            "\n",
            "Epoch : 246 Training loss: 0.0035 \tValidation loss: 0.2119\n",
            "\n",
            "Epoch : 247 Training loss: 0.0034 \tValidation loss: 0.2153\n",
            "\n",
            "Epoch : 248 Training loss: 0.0034 \tValidation loss: 0.214\n",
            "\n",
            "Epoch : 249 Training loss: 0.0034 \tValidation loss: 0.2062\n",
            "\n",
            "Epoch : 250 Training loss: 0.0034 \tValidation loss: 0.2153\n",
            "\n",
            "Epoch : 251 Training loss: 0.0035 \tValidation loss: 0.217\n",
            "\n",
            "Epoch : 252 Training loss: 0.0034 \tValidation loss: 0.2162\n",
            "\n",
            "Epoch : 253 Training loss: 0.0034 \tValidation loss: 0.2083\n",
            "\n",
            "Epoch : 254 Training loss: 0.0034 \tValidation loss: 0.2156\n",
            "\n",
            "Epoch : 255 Training loss: 0.0034 \tValidation loss: 0.2184\n",
            "\n",
            "Epoch : 256 Training loss: 0.0034 \tValidation loss: 0.2299\n",
            "\n",
            "Epoch : 257 Training loss: 0.0034 \tValidation loss: 0.2169\n",
            "\n",
            "Epoch : 258 Training loss: 0.0034 \tValidation loss: 0.2207\n",
            "\n",
            "Epoch : 259 Training loss: 0.0034 \tValidation loss: 0.2298\n",
            "\n",
            "Epoch : 260 Training loss: 0.0034 \tValidation loss: 0.2284\n",
            "\n",
            "Epoch : 261 Training loss: 0.0034 \tValidation loss: 0.2205\n",
            "\n",
            "Epoch : 262 Training loss: 0.0034 \tValidation loss: 0.2293\n",
            "\n",
            "Epoch : 263 Training loss: 0.0034 \tValidation loss: 0.2326\n",
            "\n",
            "Epoch : 264 Training loss: 0.0035 \tValidation loss: 0.2323\n",
            "\n",
            "Epoch : 265 Training loss: 0.0035 \tValidation loss: 0.2343\n",
            "\n",
            "Epoch : 266 Training loss: 0.0035 \tValidation loss: 0.2343\n",
            "\n",
            "Epoch : 267 Training loss: 0.0034 \tValidation loss: 0.2326\n",
            "\n",
            "Epoch : 268 Training loss: 0.0034 \tValidation loss: 0.2471\n",
            "\n",
            "Epoch : 269 Training loss: 0.0034 \tValidation loss: 0.2368\n",
            "\n",
            "Epoch : 270 Training loss: 0.0034 \tValidation loss: 0.2307\n",
            "\n",
            "Epoch : 271 Training loss: 0.0034 \tValidation loss: 0.2261\n",
            "\n",
            "Epoch : 272 Training loss: 0.0034 \tValidation loss: 0.2373\n",
            "\n",
            "Epoch : 273 Training loss: 0.0034 \tValidation loss: 0.2361\n",
            "\n",
            "Epoch : 274 Training loss: 0.0034 \tValidation loss: 0.2383\n",
            "\n",
            "Epoch : 275 Training loss: 0.0034 \tValidation loss: 0.2448\n",
            "\n",
            "Epoch : 276 Training loss: 0.0034 \tValidation loss: 0.2373\n",
            "\n",
            "Epoch : 277 Training loss: 0.0034 \tValidation loss: 0.2386\n",
            "\n",
            "Epoch : 278 Training loss: 0.0034 \tValidation loss: 0.2296\n",
            "\n",
            "Epoch : 279 Training loss: 0.0034 \tValidation loss: 0.2477\n",
            "\n",
            "Epoch : 280 Training loss: 0.0034 \tValidation loss: 0.2305\n",
            "\n",
            "Epoch : 281 Training loss: 0.0034 \tValidation loss: 0.2463\n",
            "\n",
            "Epoch : 282 Training loss: 0.0034 \tValidation loss: 0.2322\n",
            "\n",
            "Epoch : 283 Training loss: 0.0034 \tValidation loss: 0.2358\n",
            "\n",
            "Epoch : 284 Training loss: 0.0034 \tValidation loss: 0.243\n",
            "\n",
            "Epoch : 285 Training loss: 0.0034 \tValidation loss: 0.2528\n",
            "\n",
            "Epoch : 286 Training loss: 0.0034 \tValidation loss: 0.2481\n",
            "\n",
            "Epoch : 287 Training loss: 0.0034 \tValidation loss: 0.2463\n",
            "\n",
            "Epoch : 288 Training loss: 0.0034 \tValidation loss: 0.2494\n",
            "\n",
            "Epoch : 289 Training loss: 0.0034 \tValidation loss: 0.2505\n",
            "\n",
            "Epoch : 290 Training loss: 0.0034 \tValidation loss: 0.2541\n",
            "\n",
            "Epoch : 291 Training loss: 0.0034 \tValidation loss: 0.2462\n",
            "\n",
            "Epoch : 292 Training loss: 0.0037 \tValidation loss: 0.2613\n",
            "\n",
            "Epoch : 293 Training loss: 0.006 \tValidation loss: 0.2811\n",
            "\n",
            "Epoch : 294 Training loss: 0.015 \tValidation loss: 0.18\n",
            "\n",
            "Epoch : 295 Training loss: 0.0082 \tValidation loss: 0.2367\n",
            "\n",
            "Epoch : 296 Training loss: 0.005 \tValidation loss: 0.224\n",
            "\n",
            "Epoch : 297 Training loss: 0.0037 \tValidation loss: 0.2066\n",
            "\n",
            "Epoch : 298 Training loss: 0.0035 \tValidation loss: 0.218\n",
            "\n",
            "Epoch : 299 Training loss: 0.0035 \tValidation loss: 0.2187\n"
          ]
        }
      ]
    },
    {
      "cell_type": "markdown",
      "metadata": {
        "id": "iPD3sYkO2C8k"
      },
      "source": [
        "# 5. Model Evaluation"
      ]
    },
    {
      "cell_type": "markdown",
      "metadata": {
        "id": "45blbQAZ2M8O"
      },
      "source": [
        "## 5.1 Check Performance"
      ]
    },
    {
      "cell_type": "code",
      "metadata": {
        "id": "Gdj5mP2EYZVz",
        "colab": {
          "base_uri": "https://localhost:8080/"
        },
        "outputId": "636d1b04-51f9-483c-a939-cad18df0405b"
      },
      "source": [
        "#load weights of best model\n",
        "path='saved_weights.pt'\n",
        "model.load_state_dict(torch.load(path))"
      ],
      "execution_count": 1738,
      "outputs": [
        {
          "output_type": "execute_result",
          "data": {
            "text/plain": [
              "<All keys matched successfully>"
            ]
          },
          "metadata": {},
          "execution_count": 1738
        }
      ]
    },
    {
      "cell_type": "code",
      "metadata": {
        "id": "AbV0Y8dXYsv2"
      },
      "source": [
        "#predict probabilities\n",
        "y_pred_prob = predict(X_valid, batch_size)"
      ],
      "execution_count": 1739,
      "outputs": []
    },
    {
      "cell_type": "code",
      "metadata": {
        "id": "0_K7FERpSvZL",
        "colab": {
          "base_uri": "https://localhost:8080/"
        },
        "outputId": "9a277c3a-2527-47bb-e991-bf618cc4f02c"
      },
      "source": [
        "y_pred_prob[0]"
      ],
      "execution_count": 1740,
      "outputs": [
        {
          "output_type": "execute_result",
          "data": {
            "text/plain": [
              "array([6.8877488e-03, 4.3003224e-02, 7.7300688e-04, 1.2996644e-02,\n",
              "       7.7309897e-03, 1.3209004e-03, 2.6316705e-04, 2.1307522e-02,\n",
              "       1.8413264e-02, 1.1947645e-01, 2.6186709e-03, 5.3105699e-03,\n",
              "       7.3832716e-03, 2.5450474e-02, 1.3240005e-03, 2.1078223e-02,\n",
              "       3.5433483e-01, 5.0122094e-01, 3.7236453e-03, 1.2049272e-02],\n",
              "      dtype=float32)"
            ]
          },
          "metadata": {},
          "execution_count": 1740
        }
      ]
    },
    {
      "cell_type": "code",
      "metadata": {
        "id": "AdpKdmTvbEeu"
      },
      "source": [
        "#actual tags\n",
        "y_true = y_valid.cpu().numpy()"
      ],
      "execution_count": 1741,
      "outputs": []
    },
    {
      "cell_type": "code",
      "metadata": {
        "id": "eoyr5wlbSmfI",
        "colab": {
          "base_uri": "https://localhost:8080/"
        },
        "outputId": "abef1bde-3e85-4065-cb41-55cfac0e4615"
      },
      "source": [
        "#define candidate threshold values\n",
        "threshold  = np.arange(0,0.5,0.01)\n",
        "print(threshold)"
      ],
      "execution_count": 1742,
      "outputs": [
        {
          "output_type": "stream",
          "name": "stdout",
          "text": [
            "[0.   0.01 0.02 0.03 0.04 0.05 0.06 0.07 0.08 0.09 0.1  0.11 0.12 0.13\n",
            " 0.14 0.15 0.16 0.17 0.18 0.19 0.2  0.21 0.22 0.23 0.24 0.25 0.26 0.27\n",
            " 0.28 0.29 0.3  0.31 0.32 0.33 0.34 0.35 0.36 0.37 0.38 0.39 0.4  0.41\n",
            " 0.42 0.43 0.44 0.45 0.46 0.47 0.48 0.49]\n"
          ]
        }
      ]
    },
    {
      "cell_type": "code",
      "metadata": {
        "id": "bvcm8hxPSb3e"
      },
      "source": [
        "# convert probabilities into classes or tags based on a threshold value\n",
        "def classify(y_pred_prob, thresh):\n",
        "  \n",
        "  y_pred = []\n",
        "\n",
        "  for i in y_pred_prob:\n",
        "    temp=[]\n",
        "      \n",
        "    for j in i:\n",
        "      if j>=thresh:\n",
        "        temp.append(1)\n",
        "      else:\n",
        "        temp.append(0)\n",
        "    \n",
        "    y_pred.append(temp)\n",
        "\n",
        "  return np.array(y_pred)"
      ],
      "execution_count": 1743,
      "outputs": []
    },
    {
      "cell_type": "code",
      "metadata": {
        "id": "gG8OFwSuSb0m"
      },
      "source": [
        "score=[]\n",
        "\n",
        "for thresh in threshold:\n",
        "    \n",
        "    #classes for each threshold\n",
        "    y_pred = classify(y_pred_prob, thresh) \n",
        "\n",
        "    #convert to 1d array\n",
        "    y_pred_1d    =  y_pred.ravel()\n",
        "    y_true_1d    =  y_true.ravel()\n",
        " \n",
        "    score.append(metrics.f1_score(y_true_1d, y_pred_1d))"
      ],
      "execution_count": 1744,
      "outputs": []
    },
    {
      "cell_type": "code",
      "metadata": {
        "id": "XBZxqkmSR_8i",
        "colab": {
          "base_uri": "https://localhost:8080/"
        },
        "outputId": "a53aebff-5aef-4629-8df0-354057aeadce"
      },
      "source": [
        "# find the optimal threshold\n",
        "opt = threshold[score.index(max(score))]\n",
        "print(opt)"
      ],
      "execution_count": 1745,
      "outputs": [
        {
          "output_type": "stream",
          "name": "stdout",
          "text": [
            "0.22\n"
          ]
        }
      ]
    },
    {
      "cell_type": "code",
      "metadata": {
        "id": "eD2l-uNwR7o3"
      },
      "source": [
        "#predictions for optimal threshold\n",
        "y_pred = classify(y_pred_prob, opt)"
      ],
      "execution_count": 1746,
      "outputs": []
    },
    {
      "cell_type": "code",
      "metadata": {
        "id": "MdHB_HaJR7m2",
        "colab": {
          "base_uri": "https://localhost:8080/"
        },
        "outputId": "3abbd673-3996-4ecb-a7d8-d5d04ccc17d8"
      },
      "source": [
        "#converting to 1D\n",
        "y_pred_1d = y_pred.ravel()\n",
        "\n",
        "#Classification report\n",
        "print(metrics.classification_report(y_true_1d, y_pred_1d))"
      ],
      "execution_count": 1747,
      "outputs": [
        {
          "output_type": "stream",
          "name": "stdout",
          "text": [
            "              precision    recall  f1-score   support\n",
            "\n",
            "         0.0       0.99      0.98      0.99      8322\n",
            "         1.0       0.73      0.79      0.76       438\n",
            "\n",
            "    accuracy                           0.97      8760\n",
            "   macro avg       0.86      0.89      0.87      8760\n",
            "weighted avg       0.98      0.97      0.98      8760\n",
            "\n"
          ]
        }
      ]
    },
    {
      "cell_type": "code",
      "metadata": {
        "id": "YY-z8S42XTBB",
        "colab": {
          "base_uri": "https://localhost:8080/",
          "height": 204
        },
        "outputId": "9732a6ef-707b-4ae2-ce3a-986d9764e9fd"
      },
      "source": [
        "#convert back to tags\n",
        "y_pred_label = mlb.inverse_transform(np.array(y_pred))\n",
        "y_true_label = mlb.inverse_transform(np.array(y_true))\n",
        "\n",
        "# get all validation text\n",
        "utterances = [\" \".join(i) for i in valid_text]\n",
        "\n",
        "# create a dataframe to show the data and prediction side by side\n",
        "df = pd.DataFrame({'Utterances':utterances,'Actual Tags':y_true_label,'Predicted Tags':y_pred_label})\n",
        "\n",
        "# print first five rows\n",
        "df.head()"
      ],
      "execution_count": 1748,
      "outputs": [
        {
          "output_type": "execute_result",
          "data": {
            "text/html": [
              "<div>\n",
              "<style scoped>\n",
              "    .dataframe tbody tr th:only-of-type {\n",
              "        vertical-align: middle;\n",
              "    }\n",
              "\n",
              "    .dataframe tbody tr th {\n",
              "        vertical-align: top;\n",
              "    }\n",
              "\n",
              "    .dataframe thead th {\n",
              "        text-align: right;\n",
              "    }\n",
              "</style>\n",
              "<table border=\"1\" class=\"dataframe\">\n",
              "  <thead>\n",
              "    <tr style=\"text-align: right;\">\n",
              "      <th></th>\n",
              "      <th>Utterances</th>\n",
              "      <th>Actual Tags</th>\n",
              "      <th>Predicted Tags</th>\n",
              "    </tr>\n",
              "  </thead>\n",
              "  <tbody>\n",
              "    <tr>\n",
              "      <th>0</th>\n",
              "      <td>played oranges</td>\n",
              "      <td>(movie.starring.actor,)</td>\n",
              "      <td>(movie.starring.actor, movie.starring.actor_movie.starring.character)</td>\n",
              "    </tr>\n",
              "    <tr>\n",
              "      <th>1</th>\n",
              "      <td>display films arts</td>\n",
              "      <td>(movie.production_companies,)</td>\n",
              "      <td>(none,)</td>\n",
              "    </tr>\n",
              "    <tr>\n",
              "      <th>2</th>\n",
              "      <td>russell crowe movies</td>\n",
              "      <td>(movie.starring.actor,)</td>\n",
              "      <td>(movie.starring.actor,)</td>\n",
              "    </tr>\n",
              "    <tr>\n",
              "      <th>3</th>\n",
              "      <td>director avatar</td>\n",
              "      <td>(movie.directed_by,)</td>\n",
              "      <td>(movie.directed_by,)</td>\n",
              "    </tr>\n",
              "    <tr>\n",
              "      <th>4</th>\n",
              "      <td>show r rated movies</td>\n",
              "      <td>(movie.rating,)</td>\n",
              "      <td>(movie.rating,)</td>\n",
              "    </tr>\n",
              "  </tbody>\n",
              "</table>\n",
              "</div>"
            ],
            "text/plain": [
              "             Utterances  ...                                                         Predicted Tags\n",
              "0        played oranges  ...  (movie.starring.actor, movie.starring.actor_movie.starring.character)\n",
              "1    display films arts  ...                                                                (none,)\n",
              "2  russell crowe movies  ...                                                (movie.starring.actor,)\n",
              "3       director avatar  ...                                                   (movie.directed_by,)\n",
              "4   show r rated movies  ...                                                        (movie.rating,)\n",
              "\n",
              "[5 rows x 3 columns]"
            ]
          },
          "metadata": {},
          "execution_count": 1748
        }
      ]
    },
    {
      "cell_type": "markdown",
      "metadata": {
        "id": "Ib-fPuHqx2cu"
      },
      "source": [
        "## 5.2 Show Inference"
      ]
    },
    {
      "cell_type": "code",
      "metadata": {
        "id": "x-xFfFHVdVz5"
      },
      "source": [
        "#raw text\n",
        "text = \"Actor in movie thor\""
      ],
      "execution_count": 1749,
      "outputs": []
    },
    {
      "cell_type": "code",
      "metadata": {
        "id": "BzCbTh8_dWJa",
        "colab": {
          "base_uri": "https://localhost:8080/"
        },
        "outputId": "082ec37a-1a9e-4c0f-bb25-efc3ea7368ae"
      },
      "source": [
        "#cleaning text\n",
        "tokens = cleaner(text)\n",
        "tokens[:5]"
      ],
      "execution_count": 1750,
      "outputs": [
        {
          "output_type": "execute_result",
          "data": {
            "text/plain": [
              "['actor', 'movie', 'thor']"
            ]
          },
          "metadata": {},
          "execution_count": 1750
        }
      ]
    },
    {
      "cell_type": "code",
      "metadata": {
        "id": "gqoqyJVtfUbP",
        "colab": {
          "base_uri": "https://localhost:8080/"
        },
        "outputId": "1bdd067a-3af7-418b-9939-9ae13e737208"
      },
      "source": [
        "#first argument to the model is no. of samples\n",
        "tokens = np.array(tokens).reshape(-1,len(tokens))\n",
        "tokens.shape"
      ],
      "execution_count": 1751,
      "outputs": [
        {
          "output_type": "execute_result",
          "data": {
            "text/plain": [
              "(1, 3)"
            ]
          },
          "metadata": {},
          "execution_count": 1751
        }
      ]
    },
    {
      "cell_type": "code",
      "metadata": {
        "id": "2Tb27oqsdWGH",
        "colab": {
          "base_uri": "https://localhost:8080/"
        },
        "outputId": "de78b965-ba5f-40c6-f8c3-0e95fc70412d"
      },
      "source": [
        "#converting text to integer sequences\n",
        "seq = convert2seq(tokens)\n",
        "seq"
      ],
      "execution_count": 1752,
      "outputs": [
        {
          "output_type": "execute_result",
          "data": {
            "text/plain": [
              "tensor([[63,  3,  0,  1,  1,  1,  1,  1,  1,  1,  1,  1,  1,  1,  1,  1,  1,  1,\n",
              "          1,  1,  1,  1,  1,  1,  1,  1,  1,  1,  1,  1,  1,  1,  1,  1,  1,  1,\n",
              "          1,  1,  1,  1,  1,  1,  1,  1,  1,  1,  1,  1,  1,  1,  1,  1,  1,  1,\n",
              "          1,  1,  1,  1,  1,  1,  1,  1,  1,  1,  1,  1,  1,  1,  1,  1,  1,  1,\n",
              "          1,  1,  1,  1,  1,  1,  1,  1,  1,  1,  1,  1,  1,  1,  1,  1,  1,  1,\n",
              "          1,  1,  1,  1,  1,  1,  1,  1,  1,  1]])"
            ]
          },
          "metadata": {},
          "execution_count": 1752
        }
      ]
    },
    {
      "cell_type": "code",
      "metadata": {
        "id": "c49lZSl4dWDE",
        "colab": {
          "base_uri": "https://localhost:8080/"
        },
        "outputId": "d2991d10-5d02-40b4-cb7c-55b9e600d618"
      },
      "source": [
        "#predictions\n",
        "with torch.no_grad():\n",
        "  if torch.cuda.is_available():\n",
        "    seq = seq.cuda()\n",
        "  pred_prob= model(seq)\n",
        "  print(pred_prob)"
      ],
      "execution_count": 1753,
      "outputs": [
        {
          "output_type": "stream",
          "name": "stdout",
          "text": [
            "tensor([[9.3083e-03, 9.7914e-03, 1.2259e-02, 9.1355e-03, 2.6653e-03, 7.1012e-04,\n",
            "         1.8626e-03, 1.3562e-02, 1.0926e-02, 2.6565e-02, 1.6477e-03, 1.2186e-02,\n",
            "         7.3288e-03, 3.1756e-02, 1.2675e-03, 1.5612e-03, 8.0397e-01, 3.1568e-02,\n",
            "         1.4817e-02, 9.3121e-02]], device='cuda:0')\n"
          ]
        }
      ]
    },
    {
      "cell_type": "code",
      "metadata": {
        "id": "ZeH965i2dVud",
        "colab": {
          "base_uri": "https://localhost:8080/"
        },
        "outputId": "c007de8c-36d2-4d78-a925-dcff36edf1f9"
      },
      "source": [
        "#classify\n",
        "pred = classify(pred_prob,opt)\n",
        "pred"
      ],
      "execution_count": 1754,
      "outputs": [
        {
          "output_type": "execute_result",
          "data": {
            "text/plain": [
              "array([[0, 0, 0, 0, 0, 0, 0, 0, 0, 0, 0, 0, 0, 0, 0, 0, 1, 0, 0, 0]])"
            ]
          },
          "metadata": {},
          "execution_count": 1754
        }
      ]
    },
    {
      "cell_type": "code",
      "metadata": {
        "id": "qCf__xiIfFU9",
        "colab": {
          "base_uri": "https://localhost:8080/"
        },
        "outputId": "3e608429-bce3-411b-ae6e-a67dbe417361"
      },
      "source": [
        "tags  = mlb.inverse_transform(pred)[0]\n",
        "tags"
      ],
      "execution_count": 1755,
      "outputs": [
        {
          "output_type": "execute_result",
          "data": {
            "text/plain": [
              "('movie.starring.actor',)"
            ]
          },
          "metadata": {},
          "execution_count": 1755
        }
      ]
    },
    {
      "cell_type": "code",
      "metadata": {
        "id": "Nk_3cC8tfFdy"
      },
      "source": [
        "def predict_tags(text):\n",
        "  \n",
        "  tokens = cleaner(text)\n",
        "  \n",
        "  tokens = np.array(tokens).reshape(-1,len(tokens))\n",
        "  \n",
        "  seq = convert2seq(tokens)\n",
        "  \n",
        "  with torch.no_grad():\n",
        "    if torch.cuda.is_available():\n",
        "      seq = seq.cuda()\n",
        "\n",
        "  pred_prob= model(seq)\n",
        "  pred = classify(pred_prob,opt)\n",
        "  \n",
        "  tags  = mlb.inverse_transform(pred)[0]\n",
        "  \n",
        "  return tags"
      ],
      "execution_count": 1756,
      "outputs": []
    },
    {
      "cell_type": "code",
      "metadata": {
        "id": "B0Jxz5kmeyEm"
      },
      "source": [
        "import csv\n",
        "output = []\n",
        "outputDict = {}\n",
        "pd_input = pd.read_csv('test_data.csv')\n",
        "print(len(pd_input))\n",
        "for i in pd_input['utterances']:\n",
        "  \n",
        "  text=i\n",
        "  tags = predict_tags(text)\n",
        "  newTags = ''.join(tags)\n",
        "  output.append(newTags)\n",
        "\n",
        "csv_file =  open(\"outputFileRNN.csv\", 'w')\n",
        "csv_writer = csv.writer(csv_file, delimiter=\",\")\n",
        "for i in range(len(output)) :\n",
        "  print(output[i])\n",
        "  csv_writer.writerow([i, output[i]])\n"
      ],
      "execution_count": null,
      "outputs": []
    },
    {
      "cell_type": "markdown",
      "metadata": {
        "id": "8cN7_48hWIGA"
      },
      "source": [
        "# 6. Model Building for LSTM"
      ]
    },
    {
      "cell_type": "code",
      "metadata": {
        "id": "_QazqtX4Fc-c",
        "colab": {
          "base_uri": "https://localhost:8080/"
        },
        "outputId": "e739e3d4-2762-41ee-8020-88f408f37071"
      },
      "source": [
        "sample_embedding.shape"
      ],
      "execution_count": 1758,
      "outputs": [
        {
          "output_type": "execute_result",
          "data": {
            "text/plain": [
              "torch.Size([1, 100, 50])"
            ]
          },
          "metadata": {},
          "execution_count": 1758
        }
      ]
    },
    {
      "cell_type": "code",
      "metadata": {
        "id": "BQdkmPaPrfXK"
      },
      "source": [
        "#define an LSTM\n",
        "lstm_layer = LSTM(input_size=50, hidden_size=128, batch_first=True)"
      ],
      "execution_count": 1759,
      "outputs": []
    },
    {
      "cell_type": "code",
      "metadata": {
        "id": "8ZfiG6PQ-6HI"
      },
      "source": [
        "#pass the input to LSTM\n",
        "hidden_states, (last_hidden_state,last_cell_state) = lstm_layer(sample_embedding)"
      ],
      "execution_count": 1760,
      "outputs": []
    },
    {
      "cell_type": "code",
      "metadata": {
        "id": "_iipOXzw_Gss",
        "colab": {
          "base_uri": "https://localhost:8080/"
        },
        "outputId": "4ce2b95a-eb35-4a59-9948-e74a55b5c90d"
      },
      "source": [
        "#Hidden state of every timestep (Batch, seq_len, no. of hidden neurons)\n",
        "hidden_states.shape"
      ],
      "execution_count": 1761,
      "outputs": [
        {
          "output_type": "execute_result",
          "data": {
            "text/plain": [
              "torch.Size([1, 100, 128])"
            ]
          },
          "metadata": {},
          "execution_count": 1761
        }
      ]
    },
    {
      "cell_type": "code",
      "metadata": {
        "id": "drJDL9gB_Iq7",
        "colab": {
          "base_uri": "https://localhost:8080/"
        },
        "outputId": "06d878f4-4aaf-4982-fe21-0591a247806a"
      },
      "source": [
        "#output shape of last hidden timestep\n",
        "last_hidden_state.shape"
      ],
      "execution_count": 1762,
      "outputs": [
        {
          "output_type": "execute_result",
          "data": {
            "text/plain": [
              "torch.Size([1, 1, 128])"
            ]
          },
          "metadata": {},
          "execution_count": 1762
        }
      ]
    },
    {
      "cell_type": "code",
      "metadata": {
        "id": "0WB6t5Dl_aoI",
        "colab": {
          "base_uri": "https://localhost:8080/"
        },
        "outputId": "ad196c36-45f8-4a50-8ae2-2cfbebdf7db8"
      },
      "source": [
        "#output shape of last cell state\n",
        "last_cell_state.shape"
      ],
      "execution_count": 1763,
      "outputs": [
        {
          "output_type": "execute_result",
          "data": {
            "text/plain": [
              "torch.Size([1, 1, 128])"
            ]
          },
          "metadata": {},
          "execution_count": 1763
        }
      ]
    },
    {
      "cell_type": "code",
      "metadata": {
        "id": "zO_vOTns_KNW",
        "colab": {
          "base_uri": "https://localhost:8080/"
        },
        "outputId": "4f16ed67-70a3-4561-b857-bdd234476881"
      },
      "source": [
        "#reshaping the hidden states\n",
        "reshaped = hidden_states.reshape(hidden_states.size(0),-1)\n",
        "reshaped.shape"
      ],
      "execution_count": 1764,
      "outputs": [
        {
          "output_type": "execute_result",
          "data": {
            "text/plain": [
              "torch.Size([1, 12800])"
            ]
          },
          "metadata": {},
          "execution_count": 1764
        }
      ]
    },
    {
      "cell_type": "code",
      "metadata": {
        "id": "9pOsmRHSQYuN"
      },
      "source": [
        "# Define Model Architecture\n",
        "\n",
        "# Input\n",
        "# Embedding(embedding_dim=100)\n",
        "# LSTM(128)\n",
        "# Linear(128, 'relu')\n",
        "# Linear(10, 'sigmoid')\n",
        "\n",
        "class Net(nn.Module):\n",
        "    \n",
        "    #Constructor\n",
        "    def __init__(self):\n",
        "\n",
        "        #Constructor\n",
        "        super(Net, self).__init__()   \n",
        "  \n",
        "        #rnn block\n",
        "        self.lstm_layer = Sequential(\n",
        "            \n",
        "            #embedding layer\n",
        "            Embedding(num_embeddings=len(TEXT.vocab), embedding_dim=50),\n",
        "        \n",
        "            #lstm layer\n",
        "            LSTM(input_size=50, hidden_size=128, batch_first=True)\n",
        "          \n",
        "            )\n",
        "\n",
        "        #dense block\n",
        "        self.dense_layer = Sequential(\n",
        "            \n",
        "            Linear(12800,128),\n",
        "            LeakyReLU(),\n",
        "            #ReLU(),\n",
        "\n",
        "            Linear(128,20),\n",
        "            \n",
        "            Sigmoid()\n",
        "\n",
        "        )\n",
        "    \n",
        "    #forward pass\n",
        "    def forward(self, x):\n",
        "        \n",
        "        #rnn layer\n",
        "        hidden_states, (last_hidden_state,last_cell_state) = self.lstm_layer(x)\n",
        "\n",
        "        #flattening\n",
        "        hidden_states = hidden_states.reshape(hidden_states.size(0),-1)\n",
        "        \n",
        "        #dense layer\n",
        "        outputs=self.dense_layer(hidden_states)\n",
        "        \n",
        "        return outputs"
      ],
      "execution_count": 1765,
      "outputs": []
    },
    {
      "cell_type": "code",
      "metadata": {
        "id": "HUU13yvgQY1G"
      },
      "source": [
        "#define the model\n",
        "model = Net()"
      ],
      "execution_count": 1766,
      "outputs": []
    },
    {
      "cell_type": "code",
      "metadata": {
        "id": "-RBtZlDJuu-1",
        "colab": {
          "base_uri": "https://localhost:8080/"
        },
        "outputId": "2d4d96c5-5318-480c-d52f-02cef8b04c7e"
      },
      "source": [
        "#layers of the model\n",
        "model"
      ],
      "execution_count": 1767,
      "outputs": [
        {
          "output_type": "execute_result",
          "data": {
            "text/plain": [
              "Net(\n",
              "  (lstm_layer): Sequential(\n",
              "    (0): Embedding(343, 50)\n",
              "    (1): LSTM(50, 128, batch_first=True)\n",
              "  )\n",
              "  (dense_layer): Sequential(\n",
              "    (0): Linear(in_features=12800, out_features=128, bias=True)\n",
              "    (1): LeakyReLU(negative_slope=0.01)\n",
              "    (2): Linear(in_features=128, out_features=20, bias=True)\n",
              "    (3): Sigmoid()\n",
              "  )\n",
              ")"
            ]
          },
          "metadata": {},
          "execution_count": 1767
        }
      ]
    },
    {
      "cell_type": "code",
      "metadata": {
        "id": "4q01g37DbW1n",
        "colab": {
          "base_uri": "https://localhost:8080/"
        },
        "outputId": "44f34d17-9b0c-414a-9021-8d9cfd13c9ff"
      },
      "source": [
        "#pass an text to the model to understand the output\n",
        "\n",
        "#deactivates autograd\n",
        "with torch.no_grad():\n",
        "  pred = model(X_train[:1])\n",
        "  print(pred)"
      ],
      "execution_count": 1768,
      "outputs": [
        {
          "output_type": "stream",
          "name": "stdout",
          "text": [
            "tensor([[0.4809, 0.5019, 0.5120, 0.4835, 0.5182, 0.5298, 0.4877, 0.4745, 0.4796,\n",
            "         0.5127, 0.4854, 0.4647, 0.5099, 0.4949, 0.5131, 0.4916, 0.4890, 0.5320,\n",
            "         0.5086, 0.5067]])\n"
          ]
        }
      ]
    },
    {
      "cell_type": "code",
      "metadata": {
        "id": "UDxhclMZvUHT"
      },
      "source": [
        "#define optimizer and loss\n",
        "optimizer = torch.optim.Adamax(model.parameters())\n",
        "criterion = BCELoss()\n",
        "\n",
        "# checking if GPU is available\n",
        "if torch.cuda.is_available():\n",
        "    model = model.cuda()\n",
        "    criterion = criterion.cuda()"
      ],
      "execution_count": 1769,
      "outputs": []
    },
    {
      "cell_type": "code",
      "metadata": {
        "id": "JlSsG3LQvUNl",
        "colab": {
          "base_uri": "https://localhost:8080/"
        },
        "outputId": "91fa3a50-f496-4c29-b37b-14553768cb30"
      },
      "source": [
        "N_EPOCHS = 300\n",
        "batch_size = 32\n",
        "\n",
        "# intialization\n",
        "best_valid_loss = float('inf')\n",
        "\n",
        "for epoch in range(N_EPOCHS):\n",
        "     \n",
        "    #train the model\n",
        "    train_loss   = train(X_train, y_train, batch_size)\n",
        "    \n",
        "    #evaluate the model\n",
        "    valid_loss   = evaluate(X_valid, y_valid, batch_size)\n",
        "\n",
        "    print('\\nEpoch :',epoch,\n",
        "          'Training loss:',round(train_loss,4),\n",
        "          '\\tValidation loss:',round(valid_loss,4))\n",
        "\n",
        "    #save the best model \n",
        "    if best_valid_loss >= valid_loss:\n",
        "        best_valid_loss = valid_loss\n",
        "        torch.save(model.state_dict(), 'saved_weights.pt') \n",
        "        print(\"\\n----------------------------------------------------Saved best model------------------------------------------------------------------\")   \n",
        "\n"
      ],
      "execution_count": 1770,
      "outputs": [
        {
          "output_type": "stream",
          "name": "stdout",
          "text": [
            "\n",
            "Epoch : 0 Training loss: 0.1926 \tValidation loss: 0.1746\n",
            "\n",
            "----------------------------------------------------Saved best model------------------------------------------------------------------\n",
            "\n",
            "Epoch : 1 Training loss: 0.1693 \tValidation loss: 0.1623\n",
            "\n",
            "----------------------------------------------------Saved best model------------------------------------------------------------------\n",
            "\n",
            "Epoch : 2 Training loss: 0.1506 \tValidation loss: 0.1457\n",
            "\n",
            "----------------------------------------------------Saved best model------------------------------------------------------------------\n",
            "\n",
            "Epoch : 3 Training loss: 0.1328 \tValidation loss: 0.1314\n",
            "\n",
            "----------------------------------------------------Saved best model------------------------------------------------------------------\n",
            "\n",
            "Epoch : 4 Training loss: 0.1148 \tValidation loss: 0.1182\n",
            "\n",
            "----------------------------------------------------Saved best model------------------------------------------------------------------\n",
            "\n",
            "Epoch : 5 Training loss: 0.0977 \tValidation loss: 0.1045\n",
            "\n",
            "----------------------------------------------------Saved best model------------------------------------------------------------------\n",
            "\n",
            "Epoch : 6 Training loss: 0.0867 \tValidation loss: 0.0973\n",
            "\n",
            "----------------------------------------------------Saved best model------------------------------------------------------------------\n",
            "\n",
            "Epoch : 7 Training loss: 0.0767 \tValidation loss: 0.0932\n",
            "\n",
            "----------------------------------------------------Saved best model------------------------------------------------------------------\n",
            "\n",
            "Epoch : 8 Training loss: 0.0695 \tValidation loss: 0.0917\n",
            "\n",
            "----------------------------------------------------Saved best model------------------------------------------------------------------\n",
            "\n",
            "Epoch : 9 Training loss: 0.065 \tValidation loss: 0.085\n",
            "\n",
            "----------------------------------------------------Saved best model------------------------------------------------------------------\n",
            "\n",
            "Epoch : 10 Training loss: 0.0597 \tValidation loss: 0.0841\n",
            "\n",
            "----------------------------------------------------Saved best model------------------------------------------------------------------\n",
            "\n",
            "Epoch : 11 Training loss: 0.055 \tValidation loss: 0.0826\n",
            "\n",
            "----------------------------------------------------Saved best model------------------------------------------------------------------\n",
            "\n",
            "Epoch : 12 Training loss: 0.0517 \tValidation loss: 0.0789\n",
            "\n",
            "----------------------------------------------------Saved best model------------------------------------------------------------------\n",
            "\n",
            "Epoch : 13 Training loss: 0.047 \tValidation loss: 0.0784\n",
            "\n",
            "----------------------------------------------------Saved best model------------------------------------------------------------------\n",
            "\n",
            "Epoch : 14 Training loss: 0.0447 \tValidation loss: 0.0842\n",
            "\n",
            "Epoch : 15 Training loss: 0.0439 \tValidation loss: 0.0818\n",
            "\n",
            "Epoch : 16 Training loss: 0.0405 \tValidation loss: 0.0776\n",
            "\n",
            "----------------------------------------------------Saved best model------------------------------------------------------------------\n",
            "\n",
            "Epoch : 17 Training loss: 0.0364 \tValidation loss: 0.0763\n",
            "\n",
            "----------------------------------------------------Saved best model------------------------------------------------------------------\n",
            "\n",
            "Epoch : 18 Training loss: 0.0353 \tValidation loss: 0.0761\n",
            "\n",
            "----------------------------------------------------Saved best model------------------------------------------------------------------\n",
            "\n",
            "Epoch : 19 Training loss: 0.0327 \tValidation loss: 0.0808\n",
            "\n",
            "Epoch : 20 Training loss: 0.0303 \tValidation loss: 0.0786\n",
            "\n",
            "Epoch : 21 Training loss: 0.0288 \tValidation loss: 0.0787\n",
            "\n",
            "Epoch : 22 Training loss: 0.0271 \tValidation loss: 0.0799\n",
            "\n",
            "Epoch : 23 Training loss: 0.0259 \tValidation loss: 0.0734\n",
            "\n",
            "----------------------------------------------------Saved best model------------------------------------------------------------------\n",
            "\n",
            "Epoch : 24 Training loss: 0.0239 \tValidation loss: 0.0849\n",
            "\n",
            "Epoch : 25 Training loss: 0.0224 \tValidation loss: 0.075\n",
            "\n",
            "Epoch : 26 Training loss: 0.0225 \tValidation loss: 0.0782\n",
            "\n",
            "Epoch : 27 Training loss: 0.0211 \tValidation loss: 0.0744\n",
            "\n",
            "Epoch : 28 Training loss: 0.0188 \tValidation loss: 0.0755\n",
            "\n",
            "Epoch : 29 Training loss: 0.0193 \tValidation loss: 0.0731\n",
            "\n",
            "----------------------------------------------------Saved best model------------------------------------------------------------------\n",
            "\n",
            "Epoch : 30 Training loss: 0.0177 \tValidation loss: 0.0839\n",
            "\n",
            "Epoch : 31 Training loss: 0.0173 \tValidation loss: 0.0857\n",
            "\n",
            "Epoch : 32 Training loss: 0.016 \tValidation loss: 0.078\n",
            "\n",
            "Epoch : 33 Training loss: 0.0139 \tValidation loss: 0.0868\n",
            "\n",
            "Epoch : 34 Training loss: 0.0142 \tValidation loss: 0.0866\n",
            "\n",
            "Epoch : 35 Training loss: 0.0142 \tValidation loss: 0.0834\n",
            "\n",
            "Epoch : 36 Training loss: 0.0133 \tValidation loss: 0.086\n",
            "\n",
            "Epoch : 37 Training loss: 0.0129 \tValidation loss: 0.0864\n",
            "\n",
            "Epoch : 38 Training loss: 0.0118 \tValidation loss: 0.0922\n",
            "\n",
            "Epoch : 39 Training loss: 0.0114 \tValidation loss: 0.0828\n",
            "\n",
            "Epoch : 40 Training loss: 0.0115 \tValidation loss: 0.0862\n",
            "\n",
            "Epoch : 41 Training loss: 0.0129 \tValidation loss: 0.0801\n",
            "\n",
            "Epoch : 42 Training loss: 0.0106 \tValidation loss: 0.0866\n",
            "\n",
            "Epoch : 43 Training loss: 0.0094 \tValidation loss: 0.0954\n",
            "\n",
            "Epoch : 44 Training loss: 0.0094 \tValidation loss: 0.0913\n",
            "\n",
            "Epoch : 45 Training loss: 0.0103 \tValidation loss: 0.0936\n",
            "\n",
            "Epoch : 46 Training loss: 0.0086 \tValidation loss: 0.0895\n",
            "\n",
            "Epoch : 47 Training loss: 0.009 \tValidation loss: 0.1006\n",
            "\n",
            "Epoch : 48 Training loss: 0.0093 \tValidation loss: 0.0953\n",
            "\n",
            "Epoch : 49 Training loss: 0.0077 \tValidation loss: 0.0955\n",
            "\n",
            "Epoch : 50 Training loss: 0.0072 \tValidation loss: 0.0931\n",
            "\n",
            "Epoch : 51 Training loss: 0.0072 \tValidation loss: 0.0986\n",
            "\n",
            "Epoch : 52 Training loss: 0.0078 \tValidation loss: 0.0978\n",
            "\n",
            "Epoch : 53 Training loss: 0.0081 \tValidation loss: 0.0939\n",
            "\n",
            "Epoch : 54 Training loss: 0.0068 \tValidation loss: 0.1127\n",
            "\n",
            "Epoch : 55 Training loss: 0.007 \tValidation loss: 0.0993\n",
            "\n",
            "Epoch : 56 Training loss: 0.0072 \tValidation loss: 0.1041\n",
            "\n",
            "Epoch : 57 Training loss: 0.0083 \tValidation loss: 0.105\n",
            "\n",
            "Epoch : 58 Training loss: 0.007 \tValidation loss: 0.1033\n",
            "\n",
            "Epoch : 59 Training loss: 0.0068 \tValidation loss: 0.1084\n",
            "\n",
            "Epoch : 60 Training loss: 0.007 \tValidation loss: 0.1093\n",
            "\n",
            "Epoch : 61 Training loss: 0.0083 \tValidation loss: 0.102\n",
            "\n",
            "Epoch : 62 Training loss: 0.0075 \tValidation loss: 0.115\n",
            "\n",
            "Epoch : 63 Training loss: 0.008 \tValidation loss: 0.1211\n",
            "\n",
            "Epoch : 64 Training loss: 0.0063 \tValidation loss: 0.1167\n",
            "\n",
            "Epoch : 65 Training loss: 0.006 \tValidation loss: 0.1161\n",
            "\n",
            "Epoch : 66 Training loss: 0.0062 \tValidation loss: 0.1216\n",
            "\n",
            "Epoch : 67 Training loss: 0.0058 \tValidation loss: 0.118\n",
            "\n",
            "Epoch : 68 Training loss: 0.0071 \tValidation loss: 0.1027\n",
            "\n",
            "Epoch : 69 Training loss: 0.0065 \tValidation loss: 0.1108\n",
            "\n",
            "Epoch : 70 Training loss: 0.0064 \tValidation loss: 0.1111\n",
            "\n",
            "Epoch : 71 Training loss: 0.0062 \tValidation loss: 0.1056\n",
            "\n",
            "Epoch : 72 Training loss: 0.007 \tValidation loss: 0.1245\n",
            "\n",
            "Epoch : 73 Training loss: 0.0069 \tValidation loss: 0.1032\n",
            "\n",
            "Epoch : 74 Training loss: 0.0055 \tValidation loss: 0.1099\n",
            "\n",
            "Epoch : 75 Training loss: 0.0058 \tValidation loss: 0.1129\n",
            "\n",
            "Epoch : 76 Training loss: 0.005 \tValidation loss: 0.1132\n",
            "\n",
            "Epoch : 77 Training loss: 0.0054 \tValidation loss: 0.1085\n",
            "\n",
            "Epoch : 78 Training loss: 0.0052 \tValidation loss: 0.1131\n",
            "\n",
            "Epoch : 79 Training loss: 0.0051 \tValidation loss: 0.1241\n",
            "\n",
            "Epoch : 80 Training loss: 0.0052 \tValidation loss: 0.1255\n",
            "\n",
            "Epoch : 81 Training loss: 0.0058 \tValidation loss: 0.1076\n",
            "\n",
            "Epoch : 82 Training loss: 0.0058 \tValidation loss: 0.1207\n",
            "\n",
            "Epoch : 83 Training loss: 0.0054 \tValidation loss: 0.1087\n",
            "\n",
            "Epoch : 84 Training loss: 0.0052 \tValidation loss: 0.12\n",
            "\n",
            "Epoch : 85 Training loss: 0.0053 \tValidation loss: 0.121\n",
            "\n",
            "Epoch : 86 Training loss: 0.0056 \tValidation loss: 0.1163\n",
            "\n",
            "Epoch : 87 Training loss: 0.0074 \tValidation loss: 0.1118\n",
            "\n",
            "Epoch : 88 Training loss: 0.0069 \tValidation loss: 0.112\n",
            "\n",
            "Epoch : 89 Training loss: 0.0059 \tValidation loss: 0.1183\n",
            "\n",
            "Epoch : 90 Training loss: 0.0052 \tValidation loss: 0.1184\n",
            "\n",
            "Epoch : 91 Training loss: 0.0056 \tValidation loss: 0.1223\n",
            "\n",
            "Epoch : 92 Training loss: 0.0054 \tValidation loss: 0.1127\n",
            "\n",
            "Epoch : 93 Training loss: 0.0053 \tValidation loss: 0.1345\n",
            "\n",
            "Epoch : 94 Training loss: 0.0066 \tValidation loss: 0.1173\n",
            "\n",
            "Epoch : 95 Training loss: 0.0053 \tValidation loss: 0.1267\n",
            "\n",
            "Epoch : 96 Training loss: 0.0045 \tValidation loss: 0.1214\n",
            "\n",
            "Epoch : 97 Training loss: 0.0045 \tValidation loss: 0.1156\n",
            "\n",
            "Epoch : 98 Training loss: 0.0048 \tValidation loss: 0.1238\n",
            "\n",
            "Epoch : 99 Training loss: 0.0046 \tValidation loss: 0.1178\n",
            "\n",
            "Epoch : 100 Training loss: 0.0046 \tValidation loss: 0.1218\n",
            "\n",
            "Epoch : 101 Training loss: 0.0049 \tValidation loss: 0.1185\n",
            "\n",
            "Epoch : 102 Training loss: 0.005 \tValidation loss: 0.1253\n",
            "\n",
            "Epoch : 103 Training loss: 0.0052 \tValidation loss: 0.1154\n",
            "\n",
            "Epoch : 104 Training loss: 0.005 \tValidation loss: 0.1188\n",
            "\n",
            "Epoch : 105 Training loss: 0.0046 \tValidation loss: 0.1236\n",
            "\n",
            "Epoch : 106 Training loss: 0.0047 \tValidation loss: 0.1303\n",
            "\n",
            "Epoch : 107 Training loss: 0.0052 \tValidation loss: 0.1347\n",
            "\n",
            "Epoch : 108 Training loss: 0.0081 \tValidation loss: 0.1075\n",
            "\n",
            "Epoch : 109 Training loss: 0.0052 \tValidation loss: 0.117\n",
            "\n",
            "Epoch : 110 Training loss: 0.0046 \tValidation loss: 0.1292\n",
            "\n",
            "Epoch : 111 Training loss: 0.0043 \tValidation loss: 0.1243\n",
            "\n",
            "Epoch : 112 Training loss: 0.0042 \tValidation loss: 0.1193\n",
            "\n",
            "Epoch : 113 Training loss: 0.0044 \tValidation loss: 0.1251\n",
            "\n",
            "Epoch : 114 Training loss: 0.0042 \tValidation loss: 0.1282\n",
            "\n",
            "Epoch : 115 Training loss: 0.0042 \tValidation loss: 0.1272\n",
            "\n",
            "Epoch : 116 Training loss: 0.0043 \tValidation loss: 0.1247\n",
            "\n",
            "Epoch : 117 Training loss: 0.0043 \tValidation loss: 0.1387\n",
            "\n",
            "Epoch : 118 Training loss: 0.0043 \tValidation loss: 0.1312\n",
            "\n",
            "Epoch : 119 Training loss: 0.0043 \tValidation loss: 0.141\n",
            "\n",
            "Epoch : 120 Training loss: 0.0042 \tValidation loss: 0.137\n",
            "\n",
            "Epoch : 121 Training loss: 0.0043 \tValidation loss: 0.1209\n",
            "\n",
            "Epoch : 122 Training loss: 0.0045 \tValidation loss: 0.1272\n",
            "\n",
            "Epoch : 123 Training loss: 0.0043 \tValidation loss: 0.133\n",
            "\n",
            "Epoch : 124 Training loss: 0.0043 \tValidation loss: 0.1251\n",
            "\n",
            "Epoch : 125 Training loss: 0.0042 \tValidation loss: 0.1434\n",
            "\n",
            "Epoch : 126 Training loss: 0.0045 \tValidation loss: 0.138\n",
            "\n",
            "Epoch : 127 Training loss: 0.0046 \tValidation loss: 0.1322\n",
            "\n",
            "Epoch : 128 Training loss: 0.0061 \tValidation loss: 0.1269\n",
            "\n",
            "Epoch : 129 Training loss: 0.006 \tValidation loss: 0.1372\n",
            "\n",
            "Epoch : 130 Training loss: 0.0052 \tValidation loss: 0.1313\n",
            "\n",
            "Epoch : 131 Training loss: 0.005 \tValidation loss: 0.1447\n",
            "\n",
            "Epoch : 132 Training loss: 0.0052 \tValidation loss: 0.1289\n",
            "\n",
            "Epoch : 133 Training loss: 0.0041 \tValidation loss: 0.1309\n",
            "\n",
            "Epoch : 134 Training loss: 0.004 \tValidation loss: 0.1303\n",
            "\n",
            "Epoch : 135 Training loss: 0.0041 \tValidation loss: 0.1315\n",
            "\n",
            "Epoch : 136 Training loss: 0.0042 \tValidation loss: 0.1387\n",
            "\n",
            "Epoch : 137 Training loss: 0.0043 \tValidation loss: 0.1248\n",
            "\n",
            "Epoch : 138 Training loss: 0.004 \tValidation loss: 0.1418\n",
            "\n",
            "Epoch : 139 Training loss: 0.0043 \tValidation loss: 0.1318\n",
            "\n",
            "Epoch : 140 Training loss: 0.0042 \tValidation loss: 0.127\n",
            "\n",
            "Epoch : 141 Training loss: 0.005 \tValidation loss: 0.122\n",
            "\n",
            "Epoch : 142 Training loss: 0.0047 \tValidation loss: 0.1305\n",
            "\n",
            "Epoch : 143 Training loss: 0.0052 \tValidation loss: 0.1184\n",
            "\n",
            "Epoch : 144 Training loss: 0.0044 \tValidation loss: 0.1297\n",
            "\n",
            "Epoch : 145 Training loss: 0.0042 \tValidation loss: 0.1298\n",
            "\n",
            "Epoch : 146 Training loss: 0.004 \tValidation loss: 0.1389\n",
            "\n",
            "Epoch : 147 Training loss: 0.004 \tValidation loss: 0.1279\n",
            "\n",
            "Epoch : 148 Training loss: 0.004 \tValidation loss: 0.1308\n",
            "\n",
            "Epoch : 149 Training loss: 0.004 \tValidation loss: 0.1344\n",
            "\n",
            "Epoch : 150 Training loss: 0.0043 \tValidation loss: 0.1353\n",
            "\n",
            "Epoch : 151 Training loss: 0.005 \tValidation loss: 0.1263\n",
            "\n",
            "Epoch : 152 Training loss: 0.0044 \tValidation loss: 0.1328\n",
            "\n",
            "Epoch : 153 Training loss: 0.0042 \tValidation loss: 0.143\n",
            "\n",
            "Epoch : 154 Training loss: 0.0041 \tValidation loss: 0.1283\n",
            "\n",
            "Epoch : 155 Training loss: 0.0041 \tValidation loss: 0.12\n",
            "\n",
            "Epoch : 156 Training loss: 0.0042 \tValidation loss: 0.1485\n",
            "\n",
            "Epoch : 157 Training loss: 0.0041 \tValidation loss: 0.1315\n",
            "\n",
            "Epoch : 158 Training loss: 0.0041 \tValidation loss: 0.1334\n",
            "\n",
            "Epoch : 159 Training loss: 0.004 \tValidation loss: 0.1525\n",
            "\n",
            "Epoch : 160 Training loss: 0.0041 \tValidation loss: 0.1411\n",
            "\n",
            "Epoch : 161 Training loss: 0.0041 \tValidation loss: 0.1277\n",
            "\n",
            "Epoch : 162 Training loss: 0.0044 \tValidation loss: 0.1332\n",
            "\n",
            "Epoch : 163 Training loss: 0.0041 \tValidation loss: 0.1262\n",
            "\n",
            "Epoch : 164 Training loss: 0.0041 \tValidation loss: 0.139\n",
            "\n",
            "Epoch : 165 Training loss: 0.0042 \tValidation loss: 0.1393\n",
            "\n",
            "Epoch : 166 Training loss: 0.0044 \tValidation loss: 0.131\n",
            "\n",
            "Epoch : 167 Training loss: 0.004 \tValidation loss: 0.1758\n",
            "\n",
            "Epoch : 168 Training loss: 0.0042 \tValidation loss: 0.1368\n",
            "\n",
            "Epoch : 169 Training loss: 0.0041 \tValidation loss: 0.1592\n",
            "\n",
            "Epoch : 170 Training loss: 0.0041 \tValidation loss: 0.1498\n",
            "\n",
            "Epoch : 171 Training loss: 0.0042 \tValidation loss: 0.1909\n",
            "\n",
            "Epoch : 172 Training loss: 0.0053 \tValidation loss: 0.1397\n",
            "\n",
            "Epoch : 173 Training loss: 0.0062 \tValidation loss: 0.141\n",
            "\n",
            "Epoch : 174 Training loss: 0.0042 \tValidation loss: 0.1376\n",
            "\n",
            "Epoch : 175 Training loss: 0.004 \tValidation loss: 0.1484\n",
            "\n",
            "Epoch : 176 Training loss: 0.0039 \tValidation loss: 0.1436\n",
            "\n",
            "Epoch : 177 Training loss: 0.0043 \tValidation loss: 0.1504\n",
            "\n",
            "Epoch : 178 Training loss: 0.004 \tValidation loss: 0.1591\n",
            "\n",
            "Epoch : 179 Training loss: 0.0038 \tValidation loss: 0.1551\n",
            "\n",
            "Epoch : 180 Training loss: 0.0038 \tValidation loss: 0.1618\n",
            "\n",
            "Epoch : 181 Training loss: 0.004 \tValidation loss: 0.1563\n",
            "\n",
            "Epoch : 182 Training loss: 0.0041 \tValidation loss: 0.1518\n",
            "\n",
            "Epoch : 183 Training loss: 0.0038 \tValidation loss: 0.1561\n",
            "\n",
            "Epoch : 184 Training loss: 0.004 \tValidation loss: 0.1563\n",
            "\n",
            "Epoch : 185 Training loss: 0.0039 \tValidation loss: 0.1549\n",
            "\n",
            "Epoch : 186 Training loss: 0.0039 \tValidation loss: 0.1671\n",
            "\n",
            "Epoch : 187 Training loss: 0.004 \tValidation loss: 0.1686\n",
            "\n",
            "Epoch : 188 Training loss: 0.004 \tValidation loss: 0.1601\n",
            "\n",
            "Epoch : 189 Training loss: 0.0039 \tValidation loss: 0.148\n",
            "\n",
            "Epoch : 190 Training loss: 0.0039 \tValidation loss: 0.148\n",
            "\n",
            "Epoch : 191 Training loss: 0.0054 \tValidation loss: 0.1439\n",
            "\n",
            "Epoch : 192 Training loss: 0.0047 \tValidation loss: 0.1468\n",
            "\n",
            "Epoch : 193 Training loss: 0.0046 \tValidation loss: 0.1512\n",
            "\n",
            "Epoch : 194 Training loss: 0.004 \tValidation loss: 0.157\n",
            "\n",
            "Epoch : 195 Training loss: 0.004 \tValidation loss: 0.177\n",
            "\n",
            "Epoch : 196 Training loss: 0.0038 \tValidation loss: 0.1599\n",
            "\n",
            "Epoch : 197 Training loss: 0.0037 \tValidation loss: 0.1644\n",
            "\n",
            "Epoch : 198 Training loss: 0.0039 \tValidation loss: 0.1488\n",
            "\n",
            "Epoch : 199 Training loss: 0.0038 \tValidation loss: 0.1707\n",
            "\n",
            "Epoch : 200 Training loss: 0.0038 \tValidation loss: 0.1639\n",
            "\n",
            "Epoch : 201 Training loss: 0.0038 \tValidation loss: 0.1563\n",
            "\n",
            "Epoch : 202 Training loss: 0.0039 \tValidation loss: 0.1688\n",
            "\n",
            "Epoch : 203 Training loss: 0.0039 \tValidation loss: 0.1565\n",
            "\n",
            "Epoch : 204 Training loss: 0.0038 \tValidation loss: 0.1712\n",
            "\n",
            "Epoch : 205 Training loss: 0.0039 \tValidation loss: 0.1636\n",
            "\n",
            "Epoch : 206 Training loss: 0.0038 \tValidation loss: 0.1656\n",
            "\n",
            "Epoch : 207 Training loss: 0.0038 \tValidation loss: 0.1693\n",
            "\n",
            "Epoch : 208 Training loss: 0.0038 \tValidation loss: 0.1611\n",
            "\n",
            "Epoch : 209 Training loss: 0.0038 \tValidation loss: 0.1692\n",
            "\n",
            "Epoch : 210 Training loss: 0.004 \tValidation loss: 0.183\n",
            "\n",
            "Epoch : 211 Training loss: 0.0042 \tValidation loss: 0.1638\n",
            "\n",
            "Epoch : 212 Training loss: 0.0056 \tValidation loss: 0.1535\n",
            "\n",
            "Epoch : 213 Training loss: 0.0051 \tValidation loss: 0.1601\n",
            "\n",
            "Epoch : 214 Training loss: 0.0042 \tValidation loss: 0.1366\n",
            "\n",
            "Epoch : 215 Training loss: 0.0037 \tValidation loss: 0.1557\n",
            "\n",
            "Epoch : 216 Training loss: 0.0038 \tValidation loss: 0.1471\n",
            "\n",
            "Epoch : 217 Training loss: 0.0037 \tValidation loss: 0.1563\n",
            "\n",
            "Epoch : 218 Training loss: 0.0036 \tValidation loss: 0.1581\n",
            "\n",
            "Epoch : 219 Training loss: 0.0037 \tValidation loss: 0.1619\n",
            "\n",
            "Epoch : 220 Training loss: 0.0037 \tValidation loss: 0.1603\n",
            "\n",
            "Epoch : 221 Training loss: 0.0036 \tValidation loss: 0.1597\n",
            "\n",
            "Epoch : 222 Training loss: 0.0036 \tValidation loss: 0.1656\n",
            "\n",
            "Epoch : 223 Training loss: 0.0037 \tValidation loss: 0.16\n",
            "\n",
            "Epoch : 224 Training loss: 0.0037 \tValidation loss: 0.1671\n",
            "\n",
            "Epoch : 225 Training loss: 0.0037 \tValidation loss: 0.1513\n",
            "\n",
            "Epoch : 226 Training loss: 0.0038 \tValidation loss: 0.165\n",
            "\n",
            "Epoch : 227 Training loss: 0.0039 \tValidation loss: 0.1574\n",
            "\n",
            "Epoch : 228 Training loss: 0.0038 \tValidation loss: 0.1496\n",
            "\n",
            "Epoch : 229 Training loss: 0.0039 \tValidation loss: 0.1725\n",
            "\n",
            "Epoch : 230 Training loss: 0.0039 \tValidation loss: 0.1576\n",
            "\n",
            "Epoch : 231 Training loss: 0.0037 \tValidation loss: 0.1825\n",
            "\n",
            "Epoch : 232 Training loss: 0.0039 \tValidation loss: 0.1819\n",
            "\n",
            "Epoch : 233 Training loss: 0.004 \tValidation loss: 0.162\n",
            "\n",
            "Epoch : 234 Training loss: 0.0041 \tValidation loss: 0.1533\n",
            "\n",
            "Epoch : 235 Training loss: 0.0039 \tValidation loss: 0.141\n",
            "\n",
            "Epoch : 236 Training loss: 0.0037 \tValidation loss: 0.1576\n",
            "\n",
            "Epoch : 237 Training loss: 0.0038 \tValidation loss: 0.1467\n",
            "\n",
            "Epoch : 238 Training loss: 0.0042 \tValidation loss: 0.1696\n",
            "\n",
            "Epoch : 239 Training loss: 0.0046 \tValidation loss: 0.1425\n",
            "\n",
            "Epoch : 240 Training loss: 0.0047 \tValidation loss: 0.1487\n",
            "\n",
            "Epoch : 241 Training loss: 0.005 \tValidation loss: 0.1654\n",
            "\n",
            "Epoch : 242 Training loss: 0.004 \tValidation loss: 0.1537\n",
            "\n",
            "Epoch : 243 Training loss: 0.0036 \tValidation loss: 0.1521\n",
            "\n",
            "Epoch : 244 Training loss: 0.0037 \tValidation loss: 0.1557\n",
            "\n",
            "Epoch : 245 Training loss: 0.0037 \tValidation loss: 0.1538\n",
            "\n",
            "Epoch : 246 Training loss: 0.0036 \tValidation loss: 0.1528\n",
            "\n",
            "Epoch : 247 Training loss: 0.0036 \tValidation loss: 0.1571\n",
            "\n",
            "Epoch : 248 Training loss: 0.0036 \tValidation loss: 0.1561\n",
            "\n",
            "Epoch : 249 Training loss: 0.0036 \tValidation loss: 0.1578\n",
            "\n",
            "Epoch : 250 Training loss: 0.0037 \tValidation loss: 0.1671\n",
            "\n",
            "Epoch : 251 Training loss: 0.0038 \tValidation loss: 0.154\n",
            "\n",
            "Epoch : 252 Training loss: 0.0037 \tValidation loss: 0.1611\n",
            "\n",
            "Epoch : 253 Training loss: 0.0036 \tValidation loss: 0.1534\n",
            "\n",
            "Epoch : 254 Training loss: 0.0037 \tValidation loss: 0.1577\n",
            "\n",
            "Epoch : 255 Training loss: 0.0036 \tValidation loss: 0.1567\n",
            "\n",
            "Epoch : 256 Training loss: 0.0037 \tValidation loss: 0.1651\n",
            "\n",
            "Epoch : 257 Training loss: 0.0037 \tValidation loss: 0.1679\n",
            "\n",
            "Epoch : 258 Training loss: 0.0037 \tValidation loss: 0.1908\n",
            "\n",
            "Epoch : 259 Training loss: 0.0036 \tValidation loss: 0.1735\n",
            "\n",
            "Epoch : 260 Training loss: 0.0038 \tValidation loss: 0.1479\n",
            "\n",
            "Epoch : 261 Training loss: 0.0037 \tValidation loss: 0.1744\n",
            "\n",
            "Epoch : 262 Training loss: 0.0038 \tValidation loss: 0.1745\n",
            "\n",
            "Epoch : 263 Training loss: 0.0039 \tValidation loss: 0.1823\n",
            "\n",
            "Epoch : 264 Training loss: 0.0041 \tValidation loss: 0.1713\n",
            "\n",
            "Epoch : 265 Training loss: 0.0042 \tValidation loss: 0.1816\n",
            "\n",
            "Epoch : 266 Training loss: 0.0061 \tValidation loss: 0.1505\n",
            "\n",
            "Epoch : 267 Training loss: 0.004 \tValidation loss: 0.1605\n",
            "\n",
            "Epoch : 268 Training loss: 0.0036 \tValidation loss: 0.1589\n",
            "\n",
            "Epoch : 269 Training loss: 0.0036 \tValidation loss: 0.1559\n",
            "\n",
            "Epoch : 270 Training loss: 0.0036 \tValidation loss: 0.1609\n",
            "\n",
            "Epoch : 271 Training loss: 0.0035 \tValidation loss: 0.163\n",
            "\n",
            "Epoch : 272 Training loss: 0.0036 \tValidation loss: 0.1648\n",
            "\n",
            "Epoch : 273 Training loss: 0.0036 \tValidation loss: 0.1668\n",
            "\n",
            "Epoch : 274 Training loss: 0.0036 \tValidation loss: 0.1691\n",
            "\n",
            "Epoch : 275 Training loss: 0.0036 \tValidation loss: 0.1669\n",
            "\n",
            "Epoch : 276 Training loss: 0.0036 \tValidation loss: 0.1682\n",
            "\n",
            "Epoch : 277 Training loss: 0.0036 \tValidation loss: 0.1674\n",
            "\n",
            "Epoch : 278 Training loss: 0.0036 \tValidation loss: 0.1654\n",
            "\n",
            "Epoch : 279 Training loss: 0.0037 \tValidation loss: 0.1687\n",
            "\n",
            "Epoch : 280 Training loss: 0.0036 \tValidation loss: 0.1685\n",
            "\n",
            "Epoch : 281 Training loss: 0.0037 \tValidation loss: 0.1672\n",
            "\n",
            "Epoch : 282 Training loss: 0.0036 \tValidation loss: 0.1684\n",
            "\n",
            "Epoch : 283 Training loss: 0.0036 \tValidation loss: 0.1623\n",
            "\n",
            "Epoch : 284 Training loss: 0.0036 \tValidation loss: 0.1711\n",
            "\n",
            "Epoch : 285 Training loss: 0.0037 \tValidation loss: 0.1718\n",
            "\n",
            "Epoch : 286 Training loss: 0.0036 \tValidation loss: 0.1725\n",
            "\n",
            "Epoch : 287 Training loss: 0.004 \tValidation loss: 0.156\n",
            "\n",
            "Epoch : 288 Training loss: 0.0041 \tValidation loss: 0.1507\n",
            "\n",
            "Epoch : 289 Training loss: 0.0048 \tValidation loss: 0.1864\n",
            "\n",
            "Epoch : 290 Training loss: 0.0049 \tValidation loss: 0.1585\n",
            "\n",
            "Epoch : 291 Training loss: 0.0042 \tValidation loss: 0.1505\n",
            "\n",
            "Epoch : 292 Training loss: 0.0038 \tValidation loss: 0.1583\n",
            "\n",
            "Epoch : 293 Training loss: 0.0035 \tValidation loss: 0.1632\n",
            "\n",
            "Epoch : 294 Training loss: 0.0035 \tValidation loss: 0.1663\n",
            "\n",
            "Epoch : 295 Training loss: 0.0035 \tValidation loss: 0.1664\n",
            "\n",
            "Epoch : 296 Training loss: 0.0035 \tValidation loss: 0.1695\n",
            "\n",
            "Epoch : 297 Training loss: 0.0035 \tValidation loss: 0.1665\n",
            "\n",
            "Epoch : 298 Training loss: 0.0036 \tValidation loss: 0.1703\n",
            "\n",
            "Epoch : 299 Training loss: 0.0036 \tValidation loss: 0.1683\n"
          ]
        }
      ]
    },
    {
      "cell_type": "markdown",
      "metadata": {
        "id": "qWU2ZDir2q0j"
      },
      "source": [
        "# 7. Model Evaluation for LSTM"
      ]
    },
    {
      "cell_type": "code",
      "metadata": {
        "id": "K_jPYFKzvUUq",
        "colab": {
          "base_uri": "https://localhost:8080/"
        },
        "outputId": "123bbb15-847d-48e9-e474-239b86eaa45d"
      },
      "source": [
        "#load weights of best model\n",
        "path='saved_weights.pt'\n",
        "model.load_state_dict(torch.load(path))"
      ],
      "execution_count": 1771,
      "outputs": [
        {
          "output_type": "execute_result",
          "data": {
            "text/plain": [
              "<All keys matched successfully>"
            ]
          },
          "metadata": {},
          "execution_count": 1771
        }
      ]
    },
    {
      "cell_type": "code",
      "metadata": {
        "id": "tCLWSfuXQYy9"
      },
      "source": [
        "#predict probabilities\n",
        "y_pred_prob = predict(X_valid, batch_size)"
      ],
      "execution_count": 1772,
      "outputs": []
    },
    {
      "cell_type": "code",
      "metadata": {
        "id": "srL5tr77hAfP",
        "colab": {
          "base_uri": "https://localhost:8080/"
        },
        "outputId": "0b465ccb-82fa-4e59-efc8-86e3d7f0a68a"
      },
      "source": [
        "y_pred_prob[0]"
      ],
      "execution_count": 1773,
      "outputs": [
        {
          "output_type": "execute_result",
          "data": {
            "text/plain": [
              "array([1.6386135e-03, 4.6954736e-01, 3.3682425e-02, 4.8063551e-03,\n",
              "       4.0270074e-04, 3.1126809e-05, 3.4494396e-06, 1.2976742e-02,\n",
              "       8.3559287e-05, 1.0617897e-02, 1.4325685e-04, 6.1897421e-03,\n",
              "       9.3468424e-04, 6.7847632e-03, 2.9506878e-04, 9.3810930e-04,\n",
              "       4.2290720e-01, 1.4824462e-01, 2.7378689e-02, 2.7846325e-02],\n",
              "      dtype=float32)"
            ]
          },
          "metadata": {},
          "execution_count": 1773
        }
      ]
    },
    {
      "cell_type": "code",
      "metadata": {
        "id": "p0d3ubp2hAdA"
      },
      "source": [
        "score=[]\n",
        "\n",
        "for thresh in threshold:\n",
        "    \n",
        "    #classes for each threshold\n",
        "    y_pred = classify(y_pred_prob, thresh) \n",
        "\n",
        "    #convert to 1d array\n",
        "    y_pred_1d    =  y_pred.ravel()\n",
        "    y_true_1d    =  y_true.ravel()\n",
        " \n",
        "    score.append(metrics.f1_score(y_true_1d, y_pred_1d))"
      ],
      "execution_count": 1774,
      "outputs": []
    },
    {
      "cell_type": "code",
      "metadata": {
        "id": "FxFk7Gg3hAa8",
        "colab": {
          "base_uri": "https://localhost:8080/"
        },
        "outputId": "caf8e555-fb20-4c18-de07-8aa88f7682f7"
      },
      "source": [
        "# find the optimal threshold\n",
        "opt = threshold[score.index(max(score))]\n",
        "print(opt)  "
      ],
      "execution_count": 1775,
      "outputs": [
        {
          "output_type": "stream",
          "name": "stdout",
          "text": [
            "0.48\n"
          ]
        }
      ]
    },
    {
      "cell_type": "code",
      "metadata": {
        "id": "_E8xaA0BhAXy"
      },
      "source": [
        "#predictions for optimal threshold\n",
        "y_pred = classify(y_pred_prob, opt)"
      ],
      "execution_count": 1776,
      "outputs": []
    },
    {
      "cell_type": "code",
      "metadata": {
        "id": "tyr-2stWhAVB",
        "colab": {
          "base_uri": "https://localhost:8080/"
        },
        "outputId": "31365165-4233-4b53-9d40-ddc57c64c8d9"
      },
      "source": [
        "#converting to 1D\n",
        "y_pred_1d = y_pred.ravel()\n",
        "\n",
        "#Classification report\n",
        "print(metrics.classification_report(y_true_1d, y_pred_1d))"
      ],
      "execution_count": 1777,
      "outputs": [
        {
          "output_type": "stream",
          "name": "stdout",
          "text": [
            "              precision    recall  f1-score   support\n",
            "\n",
            "         0.0       0.99      0.99      0.99      8322\n",
            "         1.0       0.81      0.75      0.78       438\n",
            "\n",
            "    accuracy                           0.98      8760\n",
            "   macro avg       0.90      0.87      0.88      8760\n",
            "weighted avg       0.98      0.98      0.98      8760\n",
            "\n"
          ]
        }
      ]
    },
    {
      "cell_type": "code",
      "metadata": {
        "id": "FHxsCTdNhAR2"
      },
      "source": [
        "y_pred_label = mlb.inverse_transform(np.array(y_pred))"
      ],
      "execution_count": 1778,
      "outputs": []
    },
    {
      "cell_type": "code",
      "metadata": {
        "id": "0hAUPQFNhAP-"
      },
      "source": [
        "df = pd.DataFrame({'utterances':utterances,'actual':y_true_label,'predictions':y_pred_label})"
      ],
      "execution_count": 1779,
      "outputs": []
    },
    {
      "cell_type": "code",
      "metadata": {
        "id": "Fd_7LeiDhAM6",
        "colab": {
          "base_uri": "https://localhost:8080/",
          "height": 204
        },
        "outputId": "cd0b8821-80f6-4bdb-d1c2-67221da028f0"
      },
      "source": [
        "df.head()"
      ],
      "execution_count": 1780,
      "outputs": [
        {
          "output_type": "execute_result",
          "data": {
            "text/html": [
              "<div>\n",
              "<style scoped>\n",
              "    .dataframe tbody tr th:only-of-type {\n",
              "        vertical-align: middle;\n",
              "    }\n",
              "\n",
              "    .dataframe tbody tr th {\n",
              "        vertical-align: top;\n",
              "    }\n",
              "\n",
              "    .dataframe thead th {\n",
              "        text-align: right;\n",
              "    }\n",
              "</style>\n",
              "<table border=\"1\" class=\"dataframe\">\n",
              "  <thead>\n",
              "    <tr style=\"text-align: right;\">\n",
              "      <th></th>\n",
              "      <th>utterances</th>\n",
              "      <th>actual</th>\n",
              "      <th>predictions</th>\n",
              "    </tr>\n",
              "  </thead>\n",
              "  <tbody>\n",
              "    <tr>\n",
              "      <th>0</th>\n",
              "      <td>played oranges</td>\n",
              "      <td>(movie.starring.actor,)</td>\n",
              "      <td>()</td>\n",
              "    </tr>\n",
              "    <tr>\n",
              "      <th>1</th>\n",
              "      <td>display films arts</td>\n",
              "      <td>(movie.production_companies,)</td>\n",
              "      <td>()</td>\n",
              "    </tr>\n",
              "    <tr>\n",
              "      <th>2</th>\n",
              "      <td>russell crowe movies</td>\n",
              "      <td>(movie.starring.actor,)</td>\n",
              "      <td>()</td>\n",
              "    </tr>\n",
              "    <tr>\n",
              "      <th>3</th>\n",
              "      <td>director avatar</td>\n",
              "      <td>(movie.directed_by,)</td>\n",
              "      <td>(movie.directed_by,)</td>\n",
              "    </tr>\n",
              "    <tr>\n",
              "      <th>4</th>\n",
              "      <td>show r rated movies</td>\n",
              "      <td>(movie.rating,)</td>\n",
              "      <td>(movie.rating,)</td>\n",
              "    </tr>\n",
              "  </tbody>\n",
              "</table>\n",
              "</div>"
            ],
            "text/plain": [
              "             utterances                         actual           predictions\n",
              "0        played oranges        (movie.starring.actor,)                    ()\n",
              "1    display films arts  (movie.production_companies,)                    ()\n",
              "2  russell crowe movies        (movie.starring.actor,)                    ()\n",
              "3       director avatar           (movie.directed_by,)  (movie.directed_by,)\n",
              "4   show r rated movies                (movie.rating,)       (movie.rating,)"
            ]
          },
          "metadata": {},
          "execution_count": 1780
        }
      ]
    },
    {
      "cell_type": "code",
      "metadata": {
        "id": "x4kI46Z4hAJ8",
        "colab": {
          "base_uri": "https://localhost:8080/"
        },
        "outputId": "c492b418-5ca3-4385-c405-92fa5d4c9f36"
      },
      "source": [
        "import csv\n",
        "output = []\n",
        "outputDict = {}\n",
        "pd_input = pd.read_csv('test_data.csv')\n",
        "for i in pd_input['utterances']:\n",
        "  tags = predict_tags(i)\n",
        "  newTags = ''.join(tags)\n",
        "  output.append(newTags)\n",
        "\n",
        "csv_file =  open(\"outputFileLSTM.csv\", 'w')\n",
        "csv_writer = csv.writer(csv_file, delimiter=\",\")\n",
        "for i in range(len(output)) :\n",
        "  print(output[i])\n",
        "  print(len(output[i]))\n",
        "  csv_writer.writerow([i, output[i]])\n"
      ],
      "execution_count": 1781,
      "outputs": [
        {
          "output_type": "stream",
          "name": "stdout",
          "text": [
            "none\n",
            "4\n",
            "none\n",
            "4\n",
            "movie.starring.actor\n",
            "20\n",
            "none\n",
            "4\n",
            "none\n",
            "4\n",
            "movie.starring.actor\n",
            "20\n",
            "\n",
            "0\n",
            "movie.starring.actor\n",
            "20\n",
            "movie.starring.actor\n",
            "20\n",
            "none\n",
            "4\n",
            "none\n",
            "4\n",
            "\n",
            "0\n",
            "movie.starring.actor\n",
            "20\n",
            "movie.starring.actor\n",
            "20\n",
            "movie.starring.actor\n",
            "20\n",
            "movie.starring.actor\n",
            "20\n",
            "movie.starring.actor\n",
            "20\n",
            "movie.starring.actor\n",
            "20\n",
            "movie.starring.actor\n",
            "20\n",
            "none\n",
            "4\n",
            "movie.starring.actor\n",
            "20\n",
            "movie.starring.actor\n",
            "20\n",
            "movie.starring.actor\n",
            "20\n",
            "none\n",
            "4\n",
            "movie.genre\n",
            "11\n",
            "movie.country_movie.language\n",
            "28\n",
            "none\n",
            "4\n",
            "none\n",
            "4\n",
            "\n",
            "0\n",
            "movie.starring.actor\n",
            "20\n",
            "movie.starring.actor\n",
            "20\n",
            "movie.starring.actor\n",
            "20\n",
            "movie.starring.actor\n",
            "20\n",
            "none\n",
            "4\n",
            "movie.starring.actor\n",
            "20\n",
            "movie.estimated_budget\n",
            "22\n",
            "movie.estimated_budget\n",
            "22\n",
            "movie.estimated_budget\n",
            "22\n",
            "movie.estimated_budget\n",
            "22\n",
            "movie.estimated_budget\n",
            "22\n",
            "movie.estimated_budget\n",
            "22\n",
            "movie.estimated_budget\n",
            "22\n",
            "movie.estimated_budget\n",
            "22\n",
            "movie.gross_revenue\n",
            "19\n",
            "movie.estimated_budget\n",
            "22\n",
            "movie.directed_by\n",
            "17\n",
            "movie.estimated_budget\n",
            "22\n",
            "movie.estimated_budget\n",
            "22\n",
            "movie.estimated_budget\n",
            "22\n",
            "movie.estimated_budget\n",
            "22\n",
            "movie.estimated_budget\n",
            "22\n",
            "movie.estimated_budget\n",
            "22\n",
            "movie.estimated_budget\n",
            "22\n",
            "movie.estimated_budget\n",
            "22\n",
            "movie.estimated_budget\n",
            "22\n",
            "movie.estimated_budget\n",
            "22\n",
            "movie.starring.actor\n",
            "20\n",
            "\n",
            "0\n",
            "movie.rating\n",
            "12\n",
            "movie.country_movie.language\n",
            "28\n",
            "movie.starring.actor\n",
            "20\n",
            "movie.directed_by\n",
            "17\n",
            "movie.directed_by\n",
            "17\n",
            "movie.production_companies\n",
            "26\n",
            "movie.country\n",
            "13\n",
            "movie.country\n",
            "13\n",
            "movie.country\n",
            "13\n",
            "movie.country\n",
            "13\n",
            "movie.country\n",
            "13\n",
            "movie.country\n",
            "13\n",
            "\n",
            "0\n",
            "none\n",
            "4\n",
            "movie.initial_release_date\n",
            "26\n",
            "movie.initial_release_date\n",
            "26\n",
            "none\n",
            "4\n",
            "movie.initial_release_date\n",
            "26\n",
            "movie.initial_release_date\n",
            "26\n",
            "movie.initial_release_date\n",
            "26\n",
            "movie.country\n",
            "13\n",
            "movie.initial_release_date\n",
            "26\n",
            "movie.initial_release_date_movie.starring.actor\n",
            "47\n",
            "movie.initial_release_date\n",
            "26\n",
            "movie.initial_release_date\n",
            "26\n",
            "movie.initial_release_date\n",
            "26\n",
            "movie.initial_release_date\n",
            "26\n",
            "movie.initial_release_date\n",
            "26\n",
            "movie.initial_release_date\n",
            "26\n",
            "movie.initial_release_date\n",
            "26\n",
            "\n",
            "0\n",
            "movie.initial_release_date\n",
            "26\n",
            "movie.initial_release_date\n",
            "26\n",
            "movie.initial_release_date\n",
            "26\n",
            "movie.initial_release_date\n",
            "26\n",
            "movie.initial_release_date\n",
            "26\n",
            "movie.initial_release_date\n",
            "26\n",
            "movie.initial_release_date\n",
            "26\n",
            "movie.initial_release_date\n",
            "26\n",
            "movie.initial_release_date\n",
            "26\n",
            "movie.initial_release_date\n",
            "26\n",
            "movie.initial_release_date\n",
            "26\n",
            "movie.initial_release_date\n",
            "26\n",
            "movie.initial_release_date\n",
            "26\n",
            "\n",
            "0\n",
            "movie.initial_release_date\n",
            "26\n",
            "movie.initial_release_date\n",
            "26\n",
            "movie.initial_release_date\n",
            "26\n",
            "movie.initial_release_date\n",
            "26\n",
            "movie.initial_release_date\n",
            "26\n",
            "movie.initial_release_date\n",
            "26\n",
            "none\n",
            "4\n",
            "\n",
            "0\n",
            "\n",
            "0\n",
            "movie.initial_release_date\n",
            "26\n",
            "movie.directed_by\n",
            "17\n",
            "movie.directed_by\n",
            "17\n",
            "movie.directed_by\n",
            "17\n",
            "movie.directed_by\n",
            "17\n",
            "movie.directed_by\n",
            "17\n",
            "movie.directed_by\n",
            "17\n",
            "movie.directed_by\n",
            "17\n",
            "movie.directed_by\n",
            "17\n",
            "movie.directed_by\n",
            "17\n",
            "movie.rating\n",
            "12\n",
            "movie.directed_by\n",
            "17\n",
            "movie.directed_by\n",
            "17\n",
            "movie.directed_by\n",
            "17\n",
            "movie.directed_by\n",
            "17\n",
            "movie.directed_by\n",
            "17\n",
            "movie.directed_by\n",
            "17\n",
            "movie.directed_by\n",
            "17\n",
            "movie.directed_by\n",
            "17\n",
            "movie.directed_by\n",
            "17\n",
            "movie.directed_by\n",
            "17\n",
            "movie.directed_by\n",
            "17\n",
            "movie.directed_by\n",
            "17\n",
            "movie.directed_by\n",
            "17\n",
            "movie.directed_by\n",
            "17\n",
            "movie.directed_by\n",
            "17\n",
            "movie.directed_by\n",
            "17\n",
            "movie.directed_by\n",
            "17\n",
            "none\n",
            "4\n",
            "movie.directed_by\n",
            "17\n",
            "movie.directed_by\n",
            "17\n",
            "movie.directed_by\n",
            "17\n",
            "movie.directed_by\n",
            "17\n",
            "movie.directed_by\n",
            "17\n",
            "movie.directed_by\n",
            "17\n",
            "movie.directed_by\n",
            "17\n",
            "movie.directed_by\n",
            "17\n",
            "movie.directed_by\n",
            "17\n",
            "movie.directed_by\n",
            "17\n",
            "movie.directed_by\n",
            "17\n",
            "movie.directed_by\n",
            "17\n",
            "movie.directed_by\n",
            "17\n",
            "movie.directed_by\n",
            "17\n",
            "movie.directed_by\n",
            "17\n",
            "movie.directed_by\n",
            "17\n",
            "movie.directed_by\n",
            "17\n",
            "movie.genre\n",
            "11\n",
            "movie.genre\n",
            "11\n",
            "movie.genre\n",
            "11\n",
            "movie.directed_by\n",
            "17\n",
            "movie.genre\n",
            "11\n",
            "movie.genre\n",
            "11\n",
            "movie.genre\n",
            "11\n",
            "movie.genre\n",
            "11\n",
            "\n",
            "0\n",
            "movie.genre\n",
            "11\n",
            "movie.genre\n",
            "11\n",
            "movie.genre\n",
            "11\n",
            "movie.genre\n",
            "11\n",
            "movie.genre\n",
            "11\n",
            "movie.genre\n",
            "11\n",
            "movie.genre\n",
            "11\n",
            "movie.genre\n",
            "11\n",
            "movie.genre\n",
            "11\n",
            "movie.genre\n",
            "11\n",
            "movie.language\n",
            "14\n",
            "movie.language\n",
            "14\n",
            "movie.language\n",
            "14\n",
            "movie.language\n",
            "14\n",
            "movie.language\n",
            "14\n",
            "movie.language\n",
            "14\n",
            "movie.language\n",
            "14\n",
            "movie.language\n",
            "14\n",
            "\n",
            "0\n",
            "none\n",
            "4\n",
            "movie.country_movie.language\n",
            "28\n",
            "\n",
            "0\n",
            "movie.produced_by\n",
            "17\n",
            "none\n",
            "4\n",
            "none\n",
            "4\n",
            "movie.country_movie.languagenone\n",
            "32\n",
            "movie.rating\n",
            "12\n",
            "movie.countrymovie.initial_release_date\n",
            "39\n",
            "movie.starring.actor\n",
            "20\n",
            "\n",
            "0\n",
            "movie.subjects\n",
            "14\n",
            "movie.subjects\n",
            "14\n",
            "movie.starring.actor\n",
            "20\n",
            "movie.starring.actor\n",
            "20\n",
            "movie.starring.actor\n",
            "20\n",
            "movie.country_movie.language\n",
            "28\n",
            "movie.starring.actor\n",
            "20\n",
            "none\n",
            "4\n",
            "\n",
            "0\n",
            "\n",
            "0\n",
            "\n",
            "0\n",
            "movie.produced_by\n",
            "17\n",
            "movie.starring.actor\n",
            "20\n",
            "movie.initial_release_date\n",
            "26\n",
            "none\n",
            "4\n",
            "none\n",
            "4\n",
            "none\n",
            "4\n",
            "none\n",
            "4\n",
            "none\n",
            "4\n",
            "movie.directed_by\n",
            "17\n",
            "none\n",
            "4\n",
            "movie.starring.actor\n",
            "20\n",
            "movie.directed_by\n",
            "17\n",
            "movie.produced_by\n",
            "17\n",
            "movie.starring.actor\n",
            "20\n",
            "movie.starring.actor\n",
            "20\n",
            "\n",
            "0\n",
            "movie.directed_by\n",
            "17\n",
            "movie.directed_by\n",
            "17\n",
            "movie.initial_release_date\n",
            "26\n",
            "movie.directed_by\n",
            "17\n",
            "movie.directed_by\n",
            "17\n",
            "movie.rating\n",
            "12\n",
            "\n",
            "0\n",
            "\n",
            "0\n",
            "movie.country\n",
            "13\n",
            "movie.country\n",
            "13\n",
            "movie.language\n",
            "14\n",
            "\n",
            "0\n",
            "movie.genre\n",
            "11\n",
            "movie.genre\n",
            "11\n",
            "movie.genre\n",
            "11\n",
            "movie.genre\n",
            "11\n",
            "movie.country_movie.languagemovie.genre\n",
            "39\n",
            "movie.starring.actor\n",
            "20\n",
            "movie.starring.actor\n",
            "20\n",
            "movie.starring.actor\n",
            "20\n",
            "\n",
            "0\n",
            "movie.country\n",
            "13\n",
            "\n",
            "0\n",
            "movie.country\n",
            "13\n",
            "movie.country\n",
            "13\n",
            "movie.country_movie.language\n",
            "28\n",
            "\n",
            "0\n",
            "movie.country_movie.language\n",
            "28\n",
            "movie.country\n",
            "13\n",
            "movie.country\n",
            "13\n",
            "movie.country_movie.languagenone\n",
            "32\n",
            "movie.country_movie.language\n",
            "28\n",
            "movie.country_movie.language\n",
            "28\n",
            "movie.country_movie.language\n",
            "28\n",
            "none\n",
            "4\n",
            "movie.country_movie.languagemovie.genre\n",
            "39\n",
            "movie.country_movie.languagenone\n",
            "32\n",
            "\n",
            "0\n",
            "movie.directed_by\n",
            "17\n",
            "movie.country\n",
            "13\n",
            "movie.country\n",
            "13\n",
            "none\n",
            "4\n",
            "movie.directed_by\n",
            "17\n",
            "\n",
            "0\n",
            "\n",
            "0\n",
            "\n",
            "0\n",
            "movie.rating\n",
            "12\n",
            "movie.language\n",
            "14\n",
            "none\n",
            "4\n",
            "none\n",
            "4\n",
            "none\n",
            "4\n",
            "\n",
            "0\n",
            "movie.starring.actor\n",
            "20\n",
            "movie.starring.actor\n",
            "20\n",
            "movie.produced_by\n",
            "17\n",
            "\n",
            "0\n",
            "\n",
            "0\n",
            "none\n",
            "4\n",
            "none\n",
            "4\n",
            "none\n",
            "4\n",
            "none\n",
            "4\n",
            "movie.country\n",
            "13\n",
            "movie.country\n",
            "13\n",
            "movie.country_movie.language\n",
            "28\n",
            "movie.country_movie.language\n",
            "28\n",
            "movie.country_movie.language\n",
            "28\n",
            "movie.country_movie.language\n",
            "28\n",
            "movie.country_movie.language\n",
            "28\n",
            "movie.language\n",
            "14\n",
            "movie.country_movie.languagemovie.language\n",
            "42\n",
            "\n",
            "0\n",
            "\n",
            "0\n",
            "\n",
            "0\n",
            "movie.directed_by\n",
            "17\n",
            "\n",
            "0\n",
            "\n",
            "0\n",
            "\n",
            "0\n",
            "movie.country_movie.language\n",
            "28\n",
            "movie.starring.actor\n",
            "20\n",
            "movie.production_companies\n",
            "26\n",
            "movie.production_companies\n",
            "26\n",
            "movie.production_companies\n",
            "26\n",
            "\n",
            "0\n",
            "movie.produced_by\n",
            "17\n",
            "none\n",
            "4\n",
            "\n",
            "0\n",
            "\n",
            "0\n",
            "\n",
            "0\n",
            "\n",
            "0\n",
            "movie.subjects\n",
            "14\n",
            "\n",
            "0\n",
            "movie.country_movie.language\n",
            "28\n",
            "movie.country_movie.language\n",
            "28\n",
            "movie.rating\n",
            "12\n",
            "movie.rating\n",
            "12\n",
            "movie.rating\n",
            "12\n",
            "movie.rating\n",
            "12\n",
            "movie.rating\n",
            "12\n",
            "movie.rating\n",
            "12\n",
            "movie.rating\n",
            "12\n",
            "movie.rating\n",
            "12\n",
            "movie.rating\n",
            "12\n",
            "movie.rating\n",
            "12\n",
            "movie.rating\n",
            "12\n",
            "movie.rating\n",
            "12\n",
            "movie.rating\n",
            "12\n",
            "movie.rating\n",
            "12\n",
            "movie.rating\n",
            "12\n",
            "movie.directed_by\n",
            "17\n",
            "movie.produced_by\n",
            "17\n",
            "movie.directed_by\n",
            "17\n",
            "movie.country\n",
            "13\n",
            "movie.country\n",
            "13\n",
            "movie.country\n",
            "13\n",
            "\n",
            "0\n",
            "none\n",
            "4\n",
            "movie.produced_by\n",
            "17\n",
            "movie.directed_by_movie.starring.actor\n",
            "38\n",
            "movie.directed_by\n",
            "17\n",
            "movie.directed_by\n",
            "17\n",
            "movie.directed_by\n",
            "17\n",
            "movie.directed_by\n",
            "17\n",
            "movie.directed_by\n",
            "17\n",
            "\n",
            "0\n",
            "movie.produced_by\n",
            "17\n",
            "movie.produced_by\n",
            "17\n",
            "movie.country_movie.language\n",
            "28\n",
            "\n",
            "0\n",
            "movie.directed_by\n",
            "17\n",
            "movie.directed_by\n",
            "17\n",
            "movie.directed_by\n",
            "17\n",
            "movie.directed_by\n",
            "17\n",
            "none\n",
            "4\n",
            "movie.directed_by\n",
            "17\n",
            "movie.directed_by\n",
            "17\n",
            "movie.directed_by\n",
            "17\n",
            "movie.directed_by\n",
            "17\n",
            "movie.directed_by\n",
            "17\n",
            "none\n",
            "4\n",
            "\n",
            "0\n",
            "movie.starring.actor\n",
            "20\n",
            "movie.language\n",
            "14\n",
            "movie.country\n",
            "13\n",
            "movie.country\n",
            "13\n",
            "movie.country\n",
            "13\n",
            "movie.language\n",
            "14\n",
            "movie.country_movie.language\n",
            "28\n",
            "movie.country\n",
            "13\n",
            "movie.country\n",
            "13\n",
            "\n",
            "0\n",
            "movie.country\n",
            "13\n",
            "movie.starring.actor\n",
            "20\n",
            "movie.directed_by\n",
            "17\n",
            "movie.country_movie.languagemovie.starring.actor\n",
            "48\n",
            "movie.starring.actor\n",
            "20\n",
            "movie.starring.actor\n",
            "20\n",
            "movie.directed_by\n",
            "17\n",
            "movie.produced_by\n",
            "17\n",
            "movie.produced_by\n",
            "17\n",
            "movie.produced_by\n",
            "17\n",
            "movie.starring.actor\n",
            "20\n",
            "movie.produced_by\n",
            "17\n",
            "movie.directed_by\n",
            "17\n",
            "movie.directed_by\n",
            "17\n",
            "movie.directed_by\n",
            "17\n",
            "movie.produced_by\n",
            "17\n",
            "movie.produced_by\n",
            "17\n",
            "movie.production_companies\n",
            "26\n",
            "movie.production_companies\n",
            "26\n",
            "movie.production_companies\n",
            "26\n",
            "\n",
            "0\n",
            "none\n",
            "4\n",
            "none\n",
            "4\n",
            "none\n",
            "4\n",
            "none\n",
            "4\n",
            "none\n",
            "4\n",
            "none\n",
            "4\n",
            "none\n",
            "4\n",
            "movie.estimated_budgetnone\n",
            "26\n",
            "movie.starring.actor\n",
            "20\n",
            "movie.starring.actor\n",
            "20\n",
            "movie.starring.actor\n",
            "20\n",
            "movie.starring.actor\n",
            "20\n",
            "movie.production_companies\n",
            "26\n",
            "movie.production_companies\n",
            "26\n",
            "movie.production_companies\n",
            "26\n",
            "none\n",
            "4\n",
            "none\n",
            "4\n",
            "movie.directed_bynone\n",
            "21\n",
            "movie.country\n",
            "13\n",
            "movie.country_movie.languagemovie.genre\n",
            "39\n",
            "none\n",
            "4\n",
            "movie.country_movie.language\n",
            "28\n",
            "movie.starring.actor\n",
            "20\n",
            "movie.starring.actor\n",
            "20\n",
            "movie.genre\n",
            "11\n",
            "movie.directed_by\n",
            "17\n",
            "movie.starring.actor\n",
            "20\n",
            "movie.directed_by\n",
            "17\n",
            "movie.directed_by\n",
            "17\n",
            "movie.directed_by\n",
            "17\n",
            "movie.directed_by\n",
            "17\n",
            "movie.directed_by\n",
            "17\n",
            "movie.production_companies\n",
            "26\n",
            "movie.starring.actor\n",
            "20\n",
            "movie.starring.actor\n",
            "20\n",
            "movie.starring.actor\n",
            "20\n",
            "movie.rating\n",
            "12\n",
            "movie.rating\n",
            "12\n",
            "movie.rating\n",
            "12\n",
            "movie.rating\n",
            "12\n",
            "movie.rating\n",
            "12\n",
            "movie.rating\n",
            "12\n",
            "movie.rating\n",
            "12\n",
            "movie.rating\n",
            "12\n",
            "movie.rating\n",
            "12\n",
            "movie.rating\n",
            "12\n",
            "movie.rating\n",
            "12\n",
            "\n",
            "0\n",
            "movie.country_movie.language\n",
            "28\n",
            "movie.country\n",
            "13\n",
            "\n",
            "0\n",
            "movie.subjects\n",
            "14\n",
            "movie.subjects\n",
            "14\n",
            "movie.subjects\n",
            "14\n",
            "none\n",
            "4\n",
            "none\n",
            "4\n",
            "none\n",
            "4\n",
            "movie.directed_by\n",
            "17\n",
            "movie.country_movie.language\n",
            "28\n",
            "\n",
            "0\n",
            "movie.genre\n",
            "11\n",
            "movie.country_movie.languagemovie.genre\n",
            "39\n",
            "movie.genre\n",
            "11\n",
            "movie.country_movie.language\n",
            "28\n",
            "movie.directed_by\n",
            "17\n",
            "movie.produced_by\n",
            "17\n",
            "movie.produced_by\n",
            "17\n",
            "movie.produced_by\n",
            "17\n",
            "movie.produced_by\n",
            "17\n",
            "movie.produced_by\n",
            "17\n",
            "movie.produced_by\n",
            "17\n",
            "movie.starring.actor\n",
            "20\n",
            "movie.directed_by\n",
            "17\n",
            "movie.country\n",
            "13\n",
            "none\n",
            "4\n",
            "none\n",
            "4\n",
            "none\n",
            "4\n",
            "none\n",
            "4\n",
            "none\n",
            "4\n",
            "none\n",
            "4\n",
            "none\n",
            "4\n",
            "none\n",
            "4\n",
            "none\n",
            "4\n",
            "none\n",
            "4\n",
            "none\n",
            "4\n",
            "none\n",
            "4\n",
            "none\n",
            "4\n",
            "none\n",
            "4\n",
            "\n",
            "0\n",
            "none\n",
            "4\n",
            "movie.starring.actor\n",
            "20\n",
            "\n",
            "0\n",
            "movie.directed_by\n",
            "17\n",
            "movie.produced_by\n",
            "17\n",
            "movie.subjects\n",
            "14\n",
            "none\n",
            "4\n",
            "movie.directed_by\n",
            "17\n",
            "movie.directed_by\n",
            "17\n",
            "movie.production_companies\n",
            "26\n",
            "movie.subjects\n",
            "14\n",
            "movie.initial_release_date\n",
            "26\n",
            "none\n",
            "4\n",
            "none\n",
            "4\n",
            "movie.initial_release_date\n",
            "26\n",
            "none\n",
            "4\n",
            "none\n",
            "4\n",
            "\n",
            "0\n",
            "movie.country_movie.language\n",
            "28\n",
            "movie.directed_by\n",
            "17\n",
            "movie.starring.actor\n",
            "20\n",
            "movie.starring.actor\n",
            "20\n",
            "movie.starring.actor\n",
            "20\n",
            "movie.starring.actor\n",
            "20\n",
            "movie.country_movie.language\n",
            "28\n",
            "movie.genre\n",
            "11\n",
            "movie.directed_by\n",
            "17\n",
            "none\n",
            "4\n",
            "none\n",
            "4\n",
            "none\n",
            "4\n",
            "none\n",
            "4\n",
            "movie.rating\n",
            "12\n",
            "movie.rating\n",
            "12\n",
            "movie.rating\n",
            "12\n",
            "movie.rating\n",
            "12\n",
            "movie.rating\n",
            "12\n",
            "movie.rating\n",
            "12\n",
            "movie.rating\n",
            "12\n",
            "movie.rating\n",
            "12\n",
            "movie.directed_by\n",
            "17\n",
            "movie.directed_bymovie.starring.actor\n",
            "37\n",
            "movie.country_movie.language\n",
            "28\n",
            "movie.directed_by\n",
            "17\n",
            "\n",
            "0\n",
            "movie.rating\n",
            "12\n",
            "movie.produced_by\n",
            "17\n",
            "none\n",
            "4\n",
            "movie.directed_by\n",
            "17\n",
            "\n",
            "0\n",
            "movie.starring.actor\n",
            "20\n",
            "movie.country_movie.language\n",
            "28\n",
            "none\n",
            "4\n",
            "\n",
            "0\n",
            "none\n",
            "4\n",
            "none\n",
            "4\n",
            "none\n",
            "4\n",
            "none\n",
            "4\n",
            "none\n",
            "4\n",
            "none\n",
            "4\n",
            "none\n",
            "4\n",
            "none\n",
            "4\n",
            "none\n",
            "4\n",
            "none\n",
            "4\n",
            "none\n",
            "4\n",
            "none\n",
            "4\n",
            "\n",
            "0\n",
            "\n",
            "0\n",
            "none\n",
            "4\n",
            "none\n",
            "4\n",
            "none\n",
            "4\n",
            "none\n",
            "4\n",
            "none\n",
            "4\n",
            "none\n",
            "4\n",
            "none\n",
            "4\n",
            "movie.directed_bynone\n",
            "21\n",
            "none\n",
            "4\n",
            "movie.directed_bynone\n",
            "21\n",
            "movie.produced_by\n",
            "17\n",
            "movie.produced_by\n",
            "17\n",
            "\n",
            "0\n",
            "movie.production_companies\n",
            "26\n",
            "movie.production_companies\n",
            "26\n",
            "movie.production_companies\n",
            "26\n",
            "\n",
            "0\n",
            "movie.produced_by\n",
            "17\n",
            "movie.production_companies\n",
            "26\n",
            "movie.produced_by\n",
            "17\n",
            "movie.produced_by\n",
            "17\n",
            "movie.produced_by\n",
            "17\n",
            "movie.produced_by\n",
            "17\n",
            "movie.produced_by\n",
            "17\n",
            "movie.produced_by\n",
            "17\n",
            "movie.produced_by\n",
            "17\n",
            "movie.produced_by\n",
            "17\n",
            "movie.produced_by\n",
            "17\n",
            "movie.produced_by\n",
            "17\n",
            "movie.produced_by\n",
            "17\n",
            "movie.produced_by\n",
            "17\n",
            "movie.produced_by\n",
            "17\n",
            "movie.produced_by\n",
            "17\n",
            "movie.produced_by\n",
            "17\n",
            "movie.produced_by\n",
            "17\n",
            "movie.produced_by\n",
            "17\n",
            "movie.produced_by\n",
            "17\n",
            "movie.produced_by\n",
            "17\n",
            "movie.production_companies\n",
            "26\n",
            "movie.production_companies\n",
            "26\n",
            "movie.produced_by\n",
            "17\n",
            "movie.produced_by\n",
            "17\n",
            "\n",
            "0\n",
            "movie.production_companies\n",
            "26\n",
            "movie.produced_by\n",
            "17\n",
            "movie.produced_by\n",
            "17\n",
            "movie.produced_by\n",
            "17\n",
            "movie.produced_by\n",
            "17\n",
            "movie.produced_by\n",
            "17\n",
            "movie.rating\n",
            "12\n",
            "movie.gross_revenue\n",
            "19\n",
            "movie.genre\n",
            "11\n",
            "\n",
            "0\n",
            "\n",
            "0\n",
            "movie.gross_revenue\n",
            "19\n",
            "movie.estimated_budget\n",
            "22\n",
            "\n",
            "0\n",
            "\n",
            "0\n",
            "movie.gross_revenue\n",
            "19\n",
            "\n",
            "0\n",
            "movie.starring.actor\n",
            "20\n",
            "movie.starring.actor_movie.starring.character\n",
            "45\n",
            "movie.starring.actor_movie.starring.character\n",
            "45\n",
            "movie.starring.actor\n",
            "20\n",
            "movie.starring.actor\n",
            "20\n",
            "movie.starring.actor\n",
            "20\n",
            "movie.starring.actor\n",
            "20\n",
            "\n",
            "0\n",
            "movie.starring.actor\n",
            "20\n",
            "movie.starring.actor_movie.starring.character\n",
            "45\n",
            "\n",
            "0\n",
            "movie.starring.actor\n",
            "20\n",
            "none\n",
            "4\n",
            "\n",
            "0\n",
            "movie.starring.actor_movie.starring.character\n",
            "45\n",
            "\n",
            "0\n",
            "\n",
            "0\n",
            "actor.gender_movie.starring.actor\n",
            "33\n",
            "movie.starring.actor\n",
            "20\n",
            "\n",
            "0\n",
            "none\n",
            "4\n",
            "actor.gender_movie.starring.actor\n",
            "33\n",
            "movie.starring.actor\n",
            "20\n",
            "\n",
            "0\n",
            "movie.estimated_budget\n",
            "22\n",
            "movie.estimated_budget\n",
            "22\n",
            "movie.estimated_budget\n",
            "22\n",
            "movie.estimated_budget\n",
            "22\n",
            "movie.estimated_budget\n",
            "22\n",
            "movie.starring.actor\n",
            "20\n",
            "movie.estimated_budget\n",
            "22\n",
            "movie.estimated_budget\n",
            "22\n",
            "movie.gross_revenue\n",
            "19\n",
            "movie.estimated_budget\n",
            "22\n",
            "movie.estimated_budget\n",
            "22\n",
            "movie.estimated_budget\n",
            "22\n",
            "movie.estimated_budgetnone\n",
            "26\n",
            "movie.estimated_budget\n",
            "22\n",
            "movie.estimated_budget\n",
            "22\n",
            "movie.estimated_budget\n",
            "22\n",
            "none\n",
            "4\n",
            "movie.country\n",
            "13\n",
            "movie.country\n",
            "13\n",
            "movie.country\n",
            "13\n",
            "movie.country\n",
            "13\n",
            "movie.country\n",
            "13\n",
            "movie.country\n",
            "13\n",
            "movie.initial_release_date\n",
            "26\n",
            "movie.initial_release_date\n",
            "26\n",
            "movie.country_movie.languagenone\n",
            "32\n",
            "movie.initial_release_date\n",
            "26\n",
            "movie.initial_release_date\n",
            "26\n",
            "movie.initial_release_date\n",
            "26\n",
            "movie.initial_release_date\n",
            "26\n",
            "movie.production_companies\n",
            "26\n",
            "movie.initial_release_date\n",
            "26\n",
            "movie.initial_release_date\n",
            "26\n",
            "movie.initial_release_date\n",
            "26\n",
            "movie.initial_release_date\n",
            "26\n",
            "movie.initial_release_date\n",
            "26\n",
            "movie.initial_release_date\n",
            "26\n",
            "movie.countrymovie.initial_release_date\n",
            "39\n",
            "movie.directed_by\n",
            "17\n",
            "movie.directed_by\n",
            "17\n",
            "movie.directed_by\n",
            "17\n",
            "none\n",
            "4\n",
            "movie.directed_by\n",
            "17\n",
            "movie.language\n",
            "14\n",
            "movie.language\n",
            "14\n",
            "movie.language\n",
            "14\n",
            "movie.language\n",
            "14\n",
            "movie.language\n",
            "14\n",
            "movie.rating\n",
            "12\n",
            "\n",
            "0\n",
            "\n",
            "0\n",
            "movie.produced_by\n",
            "17\n",
            "movie.genrenone\n",
            "15\n",
            "none\n",
            "4\n",
            "none\n",
            "4\n",
            "movie.genre\n",
            "11\n",
            "movie.genrenone\n",
            "15\n",
            "none\n",
            "4\n",
            "movie.directed_by\n",
            "17\n",
            "movie.directed_by\n",
            "17\n",
            "movie.initial_release_date\n",
            "26\n",
            "movie.country_movie.language\n",
            "28\n",
            "movie.starring.actor\n",
            "20\n",
            "movie.country\n",
            "13\n",
            "movie.language\n",
            "14\n",
            "movie.starring.actor\n",
            "20\n",
            "movie.subjects\n",
            "14\n",
            "movie.starring.actor\n",
            "20\n",
            "movie.starring.actor\n",
            "20\n",
            "movie.directed_by\n",
            "17\n",
            "movie.directed_by\n",
            "17\n",
            "movie.starring.actor\n",
            "20\n",
            "movie.directed_by\n",
            "17\n",
            "movie.starring.actor\n",
            "20\n",
            "movie.directed_by\n",
            "17\n",
            "movie.directed_by\n",
            "17\n",
            "movie.directed_by\n",
            "17\n",
            "movie.directed_by\n",
            "17\n",
            "movie.directed_by\n",
            "17\n",
            "movie.starring.actor\n",
            "20\n",
            "\n",
            "0\n",
            "movie.rating\n",
            "12\n",
            "movie.country_movie.language\n",
            "28\n",
            "movie.directed_by\n",
            "17\n",
            "movie.initial_release_date\n",
            "26\n",
            "movie.countrymovie.initial_release_date\n",
            "39\n",
            "movie.starring.actor\n",
            "20\n",
            "movie.directed_by\n",
            "17\n",
            "movie.subjects\n",
            "14\n",
            "movie.language\n",
            "14\n",
            "movie.language\n",
            "14\n",
            "\n",
            "0\n",
            "\n",
            "0\n",
            "movie.language\n",
            "14\n",
            "movie.language\n",
            "14\n",
            "movie.country_movie.languagemovie.language\n",
            "42\n",
            "movie.language\n",
            "14\n",
            "movie.directed_bymovie.starring.actor\n",
            "37\n",
            "movie.language\n",
            "14\n",
            "movie.language\n",
            "14\n",
            "movie.subjects\n",
            "14\n",
            "\n",
            "0\n",
            "movie.language\n",
            "14\n",
            "movie.language\n",
            "14\n",
            "movie.language\n",
            "14\n",
            "movie.country_movie.languagemovie.language\n",
            "42\n",
            "movie.country_movie.language\n",
            "28\n",
            "\n",
            "0\n",
            "movie.produced_by\n",
            "17\n",
            "\n",
            "0\n",
            "movie.produced_by\n",
            "17\n",
            "\n",
            "0\n",
            "\n",
            "0\n",
            "movie.production_companies\n",
            "26\n",
            "movie.production_companies\n",
            "26\n",
            "movie.rating\n",
            "12\n",
            "movie.rating\n",
            "12\n",
            "movie.country_movie.languagemovie.subjects\n",
            "42\n",
            "movie.rating\n",
            "12\n",
            "movie.rating\n",
            "12\n",
            "movie.rating\n",
            "12\n",
            "movie.rating\n",
            "12\n",
            "\n",
            "0\n",
            "\n",
            "0\n",
            "movie.starring.actor\n",
            "20\n",
            "movie.starring.actor\n",
            "20\n",
            "movie.produced_by\n",
            "17\n",
            "movie.starring.actor\n",
            "20\n",
            "movie.starring.actor\n",
            "20\n",
            "movie.starring.actor\n",
            "20\n",
            "movie.starring.actor\n",
            "20\n",
            "\n",
            "0\n",
            "movie.country_movie.language\n",
            "28\n",
            "movie.starring.actor\n",
            "20\n",
            "movie.starring.actor\n",
            "20\n",
            "movie.country\n",
            "13\n",
            "\n",
            "0\n",
            "movie.subjects\n",
            "14\n",
            "\n",
            "0\n",
            "movie.country\n",
            "13\n",
            "\n",
            "0\n",
            "movie.starring.actor\n",
            "20\n",
            "\n",
            "0\n",
            "\n",
            "0\n",
            "movie.directed_by\n",
            "17\n",
            "movie.starring.actor\n",
            "20\n",
            "\n",
            "0\n",
            "movie.starring.actor\n",
            "20\n",
            "\n",
            "0\n",
            "\n",
            "0\n",
            "movie.country_movie.language\n",
            "28\n",
            "movie.subjects\n",
            "14\n",
            "movie.subjects\n",
            "14\n",
            "movie.starring.actor\n",
            "20\n",
            "movie.subjects\n",
            "14\n",
            "movie.subjects\n",
            "14\n",
            "movie.subjects\n",
            "14\n",
            "movie.subjects\n",
            "14\n",
            "movie.subjects\n",
            "14\n",
            "movie.directed_bymovie.subjects\n",
            "31\n",
            "movie.subjects\n",
            "14\n",
            "movie.subjects\n",
            "14\n",
            "movie.genrenone\n",
            "15\n",
            "movie.rating\n",
            "12\n",
            "movie.gross_revenue\n",
            "19\n",
            "movie.genre\n",
            "11\n",
            "none\n",
            "4\n",
            "\n",
            "0\n",
            "none\n",
            "4\n",
            "none\n",
            "4\n",
            "none\n",
            "4\n",
            "none\n",
            "4\n",
            "none\n",
            "4\n",
            "none\n",
            "4\n",
            "none\n",
            "4\n",
            "movie.initial_release_date\n",
            "26\n",
            "\n",
            "0\n",
            "none\n",
            "4\n",
            "none\n",
            "4\n",
            "\n",
            "0\n",
            "movie.initial_release_date\n",
            "26\n",
            "none\n",
            "4\n",
            "\n",
            "0\n",
            "\n",
            "0\n",
            "movie.starring.actor\n",
            "20\n",
            "movie.production_companies\n",
            "26\n",
            "none\n",
            "4\n",
            "none\n",
            "4\n",
            "none\n",
            "4\n",
            "movie.starring.actor\n",
            "20\n",
            "none\n",
            "4\n",
            "movie.produced_by\n",
            "17\n",
            "movie.production_companies\n",
            "26\n",
            "movie.produced_by\n",
            "17\n",
            "movie.produced_by\n",
            "17\n",
            "movie.produced_by\n",
            "17\n",
            "\n",
            "0\n",
            "movie.directed_by\n",
            "17\n",
            "\n",
            "0\n",
            "none\n",
            "4\n",
            "movie.starring.actor\n",
            "20\n",
            "\n",
            "0\n",
            "movie.rating\n",
            "12\n",
            "movie.directed_by\n",
            "17\n",
            "\n",
            "0\n",
            "\n",
            "0\n",
            "\n",
            "0\n",
            "movie.gross_revenue\n",
            "19\n",
            "\n",
            "0\n",
            "movie.gross_revenue\n",
            "19\n",
            "\n",
            "0\n",
            "movie.gross_revenue\n",
            "19\n",
            "movie.starring.actor\n",
            "20\n",
            "\n",
            "0\n",
            "\n",
            "0\n",
            "movie.estimated_budget\n",
            "22\n",
            "\n",
            "0\n",
            "none\n",
            "4\n",
            "\n",
            "0\n",
            "\n",
            "0\n",
            "\n",
            "0\n",
            "\n",
            "0\n",
            "none\n",
            "4\n",
            "none\n",
            "4\n",
            "actor.gender_movie.starring.actor\n",
            "33\n",
            "movie.produced_by\n",
            "17\n",
            "movie.produced_by\n",
            "17\n",
            "none\n",
            "4\n",
            "movie.starring.actor\n",
            "20\n",
            "none\n",
            "4\n",
            "none\n",
            "4\n",
            "movie.directed_by\n",
            "17\n",
            "none\n",
            "4\n",
            "movie.initial_release_date\n",
            "26\n",
            "movie.genre\n",
            "11\n",
            "movie.starring.actor\n",
            "20\n",
            "movie.directed_by\n",
            "17\n",
            "none\n",
            "4\n",
            "\n",
            "0\n",
            "none\n",
            "4\n",
            "movie.produced_by\n",
            "17\n",
            "none\n",
            "4\n",
            "movie.produced_by\n",
            "17\n",
            "movie.directed_by\n",
            "17\n",
            "movie.directed_by\n",
            "17\n",
            "movie.directed_bymovie.produced_by\n",
            "34\n",
            "movie.genre\n",
            "11\n",
            "\n",
            "0\n",
            "movie.starring.actor\n",
            "20\n",
            "movie.starring.actor\n",
            "20\n",
            "movie.starring.actor\n",
            "20\n",
            "none\n",
            "4\n",
            "none\n",
            "4\n",
            "movie.directed_by\n",
            "17\n",
            "movie.directed_by\n",
            "17\n",
            "\n",
            "0\n",
            "movie.directed_by\n",
            "17\n",
            "movie.directed_by\n",
            "17\n",
            "movie.starring.actor\n",
            "20\n",
            "\n",
            "0\n",
            "\n",
            "0\n",
            "movie.starring.actor\n",
            "20\n",
            "\n",
            "0\n",
            "\n",
            "0\n",
            "movie.initial_release_date\n",
            "26\n",
            "movie.starring.actor\n",
            "20\n",
            "movie.rating\n",
            "12\n",
            "movie.production_companies\n",
            "26\n",
            "\n",
            "0\n",
            "movie.starring.actor\n",
            "20\n",
            "movie.countrymovie.initial_release_date\n",
            "39\n",
            "\n",
            "0\n",
            "\n",
            "0\n",
            "movie.country\n",
            "13\n",
            "movie.rating\n",
            "12\n",
            "movie.countrymovie.initial_release_date\n",
            "39\n",
            "movie.starring.actor\n",
            "20\n",
            "movie.country\n",
            "13\n",
            "movie.country_movie.languagemovie.starring.actor\n",
            "48\n",
            "movie.rating\n",
            "12\n",
            "movie.subjects\n",
            "14\n",
            "movie.starring.actor\n",
            "20\n",
            "movie.language\n",
            "14\n",
            "none\n",
            "4\n",
            "none\n",
            "4\n",
            "movie.country_movie.languagemovie.language\n",
            "42\n",
            "\n",
            "0\n",
            "movie.country_movie.language\n",
            "28\n",
            "movie.subjects\n",
            "14\n",
            "movie.starring.actor\n",
            "20\n",
            "\n",
            "0\n",
            "movie.subjects\n",
            "14\n",
            "\n",
            "0\n",
            "movie.country_movie.languagenone\n",
            "32\n",
            "\n",
            "0\n",
            "none\n",
            "4\n",
            "\n",
            "0\n",
            "none\n",
            "4\n",
            "none\n",
            "4\n",
            "\n",
            "0\n",
            "\n",
            "0\n",
            "\n",
            "0\n",
            "movie.rating\n",
            "12\n",
            "movie.rating\n",
            "12\n",
            "movie.initial_release_date\n",
            "26\n",
            "movie.rating\n",
            "12\n",
            "movie.rating\n",
            "12\n",
            "movie.rating\n",
            "12\n",
            "movie.rating\n",
            "12\n",
            "movie.rating\n",
            "12\n",
            "movie.rating\n",
            "12\n",
            "movie.rating\n",
            "12\n",
            "movie.rating\n",
            "12\n",
            "movie.rating\n",
            "12\n",
            "movie.rating\n",
            "12\n",
            "movie.rating\n",
            "12\n",
            "movie.rating\n",
            "12\n",
            "movie.rating\n",
            "12\n",
            "movie.rating\n",
            "12\n",
            "movie.gross_revenue\n",
            "19\n",
            "movie.estimated_budget\n",
            "22\n",
            "none\n",
            "4\n",
            "\n",
            "0\n",
            "movie.country\n",
            "13\n",
            "none\n",
            "4\n",
            "none\n",
            "4\n",
            "none\n",
            "4\n",
            "\n",
            "0\n",
            "none\n",
            "4\n",
            "none\n",
            "4\n",
            "none\n",
            "4\n",
            "movie.country_movie.language\n",
            "28\n",
            "none\n",
            "4\n",
            "none\n",
            "4\n",
            "none\n",
            "4\n",
            "none\n",
            "4\n",
            "none\n",
            "4\n",
            "none\n",
            "4\n",
            "none\n",
            "4\n",
            "none\n",
            "4\n",
            "\n",
            "0\n",
            "none\n",
            "4\n",
            "movie.country\n",
            "13\n",
            "\n",
            "0\n",
            "movie.directed_by_movie.starring.actor\n",
            "38\n",
            "\n",
            "0\n"
          ]
        }
      ]
    }
  ]
}